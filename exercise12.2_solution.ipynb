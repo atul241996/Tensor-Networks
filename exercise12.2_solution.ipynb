{
 "cells": [
  {
   "cell_type": "markdown",
   "metadata": {},
   "source": [
    "# Shallow quantum circuits"
   ]
  },
  {
   "cell_type": "code",
   "execution_count": 1,
   "metadata": {},
   "outputs": [],
   "source": [
    "import numpy as np"
   ]
  },
  {
   "cell_type": "markdown",
   "metadata": {},
   "source": [
    "## Utility functions"
   ]
  },
  {
   "cell_type": "code",
   "execution_count": 2,
   "metadata": {},
   "outputs": [],
   "source": [
    "def crandn(size):\n",
    "    \"\"\"\n",
    "    Draw random samples from the standard complex normal (Gaussian) distribution.\n",
    "    \"\"\"\n",
    "    # 1/sqrt(2) is a normalization factor\n",
    "    return (np.random.normal(size=size) + 1j*np.random.normal(size=size)) / np.sqrt(2)"
   ]
  },
  {
   "cell_type": "code",
   "execution_count": 3,
   "metadata": {},
   "outputs": [],
   "source": [
    "def retained_bond_indices(s, tol):\n",
    "    \"\"\"\n",
    "    Indices of retained singular values based on given tolerance.\n",
    "    \"\"\"\n",
    "    w = np.linalg.norm(s)\n",
    "    if w == 0:\n",
    "        return np.array([], dtype=int)\n",
    "    # normalized squares\n",
    "    s = (s / w)**2\n",
    "    # accumulate values from smallest to largest\n",
    "    sort_idx = np.argsort(s)\n",
    "    s[sort_idx] = np.cumsum(s[sort_idx])\n",
    "    return np.where(s > tol)[0]"
   ]
  },
  {
   "cell_type": "code",
   "execution_count": 4,
   "metadata": {},
   "outputs": [],
   "source": [
    "def split_matrix_svd(A, tol):\n",
    "    \"\"\"\n",
    "    Split a matrix by singular value decomposition,\n",
    "    and truncate small singular values based on tolerance.\n",
    "    \"\"\"\n",
    "    assert A.ndim == 2\n",
    "    u, s, v = np.linalg.svd(A, full_matrices=False)\n",
    "    # truncate small singular values\n",
    "    idx = retained_bond_indices(s, tol)\n",
    "    u = u[:, idx]\n",
    "    v = v[idx, :]\n",
    "    s = s[idx]\n",
    "    return u, s, v"
   ]
  },
  {
   "cell_type": "markdown",
   "metadata": {},
   "source": [
    "## MPS class and related utility functions"
   ]
  },
  {
   "cell_type": "code",
   "execution_count": 5,
   "metadata": {},
   "outputs": [],
   "source": [
    "def local_orthonormalize_left_qr(A, Anext):\n",
    "    \"\"\"\n",
    "    Left-orthonormalize a MPS tensor `A` by a QR decomposition,\n",
    "    and update tensor at next site.\n",
    "    \"\"\"\n",
    "    # perform QR decomposition and replace A by reshaped Q matrix\n",
    "    s = A.shape\n",
    "    assert len(s) == 3\n",
    "    Q, R = np.linalg.qr(np.reshape(A, (s[0]*s[1], s[2])), mode='reduced')\n",
    "    A = np.reshape(Q, (s[0], s[1], Q.shape[1]))\n",
    "    # update Anext tensor: multiply with R from left\n",
    "    Anext = np.transpose(np.tensordot(R, Anext, (1, 1)), (1, 0, 2))\n",
    "    return A, Anext"
   ]
  },
  {
   "cell_type": "code",
   "execution_count": 6,
   "metadata": {},
   "outputs": [],
   "source": [
    "def local_orthonormalize_right_qr(A, Aprev):\n",
    "    \"\"\"\n",
    "    Right-orthonormalize a MPS tensor `A` by a QR decomposition,\n",
    "    and update tensor at previous site.\n",
    "    \"\"\"\n",
    "    # flip left and right virtual bond dimensions\n",
    "    A = np.transpose(A, (0, 2, 1))\n",
    "    # perform QR decomposition and replace A by reshaped Q matrix\n",
    "    s = A.shape\n",
    "    assert len(s) == 3\n",
    "    Q, R = np.linalg.qr(np.reshape(A, (s[0]*s[1], s[2])), mode='reduced')\n",
    "    A = np.transpose(np.reshape(Q, (s[0], s[1], Q.shape[1])), (0, 2, 1))\n",
    "    # update Aprev tensor: multiply with R from right\n",
    "    Aprev = np.tensordot(Aprev, R, (2, 1))\n",
    "    return A, Aprev"
   ]
  },
  {
   "cell_type": "code",
   "execution_count": 7,
   "metadata": {},
   "outputs": [],
   "source": [
    "def merge_mps_tensor_pair(A0, A1):\n",
    "    \"\"\"\n",
    "    Merge two neighboring MPS tensors.\n",
    "    \"\"\"\n",
    "    A = np.tensordot(A0, A1, (2, 1))\n",
    "    # pair original physical dimensions of A0 and A1\n",
    "    A = A.transpose((0, 2, 1, 3))\n",
    "    # combine original physical dimensions\n",
    "    A = A.reshape((A.shape[0]*A.shape[1], A.shape[2], A.shape[3]))\n",
    "    return A"
   ]
  },
  {
   "cell_type": "code",
   "execution_count": 8,
   "metadata": {},
   "outputs": [],
   "source": [
    "class MPS(object):\n",
    "    \"\"\"\n",
    "    Matrix product state (MPS) class.\n",
    "\n",
    "    The i-th MPS tensor has dimension `[d, D[i], D[i+1]]` with `d` the physical\n",
    "    dimension at each site and `D` the list of virtual bond dimensions.\n",
    "    \"\"\"\n",
    "\n",
    "    def __init__(self, d, D, fill='zero'):\n",
    "        \"\"\"\n",
    "        Create a matrix product state.\n",
    "        \"\"\"\n",
    "        self.d = d\n",
    "        # leading and trailing bond dimensions must agree (typically 1)\n",
    "        assert D[0] == D[-1]\n",
    "        if fill == 'zero':\n",
    "            self.A = [np.zeros((d, D[i], D[i+1])) for i in range(len(D)-1)]\n",
    "        elif fill == 'random real':\n",
    "            # random real entries\n",
    "            self.A = [np.random.normal(size=(d, D[i], D[i+1])) / np.sqrt(d*D[i]*D[i+1]) for i in range(len(D)-1)]\n",
    "        elif fill == 'random complex':\n",
    "            # random complex entries\n",
    "            self.A = [crandn(size=(d, D[i], D[i+1])) / np.sqrt(d*D[i]*D[i+1]) for i in range(len(D)-1)]\n",
    "        else:\n",
    "            raise ValueError('fill = {} invalid.'.format(fill))\n",
    "\n",
    "    @classmethod\n",
    "    def from_tensors(cls, Alist):\n",
    "        \"\"\"\n",
    "        Construct a MPS from a list of tensors.\n",
    "        \"\"\"\n",
    "        # create a MPS with dummy tensors\n",
    "        s = cls(2, (len(Alist) + 1) * [1])\n",
    "        # assign the actual tensors from `Alist`\n",
    "        s.A = [np.array(A) for A in Alist]\n",
    "        s.d = s.A[0].shape[0]\n",
    "        # consistency checks\n",
    "        for j in range(len(s.A)):\n",
    "            assert s.A[j].ndim == 3, \"Each MPS tensor must be of degree 3.\"\n",
    "            assert s.d == s.A[j].shape[0], \"Physical dimension not consistent across MPS tensors.\"\n",
    "            assert s.A[j].shape[2] == s.A[(j+1) % len(s.A)].shape[1], \"Incompatible virtual bond dimensions.\"\n",
    "        return s\n",
    "\n",
    "    @property\n",
    "    def local_dim(self):\n",
    "        \"\"\"Local (physical) dimension at each lattice site.\"\"\"\n",
    "        return self.d\n",
    "\n",
    "    @property\n",
    "    def nsites(self):\n",
    "        \"\"\"Number of lattice sites.\"\"\"\n",
    "        return len(self.A)\n",
    "\n",
    "    @property\n",
    "    def bond_dims(self):\n",
    "        \"\"\"Virtual bond dimensions.\"\"\"\n",
    "        if len(self.A) == 0:\n",
    "            return []\n",
    "        else:\n",
    "            D = [self.A[i].shape[1] for i in range(len(self.A))]\n",
    "            D.append(self.A[-1].shape[2])\n",
    "            return D\n",
    "\n",
    "    @property\n",
    "    def dtype(self):\n",
    "        \"\"\"Data type of tensor entries.\"\"\"\n",
    "        return self.A[0].dtype\n",
    "\n",
    "    def orthonormalize(self, mode='left'):\n",
    "        \"\"\"Left- or right-orthonormalize the MPS using QR decompositions.\"\"\"\n",
    "        if len(self.A) == 0:\n",
    "            return\n",
    "\n",
    "        if mode == 'left':\n",
    "            for i in range(len(self.A) - 1):\n",
    "                self.A[i], self.A[i+1] = local_orthonormalize_left_qr(self.A[i], self.A[i+1])\n",
    "            # last tensor\n",
    "            self.A[-1], T = local_orthonormalize_left_qr(self.A[-1], np.array([[[1.0]]]))\n",
    "            # normalization factor (real-valued since diagonal of R matrix is real)\n",
    "            assert T.shape == (1, 1, 1)\n",
    "            nrm = T[0, 0, 0].real\n",
    "            if nrm < 0:\n",
    "                # flip sign such that normalization factor is always non-negative\n",
    "                self.A[-1] = -self.A[-1]\n",
    "                nrm = -nrm\n",
    "            return nrm\n",
    "        elif mode == 'right':\n",
    "            for i in reversed(range(1, len(self.A))):\n",
    "                self.A[i], self.A[i-1] = local_orthonormalize_right_qr(self.A[i], self.A[i-1])\n",
    "            # first tensor\n",
    "            self.A[0], T = local_orthonormalize_right_qr(self.A[0], np.array([[[1.0]]]))\n",
    "            # normalization factor (real-valued since diagonal of R matrix is real)\n",
    "            assert T.shape == (1, 1, 1)\n",
    "            nrm = T[0, 0, 0].real\n",
    "            if nrm < 0:\n",
    "                # flip sign such that normalization factor is always non-negative\n",
    "                self.A[0] = -self.A[0]\n",
    "                nrm = -nrm\n",
    "            return nrm\n",
    "        else:\n",
    "            raise ValueError('mode = {} invalid; must be \"left\" or \"right\".'.format(mode))\n",
    "\n",
    "    def as_vector(self):\n",
    "        \"\"\"Merge all tensors to obtain the vector representation on the full Hilbert space.\"\"\"\n",
    "        psi = self.A[0]\n",
    "        for i in range(1, len(self.A)):\n",
    "            psi = merge_mps_tensor_pair(psi, self.A[i])\n",
    "        assert psi.ndim == 3\n",
    "        # contract leftmost and rightmost virtual bond (has no influence if these virtual bond dimensions are 1)\n",
    "        psi = np.trace(psi, axis1=1, axis2=2)\n",
    "        return psi"
   ]
  },
  {
   "cell_type": "code",
   "execution_count": 9,
   "metadata": {},
   "outputs": [],
   "source": [
    "def split_mps_tensor(A, d0, d1, svd_distr, tol=0):\n",
    "    \"\"\"\n",
    "    Split a MPS tensor with dimension `d0*d1 x D0 x D2` into two MPS tensors\n",
    "    with dimensions `d0 x D0 x D1` and `d1 x D1 x D2`, respectively.\n",
    "    \"\"\"\n",
    "    assert A.ndim == 3\n",
    "    assert d0 * d1 == A.shape[0], 'physical dimension of MPS tensor must be equal to d0 * d1'\n",
    "    # reshape as matrix and split by SVD\n",
    "    A = np.transpose(np.reshape(A, (d0, d1, A.shape[1], A.shape[2])), (0, 2, 1, 3))\n",
    "    s = A.shape\n",
    "    A0, sigma, A1 = split_matrix_svd(A.reshape((s[0]*s[1], s[2]*s[3])), tol)\n",
    "    A0.shape = (s[0], s[1], len(sigma))\n",
    "    A1.shape = (len(sigma), s[2], s[3])\n",
    "    # use broadcasting to distribute singular values\n",
    "    if svd_distr == 'left':\n",
    "        A0 = A0 * sigma\n",
    "    elif svd_distr == 'right':\n",
    "        A1 = A1 * sigma[:, None, None]\n",
    "    elif svd_distr == 'sqrt':\n",
    "        s = np.sqrt(sigma)\n",
    "        A0 = A0 * s\n",
    "        A1 = A1 * s[:, None, None]\n",
    "    else:\n",
    "        raise ValueError('svd_distr parameter must be \"left\", \"right\" or \"sqrt\".')\n",
    "    # move physical dimension to the front\n",
    "    A1 = A1.transpose((1, 0, 2))\n",
    "    return A0, A1"
   ]
  },
  {
   "cell_type": "code",
   "execution_count": 10,
   "metadata": {},
   "outputs": [],
   "source": [
    "def is_left_orthonormal(A):\n",
    "    \"\"\"\n",
    "    Test whether a MPS tensor `A` is left-orthonormal.\n",
    "    \"\"\"\n",
    "    s = A.shape\n",
    "    assert len(s) == 3\n",
    "    A = np.reshape(A, (s[0]*s[1], s[2]))\n",
    "    return np.allclose(A.conj().T @ A, np.identity(s[2]))"
   ]
  },
  {
   "cell_type": "code",
   "execution_count": 11,
   "metadata": {},
   "outputs": [],
   "source": [
    "def is_right_orthonormal(A):\n",
    "    \"\"\"\n",
    "    Test whether a MPS tensor `A` is right-orthonormal.\n",
    "    \"\"\"\n",
    "    # call `is_left_orthonormal` with flipped left and right virtual bond dimensions\n",
    "    return is_left_orthonormal(np.transpose(A, (0, 2, 1)))"
   ]
  },
  {
   "cell_type": "markdown",
   "metadata": {},
   "source": [
    "## Shifted sequence of two-qubit gates"
   ]
  },
  {
   "cell_type": "code",
   "execution_count": 12,
   "metadata": {},
   "outputs": [],
   "source": [
    "def shifted_gate_sequence_to_mps(Ulist):\n",
    "    \"\"\"\n",
    "    Represent the output of a quantum circuit consisting of\n",
    "    a shifted sequence of two-qubit gates as MPS.\n",
    "\n",
    "             ____\n",
    "     |0> ---|    |------------------------------\n",
    "            | U1 |    ____\n",
    "     |0> ---|____|---|    |---------------------\n",
    "                     | U2 |                   .\n",
    "     |0> ------------|____|---                .\n",
    "                               ...      ____  .\n",
    "                                    ---|    |---\n",
    "                                       | U* |\n",
    "     |0> ------------------------------|____|---\n",
    "\n",
    "    \"\"\"\n",
    "    Alist = []\n",
    "    for U in Ulist:\n",
    "        # application to |0> selects entries corresponding to index 0 at last leg\n",
    "        A = np.reshape(U, (2, 2, 2, 2))[:, :, :, 0]\n",
    "        # still have to flip virtual bond dimensions\n",
    "        A = np.transpose(A, (0, 2, 1))\n",
    "        Alist.append(A)\n",
    "    # contract with topmost qubit in |0> state, keeping a (dummy) virtual bond dimension 1\n",
    "    Alist[0] = Alist[0][:, 0:1, :]\n",
    "    # last MPS tensor acts as identity\n",
    "    Alist.append(np.reshape(np.identity(2), (2, 2, 1)))\n",
    "    return MPS.from_tensors(Alist)"
   ]
  },
  {
   "cell_type": "markdown",
   "metadata": {},
   "source": [
    "### Example: sequence of CNOT gates"
   ]
  },
  {
   "cell_type": "code",
   "execution_count": 13,
   "metadata": {},
   "outputs": [
    {
     "data": {
      "text/plain": [
       "array([[ 0.70710678,  0.70710678],\n",
       "       [ 0.70710678, -0.70710678]])"
      ]
     },
     "execution_count": 13,
     "metadata": {},
     "output_type": "execute_result"
    }
   ],
   "source": [
    "# Hadamard gate\n",
    "H = np.array([[1., 1.], [1., -1.]]) / np.sqrt(2)\n",
    "H"
   ]
  },
  {
   "cell_type": "code",
   "execution_count": 14,
   "metadata": {},
   "outputs": [
    {
     "data": {
      "text/plain": [
       "array([[1., 0., 0., 0.],\n",
       "       [0., 1., 0., 0.],\n",
       "       [0., 0., 0., 1.],\n",
       "       [0., 0., 1., 0.]])"
      ]
     },
     "execution_count": 14,
     "metadata": {},
     "output_type": "execute_result"
    }
   ],
   "source": [
    "# CNOT gate\n",
    "Ucnot = np.identity(4)[[0, 1, 3, 2]]\n",
    "Ucnot"
   ]
  },
  {
   "cell_type": "code",
   "execution_count": 15,
   "metadata": {},
   "outputs": [],
   "source": [
    "d = 5\n",
    "Ulist = [Ucnot @ np.kron(H, np.identity(2)) if j == 0 else Ucnot for j in range(d-1)]"
   ]
  },
  {
   "cell_type": "markdown",
   "metadata": {},
   "source": [
    "If the topmost qubit starts in state $|1\\rangle$ (and the remaining ones in $|0\\rangle$), then the sequence of CNOTs\n",
    "flips all the remaining qubits one-by-one, arriving at $|11 \\dots 1\\rangle$.\n",
    "\n",
    "Here we first apply the Hadamard gate to the topmost qubit, which generates the state $(|0\\rangle + |1\\rangle)/\\sqrt{2}$.\n",
    "By the superposition principle, the final output is then $(|00 \\dots 0\\rangle + |11 \\dots 1\\rangle)/\\sqrt{2}$.\n",
    "In vector form, precisely the first and last entry should be equal to $1/\\sqrt{2}$, and all other entries zero."
   ]
  },
  {
   "cell_type": "code",
   "execution_count": 16,
   "metadata": {},
   "outputs": [],
   "source": [
    "ψ = shifted_gate_sequence_to_mps(Ulist)"
   ]
  },
  {
   "cell_type": "code",
   "execution_count": 17,
   "metadata": {},
   "outputs": [
    {
     "data": {
      "text/plain": [
       "array([0.70710678, 0.        , 0.        , 0.        , 0.        ,\n",
       "       0.        , 0.        , 0.        , 0.        , 0.        ,\n",
       "       0.        , 0.        , 0.        , 0.        , 0.        ,\n",
       "       0.        , 0.        , 0.        , 0.        , 0.        ,\n",
       "       0.        , 0.        , 0.        , 0.        , 0.        ,\n",
       "       0.        , 0.        , 0.        , 0.        , 0.        ,\n",
       "       0.        , 0.70710678])"
      ]
     },
     "execution_count": 17,
     "metadata": {},
     "output_type": "execute_result"
    }
   ],
   "source": [
    "# agrees with analytical prediction\n",
    "ψ.as_vector()"
   ]
  },
  {
   "cell_type": "markdown",
   "metadata": {},
   "source": [
    "### Example: sequence of random gates (for additional testing)"
   ]
  },
  {
   "cell_type": "code",
   "execution_count": 18,
   "metadata": {},
   "outputs": [],
   "source": [
    "# for reference calculation\n",
    "def apply_two_qubit_gate(psi, d, U, i, j):\n",
    "    \"\"\"\n",
    "    Apply the two-qubit gate `U` (acting on qubits i, j) to state vector `psi`.\n",
    "    `d` is the overall number of qubits.\n",
    "    \"\"\"\n",
    "    assert 0 <= i < j < d\n",
    "    assert len(psi) == 2**d\n",
    "    # isolate dimensions corresponding to the qubits the gate acts on\n",
    "    psi = np.reshape(psi, (2**i, 2, 2**(j-i-1), 2, 2**(d-j-1)))\n",
    "    # reshape gate into a tensor of degree 4\n",
    "    U = np.reshape(U, (2, 2, 2, 2))\n",
    "    # actually apply gate (last argument determines dimension ordering of output)\n",
    "    psi = np.einsum(U, (1, 5, 2, 4), psi, (0, 2, 3, 4, 6), (0, 1, 3, 5, 6))\n",
    "    # flatten back to a vector\n",
    "    psi = np.reshape(psi, -1)\n",
    "    return psi"
   ]
  },
  {
   "cell_type": "code",
   "execution_count": 19,
   "metadata": {},
   "outputs": [],
   "source": [
    "d = 5\n",
    "# random unitary gates\n",
    "Ulist = [np.linalg.qr(crandn((4, 4)))[0] for j in range(d-1)]"
   ]
  },
  {
   "cell_type": "code",
   "execution_count": 20,
   "metadata": {},
   "outputs": [],
   "source": [
    "# reference calculation\n",
    "# start with unit vector corresponding to |00...0>\n",
    "χ = np.zeros(2**d)\n",
    "χ[0] = 1\n",
    "# apply gates\n",
    "for j in range(d-1):\n",
    "    χ = apply_two_qubit_gate(χ, d, Ulist[j], j, j+1)"
   ]
  },
  {
   "cell_type": "code",
   "execution_count": 21,
   "metadata": {},
   "outputs": [
    {
     "data": {
      "text/plain": [
       "1.0000000000000002"
      ]
     },
     "execution_count": 21,
     "metadata": {},
     "output_type": "execute_result"
    }
   ],
   "source": [
    "# should still be normalized\n",
    "np.linalg.norm(χ)"
   ]
  },
  {
   "cell_type": "code",
   "execution_count": 22,
   "metadata": {},
   "outputs": [
    {
     "data": {
      "text/plain": [
       "array([ 0.01853535+0.12058069j,  0.13202861+0.09829634j,\n",
       "       -0.10457343-0.10939952j, -0.03467736+0.10282173j,\n",
       "       -0.01224346-0.09890856j,  0.05603962-0.01977798j,\n",
       "       -0.02209161+0.08445907j,  0.0152397 +0.01529514j,\n",
       "       -0.07239654-0.12229871j, -0.05168653+0.05658178j,\n",
       "        0.06411507+0.03624088j, -0.04961934-0.03812987j,\n",
       "       -0.0196241 -0.04382513j,  0.10406197-0.07667183j,\n",
       "       -0.0341942 +0.09121832j,  0.05270061+0.04287218j,\n",
       "       -0.03111464+0.0009412j , -0.10043367+0.05370974j,\n",
       "        0.06797315-0.04955231j, -0.04693685-0.04910051j,\n",
       "        0.09737139+0.00767138j,  0.01008283+0.10203335j,\n",
       "       -0.08603514-0.06302986j, -0.04226432+0.018331j  ,\n",
       "       -0.06134561-0.43091114j, -0.2382391 +0.15692401j,\n",
       "        0.14322066+0.13986859j, -0.13105216-0.17328179j,\n",
       "        0.04109717-0.18737146j,  0.44235284-0.05005634j,\n",
       "       -0.27450025+0.22773645j,  0.08677888+0.21506166j])"
      ]
     },
     "execution_count": 22,
     "metadata": {},
     "output_type": "execute_result"
    }
   ],
   "source": [
    "# show entries\n",
    "χ"
   ]
  },
  {
   "cell_type": "code",
   "execution_count": 23,
   "metadata": {},
   "outputs": [],
   "source": [
    "ψ = shifted_gate_sequence_to_mps(Ulist)"
   ]
  },
  {
   "cell_type": "code",
   "execution_count": 24,
   "metadata": {},
   "outputs": [
    {
     "data": {
      "text/plain": [
       "True"
      ]
     },
     "execution_count": 24,
     "metadata": {},
     "output_type": "execute_result"
    }
   ],
   "source": [
    "# compare\n",
    "np.allclose(ψ.as_vector(), χ)"
   ]
  },
  {
   "cell_type": "markdown",
   "metadata": {},
   "source": [
    "## Shifted double sequence of two-qubit gates"
   ]
  },
  {
   "cell_type": "code",
   "execution_count": 25,
   "metadata": {},
   "outputs": [],
   "source": [
    "def shifted_double_gate_sequence_to_mps(Ulist, Vlist):\n",
    "    \"\"\"\n",
    "    Represent the output of a quantum circuit consisting of\n",
    "    two shifted sequences of two-qubit gates as MPS.\n",
    "\n",
    "             ____              ____\n",
    "     |0> ---|    |------------|    |------------------------------------------------\n",
    "            | U1 |    ____    | V1 |    ____\n",
    "     |0> ---|____|---|    |---|____|---|    |---------------------------------------\n",
    "                     | U2 |    ____    | V2 |\n",
    "     |0> ------------|____|---|    |---|____|---                                  .\n",
    "                              | U3 |                                              .\n",
    "     |0> ---------------------|____|---        .                                  .\n",
    "                                                   .               ____\n",
    "                                                       .       ---|    |------------\n",
    "                                                          ____    | V* |    ____\n",
    "                                                      ---|    |---|____|---|    |---\n",
    "                                                         | U* |            | V* |   \n",
    "     |0> ------------------------------------------------|____|------------|____|---\n",
    "\n",
    "    \"\"\"\n",
    "    assert len(Ulist) == len(Vlist)\n",
    "    # convert sequence of U gates to a MPS\n",
    "    psi = shifted_gate_sequence_to_mps(Ulist)\n",
    "    # apply the V gates to the MPS (similar to the TEBD algorithm)\n",
    "    for i in range(len(Vlist)):\n",
    "        Apair = merge_mps_tensor_pair(psi.A[i], psi.A[i+1])\n",
    "        assert Apair.ndim == 3\n",
    "        # apply V[i]\n",
    "        Apair = np.tensordot(Vlist[i], Apair, axes=(1, 0))\n",
    "        # set \"tolerance\" to zero to avoid truncation errors\n",
    "        psi.A[i], psi.A[i+1] = split_mps_tensor(Apair, psi.local_dim, psi.local_dim, \"right\", tol=0)\n",
    "    return psi"
   ]
  },
  {
   "cell_type": "markdown",
   "metadata": {},
   "source": [
    "### Example: sequence of random gates (for testing)"
   ]
  },
  {
   "cell_type": "code",
   "execution_count": 26,
   "metadata": {},
   "outputs": [],
   "source": [
    "d = 5\n",
    "# random unitary gates\n",
    "Ulist = [np.linalg.qr(crandn((4, 4)))[0] for j in range(d-1)]\n",
    "Vlist = [np.linalg.qr(crandn((4, 4)))[0] for j in range(d-1)]"
   ]
  },
  {
   "cell_type": "code",
   "execution_count": 27,
   "metadata": {},
   "outputs": [],
   "source": [
    "# reference calculation\n",
    "# start with unit vector corresponding to |00...0>\n",
    "χ = np.zeros(2**d)\n",
    "χ[0] = 1\n",
    "# apply gates\n",
    "for j in range(d-1):\n",
    "    χ = apply_two_qubit_gate(χ, d, Ulist[j], j, j+1)\n",
    "for j in range(d-1):\n",
    "    χ = apply_two_qubit_gate(χ, d, Vlist[j], j, j+1)"
   ]
  },
  {
   "cell_type": "code",
   "execution_count": 28,
   "metadata": {},
   "outputs": [
    {
     "data": {
      "text/plain": [
       "1.0"
      ]
     },
     "execution_count": 28,
     "metadata": {},
     "output_type": "execute_result"
    }
   ],
   "source": [
    "# should still be normalized\n",
    "np.linalg.norm(χ)"
   ]
  },
  {
   "cell_type": "code",
   "execution_count": 29,
   "metadata": {},
   "outputs": [],
   "source": [
    "ψ = shifted_double_gate_sequence_to_mps(Ulist, Vlist)"
   ]
  },
  {
   "cell_type": "code",
   "execution_count": 30,
   "metadata": {},
   "outputs": [
    {
     "data": {
      "text/plain": [
       "True"
      ]
     },
     "execution_count": 30,
     "metadata": {},
     "output_type": "execute_result"
    }
   ],
   "source": [
    "# compare\n",
    "np.allclose(ψ.as_vector(), χ)"
   ]
  }
 ],
 "metadata": {
  "kernelspec": {
   "display_name": "Python 3 (ipykernel)",
   "language": "python",
   "name": "python3"
  },
  "language_info": {
   "codemirror_mode": {
    "name": "ipython",
    "version": 3
   },
   "file_extension": ".py",
   "mimetype": "text/x-python",
   "name": "python",
   "nbconvert_exporter": "python",
   "pygments_lexer": "ipython3",
   "version": "3.9.7"
  }
 },
 "nbformat": 4,
 "nbformat_minor": 4
}
