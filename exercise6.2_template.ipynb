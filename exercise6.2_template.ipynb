{
 "cells": [
  {
   "cell_type": "code",
   "execution_count": 1,
   "metadata": {},
   "outputs": [],
   "source": [
    "import numpy as np"
   ]
  },
  {
   "cell_type": "code",
   "execution_count": null,
   "metadata": {},
   "outputs": [],
   "source": [
    "def mps_vdot(Alist, Blist):\n",
    "    \"\"\"\n",
    "    Compute the inner product of two tensors in MPS format, with the convention that\n",
    "    the complex conjugate of the tensor represented by the first argument is used.\n",
    "\n",
    "    The i-th MPS tensor Alist[i] is expected to have dimensions (n[i], Da[i], Da[i+1]),\n",
    "    and similarly Blist[i] must have dimensions                 (n[i], Db[i], Db[i+1]),\n",
    "    with `n` the list of logical dimensions and `Da`, `Db` the lists of virtual bond dimensions.\n",
    "    \"\"\"\n",
    "    # TODO: implement this function"
   ]
  },
  {
   "cell_type": "code",
   "execution_count": 3,
   "metadata": {},
   "outputs": [],
   "source": [
    "def mps_to_full_tensor(Alist):\n",
    "    \"\"\"\n",
    "    Construct the full tensor corresponding to the MPS tensors `Alist`.\n",
    "\n",
    "    The i-th MPS tensor Alist[i] is expected to have dimensions (n[i], D[i], D[i+1]),\n",
    "    with `n` the list of logical dimensions and `D` the list of virtual bond dimensions.\n",
    "    \"\"\"\n",
    "    # consistency check: dummy singleton dimension\n",
    "    assert Alist[0].ndim == 3 and Alist[0].shape[1] == 1\n",
    "    # formally remove dummy singleton dimension\n",
    "    T = np.reshape(Alist[0], (Alist[0].shape[0], Alist[0].shape[2]))\n",
    "    # contract virtual bonds\n",
    "    for i in range(1, len(Alist)):\n",
    "        T = np.tensordot(T, Alist[i], axes=(-1, 1))\n",
    "    # consistency check: trailing dummy singleton dimension\n",
    "    assert T.shape[-1] == 1\n",
    "    # formally remove trailing singleton dimension\n",
    "    T = np.reshape(T, T.shape[:-1])\n",
    "    return T"
   ]
  },
  {
   "cell_type": "code",
   "execution_count": 4,
   "metadata": {},
   "outputs": [],
   "source": [
    "def crandn(size):\n",
    "    \"\"\"\n",
    "    Draw random samples from the standard complex normal (Gaussian) distribution.\n",
    "    \"\"\"\n",
    "    # 1/sqrt(2) is a normalization factor\n",
    "    return (np.random.normal(size=size) + 1j*np.random.normal(size=size)) / np.sqrt(2)"
   ]
  },
  {
   "cell_type": "code",
   "execution_count": 5,
   "metadata": {},
   "outputs": [],
   "source": [
    "# logical dimensions\n",
    "n = [2, 5, 1, 4, 3]\n",
    "\n",
    "# virtual bond dimensions (rather arbitrarily chosen) \n",
    "Da = [1, 3, 4, 7, 6, 1]\n",
    "Db = [1, 4, 9, 8, 5, 1]\n",
    "\n",
    "# random MPS matrices (the scaling factor keeps the norm of the full tensor in a reasonable range)\n",
    "np.random.seed(42)\n",
    "Alist = [0.4 * crandn((n[i], Da[i], Da[i+1])) for i in range(len(n))]\n",
    "Blist = [0.4 * crandn((n[i], Db[i], Db[i+1])) for i in range(len(n))]"
   ]
  },
  {
   "cell_type": "code",
   "execution_count": 6,
   "metadata": {},
   "outputs": [
    {
     "data": {
      "text/plain": [
       "5"
      ]
     },
     "execution_count": 6,
     "metadata": {},
     "output_type": "execute_result"
    }
   ],
   "source": [
    "len(Alist)"
   ]
  },
  {
   "cell_type": "code",
   "execution_count": 7,
   "metadata": {},
   "outputs": [
    {
     "data": {
      "text/plain": [
       "(5, 3, 4)"
      ]
     },
     "execution_count": 7,
     "metadata": {},
     "output_type": "execute_result"
    }
   ],
   "source": [
    "Alist[1].shape"
   ]
  },
  {
   "cell_type": "code",
   "execution_count": 8,
   "metadata": {},
   "outputs": [
    {
     "data": {
      "text/plain": [
       "array([[[ 0.06843727-0.01013313j, -0.54115737+0.44254806j,\n",
       "         -0.48788044-0.74097581j, -0.15903893+0.23246913j],\n",
       "        [-0.2864719 +0.02462063j,  0.08888257-0.08457205j,\n",
       "         -0.25682799+0.02595387j, -0.39945981-0.56216938j],\n",
       "        [ 0.41454807-0.06213259j, -0.06385918+0.10100669j,\n",
       "          0.01909986+0.41801156j, -0.40297964-0.14658895j]],\n",
       "\n",
       "       [[-0.15397469-0.22867652j,  0.03137365-0.14191832j,\n",
       "         -0.32555015+0.25891482j,  0.10626345+0.09298486j],\n",
       "        [-0.16988628-0.14983881j, -0.08250345+0.14517395j,\n",
       "         -0.17018833+0.02745768j,  0.52390339+0.27397418j],\n",
       "        [-0.00381759-0.1985706j , -0.29916583-0.09267685j,\n",
       "          0.23265083-0.11090493j, -0.34530673-0.41394454j]],\n",
       "\n",
       "       [[ 0.05907555+0.08375546j, -0.55427841+0.07383758j,\n",
       "         -0.37566774+0.0014463j ,  0.05568077-0.06635126j],\n",
       "        [ 0.20886989-0.4003273j ,  0.04847027-0.11897646j,\n",
       "         -0.03271027-0.0969343j , -0.08516499-0.22691828j],\n",
       "        [-0.41818917-0.04561849j, -0.20360269+0.11428284j,\n",
       "         -0.13028832+0.53349394j,  0.29899932+0.04937806j]],\n",
       "\n",
       "       [[ 0.09718993+0.07284625j, -0.49866306-0.02105648j,\n",
       "          0.09166479-0.54271046j, -0.10891772-0.00749926j],\n",
       "        [-0.19146245+0.01703568j,  0.17300818+0.69671008j,\n",
       "          0.2916107 -0.0544079j ,  0.26340579+0.08529047j],\n",
       "        [-0.23736656-0.00981797j, -0.08745847-0.33055207j,\n",
       "          0.09369545+0.3232391j ,  0.27592583+0.21267878j]],\n",
       "\n",
       "       [[-0.13553094+0.22373762j, -0.05251229-0.25721361j,\n",
       "         -0.31291878+0.39677015j, -0.33833833-0.39650336j],\n",
       "        [ 0.22981701+0.16598825j,  0.38360261+0.61955441j,\n",
       "         -0.02036754-0.28016598j,  0.28384197-0.16017319j],\n",
       "        [ 0.10228611+0.02818566j, -0.18246742-0.14240442j,\n",
       "          0.10221811-0.43859385j,  0.43502243+0.01939254j]]])"
      ]
     },
     "execution_count": 8,
     "metadata": {},
     "output_type": "execute_result"
    }
   ],
   "source": [
    "# show entries of one of the MPS tensors, as illustration\n",
    "Alist[1]"
   ]
  },
  {
   "cell_type": "code",
   "execution_count": 9,
   "metadata": {},
   "outputs": [
    {
     "name": "stdout",
     "output_type": "stream",
     "text": [
      "n: [2, 5, 1, 4, 3]\n",
      "S.shape: (2, 5, 1, 4, 3)\n",
      "T.shape: (2, 5, 1, 4, 3)\n"
     ]
    }
   ],
   "source": [
    "# construct S and T as full tensors\n",
    "# (only for testing - in practice one usually works with the MPS matrices directly!)\n",
    "S = mps_to_full_tensor(Alist)\n",
    "T = mps_to_full_tensor(Blist)\n",
    "\n",
    "# should all agree\n",
    "print(\"n:\", n)\n",
    "print(\"S.shape:\", S.shape)\n",
    "print(\"T.shape:\", T.shape)\n",
    "\n",
    "# dimension consistency checks\n",
    "assert np.array_equal(np.array(S.shape), np.array(n))\n",
    "assert np.array_equal(np.array(T.shape), np.array(n))"
   ]
  },
  {
   "cell_type": "code",
   "execution_count": 10,
   "metadata": {},
   "outputs": [
    {
     "data": {
      "text/plain": [
       "(0.25202805071270024-0.24177253548110617j)"
      ]
     },
     "execution_count": 10,
     "metadata": {},
     "output_type": "execute_result"
    }
   ],
   "source": [
    "# reference value for inner product\n",
    "inner_ref = np.vdot(np.reshape(S, -1), np.reshape(T, -1))\n",
    "inner_ref"
   ]
  },
  {
   "cell_type": "code",
   "execution_count": null,
   "metadata": {},
   "outputs": [],
   "source": [
    "# compare with implementation based on efficient contraction\n",
    "inner = mps_vdot(Alist, Blist)\n",
    "inner"
   ]
  },
  {
   "cell_type": "code",
   "execution_count": null,
   "metadata": {},
   "outputs": [],
   "source": [
    "# relative error (should be zero up to numerical rounding errors)\n",
    "print(\"relative error:\", abs(inner - inner_ref) / abs(inner_ref))"
   ]
  }
 ],
 "metadata": {
  "kernelspec": {
   "display_name": "Python 3",
   "language": "python",
   "name": "python3"
  },
  "language_info": {
   "codemirror_mode": {
    "name": "ipython",
    "version": 3
   },
   "file_extension": ".py",
   "mimetype": "text/x-python",
   "name": "python",
   "nbconvert_exporter": "python",
   "pygments_lexer": "ipython3",
   "version": "3.8.4"
  }
 },
 "nbformat": 4,
 "nbformat_minor": 4
}
