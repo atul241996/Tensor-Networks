{
 "cells": [
  {
   "cell_type": "markdown",
   "metadata": {},
   "source": [
    "# DMRG and TEBD algorithms"
   ]
  },
  {
   "cell_type": "code",
   "execution_count": null,
   "metadata": {},
   "outputs": [],
   "source": [
    "import numpy as np\n",
    "from scipy.linalg import expm\n",
    "from scipy import sparse\n",
    "import scipy.sparse.linalg as scila\n",
    "from copy import deepcopy\n",
    "import matplotlib.pyplot as plt"
   ]
  },
  {
   "cell_type": "markdown",
   "metadata": {},
   "source": [
    "## Utility functions"
   ]
  },
  {
   "cell_type": "code",
   "execution_count": null,
   "metadata": {},
   "outputs": [],
   "source": [
    "def crandn(size):\n",
    "    \"\"\"\n",
    "    Draw random samples from the standard complex normal (Gaussian) distribution.\n",
    "    \"\"\"\n",
    "    # 1/sqrt(2) is a normalization factor\n",
    "    return (np.random.normal(size=size) + 1j*np.random.normal(size=size)) / np.sqrt(2)"
   ]
  },
  {
   "cell_type": "code",
   "execution_count": null,
   "metadata": {},
   "outputs": [],
   "source": [
    "def retained_bond_indices(s, tol):\n",
    "    \"\"\"\n",
    "    Indices of retained singular values based on given tolerance.\n",
    "    \"\"\"\n",
    "    w = np.linalg.norm(s)\n",
    "    if w == 0:\n",
    "        return np.array([], dtype=int)\n",
    "    # normalized squares\n",
    "    s = (s / w)**2\n",
    "    # accumulate values from smallest to largest\n",
    "    sort_idx = np.argsort(s)\n",
    "    s[sort_idx] = np.cumsum(s[sort_idx])\n",
    "    return np.where(s > tol)[0]"
   ]
  },
  {
   "cell_type": "code",
   "execution_count": null,
   "metadata": {},
   "outputs": [],
   "source": [
    "def split_matrix_svd(A, tol):\n",
    "    \"\"\"\n",
    "    Split a matrix by singular value decomposition,\n",
    "    and truncate small singular values based on tolerance.\n",
    "    \"\"\"\n",
    "    assert A.ndim == 2\n",
    "    u, s, v = np.linalg.svd(A, full_matrices=False)\n",
    "    # truncate small singular values\n",
    "    idx = retained_bond_indices(s, tol)\n",
    "    u = u[:, idx]\n",
    "    v = v[idx, :]\n",
    "    s = s[idx]\n",
    "    return u, s, v"
   ]
  },
  {
   "cell_type": "markdown",
   "metadata": {},
   "source": [
    "## MPS class and related utility functions"
   ]
  },
  {
   "cell_type": "code",
   "execution_count": null,
   "metadata": {},
   "outputs": [],
   "source": [
    "def local_orthonormalize_left_qr(A, Anext):\n",
    "    \"\"\"\n",
    "    Left-orthonormalize a MPS tensor `A` by a QR decomposition,\n",
    "    and update tensor at next site.\n",
    "    \"\"\"\n",
    "    # perform QR decomposition and replace A by reshaped Q matrix\n",
    "    s = A.shape\n",
    "    assert len(s) == 3\n",
    "    Q, R = np.linalg.qr(np.reshape(A, (s[0]*s[1], s[2])), mode='reduced')\n",
    "    A = np.reshape(Q, (s[0], s[1], Q.shape[1]))\n",
    "    # update Anext tensor: multiply with R from left\n",
    "    Anext = np.transpose(np.tensordot(R, Anext, (1, 1)), (1, 0, 2))\n",
    "    return A, Anext"
   ]
  },
  {
   "cell_type": "code",
   "execution_count": null,
   "metadata": {},
   "outputs": [],
   "source": [
    "def local_orthonormalize_right_qr(A, Aprev):\n",
    "    \"\"\"\n",
    "    Right-orthonormalize a MPS tensor `A` by a QR decomposition,\n",
    "    and update tensor at previous site.\n",
    "    \"\"\"\n",
    "    # flip left and right virtual bond dimensions\n",
    "    A = np.transpose(A, (0, 2, 1))\n",
    "    # perform QR decomposition and replace A by reshaped Q matrix\n",
    "    s = A.shape\n",
    "    assert len(s) == 3\n",
    "    Q, R = np.linalg.qr(np.reshape(A, (s[0]*s[1], s[2])), mode='reduced')\n",
    "    A = np.transpose(np.reshape(Q, (s[0], s[1], Q.shape[1])), (0, 2, 1))\n",
    "    # update Aprev tensor: multiply with R from right\n",
    "    Aprev = np.tensordot(Aprev, R, (2, 1))\n",
    "    return A, Aprev"
   ]
  },
  {
   "cell_type": "code",
   "execution_count": null,
   "metadata": {},
   "outputs": [],
   "source": [
    "def merge_mps_tensor_pair(A0, A1):\n",
    "    \"\"\"\n",
    "    Merge two neighboring MPS tensors.\n",
    "    \"\"\"\n",
    "    A = np.tensordot(A0, A1, (2, 1))\n",
    "    # pair original physical dimensions of A0 and A1\n",
    "    A = A.transpose((0, 2, 1, 3))\n",
    "    # combine original physical dimensions\n",
    "    A = A.reshape((A.shape[0]*A.shape[1], A.shape[2], A.shape[3]))\n",
    "    return A"
   ]
  },
  {
   "cell_type": "code",
   "execution_count": null,
   "metadata": {},
   "outputs": [],
   "source": [
    "class MPS(object):\n",
    "    \"\"\"\n",
    "    Matrix product state (MPS) class.\n",
    "\n",
    "    The i-th MPS tensor has dimension `[d, D[i], D[i+1]]` with `d` the physical\n",
    "    dimension at each site and `D` the list of virtual bond dimensions.\n",
    "    \"\"\"\n",
    "\n",
    "    def __init__(self, d, D, fill='zero'):\n",
    "        \"\"\"\n",
    "        Create a matrix product state.\n",
    "        \"\"\"\n",
    "        self.d = d\n",
    "        # leading and trailing bond dimensions must agree (typically 1)\n",
    "        assert D[0] == D[-1]\n",
    "        if fill == 'zero':\n",
    "            self.A = [np.zeros((d, D[i], D[i+1])) for i in range(len(D)-1)]\n",
    "        elif fill == 'random real':\n",
    "            # random real entries\n",
    "            self.A = [np.random.normal(size=(d, D[i], D[i+1])) / np.sqrt(d*D[i]*D[i+1]) for i in range(len(D)-1)]\n",
    "        elif fill == 'random complex':\n",
    "            # random complex entries\n",
    "            self.A = [crandn(size=(d, D[i], D[i+1])) / np.sqrt(d*D[i]*D[i+1]) for i in range(len(D)-1)]\n",
    "        else:\n",
    "            raise ValueError('fill = {} invalid.'.format(fill))\n",
    "\n",
    "    @property\n",
    "    def local_dim(self):\n",
    "        \"\"\"Local (physical) dimension at each lattice site.\"\"\"\n",
    "        return self.d\n",
    "\n",
    "    @property\n",
    "    def nsites(self):\n",
    "        \"\"\"Number of lattice sites.\"\"\"\n",
    "        return len(self.A)\n",
    "\n",
    "    @property\n",
    "    def bond_dims(self):\n",
    "        \"\"\"Virtual bond dimensions.\"\"\"\n",
    "        if len(self.A) == 0:\n",
    "            return []\n",
    "        else:\n",
    "            D = [self.A[i].shape[1] for i in range(len(self.A))]\n",
    "            D.append(self.A[-1].shape[2])\n",
    "            return D\n",
    "\n",
    "    @property\n",
    "    def dtype(self):\n",
    "        \"\"\"Data type of tensor entries.\"\"\"\n",
    "        return self.A[0].dtype\n",
    "\n",
    "    def orthonormalize(self, mode='left'):\n",
    "        \"\"\"Left- or right-orthonormalize the MPS using QR decompositions.\"\"\"\n",
    "        if len(self.A) == 0:\n",
    "            return\n",
    "\n",
    "        if mode == 'left':\n",
    "            for i in range(len(self.A) - 1):\n",
    "                self.A[i], self.A[i+1] = local_orthonormalize_left_qr(self.A[i], self.A[i+1])\n",
    "            # last tensor\n",
    "            self.A[-1], T = local_orthonormalize_left_qr(self.A[-1], np.array([[[1.0]]]))\n",
    "            # normalization factor (real-valued since diagonal of R matrix is real)\n",
    "            assert T.shape == (1, 1, 1)\n",
    "            nrm = T[0, 0, 0].real\n",
    "            if nrm < 0:\n",
    "                # flip sign such that normalization factor is always non-negative\n",
    "                self.A[-1] = -self.A[-1]\n",
    "                nrm = -nrm\n",
    "            return nrm\n",
    "        elif mode == 'right':\n",
    "            for i in reversed(range(1, len(self.A))):\n",
    "                self.A[i], self.A[i-1] = local_orthonormalize_right_qr(self.A[i], self.A[i-1])\n",
    "            # first tensor\n",
    "            self.A[0], T = local_orthonormalize_right_qr(self.A[0], np.array([[[1.0]]]))\n",
    "            # normalization factor (real-valued since diagonal of R matrix is real)\n",
    "            assert T.shape == (1, 1, 1)\n",
    "            nrm = T[0, 0, 0].real\n",
    "            if nrm < 0:\n",
    "                # flip sign such that normalization factor is always non-negative\n",
    "                self.A[0] = -self.A[0]\n",
    "                nrm = -nrm\n",
    "            return nrm\n",
    "        else:\n",
    "            raise ValueError('mode = {} invalid; must be \"left\" or \"right\".'.format(mode))\n",
    "\n",
    "    def as_vector(self):\n",
    "        \"\"\"Merge all tensors to obtain the vector representation on the full Hilbert space.\"\"\"\n",
    "        psi = self.A[0]\n",
    "        for i in range(1, len(self.A)):\n",
    "            psi = merge_mps_tensor_pair(psi, self.A[i])\n",
    "        assert psi.ndim == 3\n",
    "        # contract leftmost and rightmost virtual bond (has no influence if these virtual bond dimensions are 1)\n",
    "        psi = np.trace(psi, axis1=1, axis2=2)\n",
    "        return psi"
   ]
  },
  {
   "cell_type": "code",
   "execution_count": null,
   "metadata": {},
   "outputs": [],
   "source": [
    "def split_mps_tensor(A, d0, d1, svd_distr, tol=0):\n",
    "    \"\"\"\n",
    "    Split a MPS tensor with dimension `d0*d1 x D0 x D2` into two MPS tensors\n",
    "    with dimensions `d0 x D0 x D1` and `d1 x D1 x D2`, respectively.\n",
    "    \"\"\"\n",
    "    assert A.ndim == 3\n",
    "    assert d0 * d1 == A.shape[0], 'physical dimension of MPS tensor must be equal to d0 * d1'\n",
    "    # reshape as matrix and split by SVD\n",
    "    A = np.transpose(np.reshape(A, (d0, d1, A.shape[1], A.shape[2])), (0, 2, 1, 3))\n",
    "    s = A.shape\n",
    "    A0, sigma, A1 = split_matrix_svd(A.reshape((s[0]*s[1], s[2]*s[3])), tol)\n",
    "    A0.shape = (s[0], s[1], len(sigma))\n",
    "    A1.shape = (len(sigma), s[2], s[3])\n",
    "    # use broadcasting to distribute singular values\n",
    "    if svd_distr == 'left':\n",
    "        A0 = A0 * sigma\n",
    "    elif svd_distr == 'right':\n",
    "        A1 = A1 * sigma[:, None, None]\n",
    "    elif svd_distr == 'sqrt':\n",
    "        s = np.sqrt(sigma)\n",
    "        A0 = A0 * s\n",
    "        A1 = A1 * s[:, None, None]\n",
    "    else:\n",
    "        raise ValueError('svd_distr parameter must be \"left\", \"right\" or \"sqrt\".')\n",
    "    # move physical dimension to the front\n",
    "    A1 = A1.transpose((1, 0, 2))\n",
    "    return A0, A1"
   ]
  },
  {
   "cell_type": "code",
   "execution_count": null,
   "metadata": {},
   "outputs": [],
   "source": [
    "def is_left_orthonormal(A):\n",
    "    \"\"\"\n",
    "    Test whether a MPS tensor `A` is left-orthonormal.\n",
    "    \"\"\"\n",
    "    s = A.shape\n",
    "    assert len(s) == 3\n",
    "    A = np.reshape(A, (s[0]*s[1], s[2]))\n",
    "    return np.allclose(A.conj().T @ A, np.identity(s[2]))"
   ]
  },
  {
   "cell_type": "code",
   "execution_count": null,
   "metadata": {},
   "outputs": [],
   "source": [
    "def is_right_orthonormal(A):\n",
    "    \"\"\"\n",
    "    Test whether a MPS tensor `A` is right-orthonormal.\n",
    "    \"\"\"\n",
    "    # call `is_left_orthonormal` with flipped left and right virtual bond dimensions\n",
    "    return is_left_orthonormal(np.transpose(A, (0, 2, 1)))"
   ]
  },
  {
   "cell_type": "markdown",
   "metadata": {},
   "source": [
    "## MPO class and related utility functions"
   ]
  },
  {
   "cell_type": "code",
   "execution_count": null,
   "metadata": {},
   "outputs": [],
   "source": [
    "def merge_mpo_tensor_pair(A0, A1):\n",
    "    \"\"\"\n",
    "    Merge two neighboring MPO tensors.\n",
    "    \"\"\"\n",
    "    A = np.tensordot(A0, A1, (3, 2))\n",
    "    # pair original physical dimensions of A0 and A1\n",
    "    A = np.transpose(A, (0, 3, 1, 4, 2, 5))\n",
    "    # combine original physical dimensions\n",
    "    A = A.reshape((A.shape[0]*A.shape[1], A.shape[2]*A.shape[3], A.shape[4], A.shape[5]))\n",
    "    return A"
   ]
  },
  {
   "cell_type": "code",
   "execution_count": null,
   "metadata": {},
   "outputs": [],
   "source": [
    "class MPO(object):\n",
    "    \"\"\"\n",
    "    Matrix product operator (MPO) class.\n",
    "\n",
    "    The i-th MPO tensor has dimension `[d, d, D[i], D[i+1]]` with `d` the physical\n",
    "    dimension at each site and `D` the list of virtual bond dimensions.\n",
    "    \"\"\"\n",
    "\n",
    "    def __init__(self, Alist):\n",
    "        \"\"\"\n",
    "        Create a matrix product operator.\n",
    "        \"\"\"\n",
    "        self.A = [np.array(Aj) for Aj in Alist]\n",
    "        # consistency checks\n",
    "        for i in range(len(self.A)-1):\n",
    "            assert self.A[i].ndim == 4\n",
    "            assert self.A[i].shape[3] == self.A[i+1].shape[2]\n",
    "        assert self.A[0].shape[2] == self.A[-1].shape[3]\n",
    "\n",
    "    @property\n",
    "    def nsites(self):\n",
    "        \"\"\"Number of lattice sites.\"\"\"\n",
    "        return len(self.A)\n",
    "\n",
    "    @property\n",
    "    def bond_dims(self):\n",
    "        \"\"\"Virtual bond dimensions.\"\"\"\n",
    "        if len(self.A) == 0:\n",
    "            return []\n",
    "        else:\n",
    "            D = [self.A[i].shape[2] for i in range(len(self.A))]\n",
    "            D.append(self.A[-1].shape[3])\n",
    "            return D\n",
    "\n",
    "    def as_matrix(self):\n",
    "        \"\"\"Merge all tensors to obtain the matrix representation on the full Hilbert space.\"\"\"\n",
    "        op = self.A[0]\n",
    "        for i in range(1, len(self.A)):\n",
    "            op = merge_mpo_tensor_pair(op, self.A[i])\n",
    "        assert op.ndim == 4\n",
    "        # contract leftmost and rightmost virtual bond (has no influence if these virtual bond dimensions are 1)\n",
    "        op = np.trace(op, axis1=2, axis2=3)\n",
    "        return op"
   ]
  },
  {
   "cell_type": "markdown",
   "metadata": {},
   "source": [
    "## Transverse-field Ising model"
   ]
  },
  {
   "cell_type": "markdown",
   "metadata": {},
   "source": [
    "### Construct Ising Hamiltonian as MPO"
   ]
  },
  {
   "cell_type": "code",
   "execution_count": null,
   "metadata": {},
   "outputs": [],
   "source": [
    "def construct_ising_hamiltonian_mpo(J, g, L, pbc=False):\n",
    "    \"\"\"\n",
    "    Construct Ising Hamiltonian on a 1D lattice with `L` sites as MPO,\n",
    "    for interaction parameter `J` and external field parameter `g`.\n",
    "    \"\"\"\n",
    "    # Pauli-X and Z matrices\n",
    "    X = np.array([[0., 1.], [1.,  0.]])\n",
    "    Z = np.array([[1., 0.], [0., -1.]])\n",
    "    I = np.identity(2)\n",
    "    O = np.zeros((2, 2))\n",
    "    A = np.array([[I, O, O], [Z, O, O], [-g*X, -J*Z, I]])\n",
    "    # flip the ordering of the virtual bond dimensions and physical dimensions\n",
    "    A = np.transpose(A, (2, 3, 0, 1))\n",
    "    if pbc:\n",
    "        # periodic boundary conditions:\n",
    "        # add a direct transition b -> a which applies -J Z at the rightmost lattice site\n",
    "        AL = np.array([[-g*X, -J*Z, I], [Z, O, O]])\n",
    "        AR = np.array([[I, -J*Z], [Z, O], [-g*X, O]])\n",
    "        # flip the ordering of the virtual bond dimensions and physical dimensions\n",
    "        AL = np.transpose(AL, (2, 3, 0, 1))\n",
    "        AR = np.transpose(AR, (2, 3, 0, 1))\n",
    "        return MPO([AL if i == 0 else A if i < L-1 else AR for i in range(L)])\n",
    "    else:\n",
    "        return MPO([A[:, :, 2:3, :] if i == 0 else A if i < L-1 else A[:, :, :, 0:1] for i in range(L)])"
   ]
  },
  {
   "cell_type": "markdown",
   "metadata": {},
   "source": [
    "### Construct Ising Hamiltonian as sparse matrix (for comparison and testing)"
   ]
  },
  {
   "cell_type": "code",
   "execution_count": null,
   "metadata": {},
   "outputs": [],
   "source": [
    "def adjacency_1D_lattice(L, pbc=True):\n",
    "    \"\"\"\n",
    "    Construct the adjacency matrix for a 1D lattice with `L` sites.\n",
    "    The optional parameter `pbc` specifies whether periodic boundary conditions\n",
    "    should be used.\n",
    "    \"\"\"\n",
    "    assert L > 1\n",
    "    # special case\n",
    "    if L == 2:\n",
    "        return np.array([[0, 1], [1, 0]])\n",
    "    if pbc:\n",
    "        # periodic boundary conditions\n",
    "        return np.roll(np.identity(L, dtype=int), -1, axis=0) + np.roll(np.identity(L, dtype=int), 1, axis=0)\n",
    "    else:\n",
    "        # open boundary conditions\n",
    "        return np.diag(np.ones(L - 1, dtype=int), k=-1) + np.diag(np.ones(L - 1, dtype=int), k=1)"
   ]
  },
  {
   "cell_type": "code",
   "execution_count": null,
   "metadata": {},
   "outputs": [],
   "source": [
    "# should be symmetric\n",
    "np.linalg.norm(adjacency_1D_lattice(6) - adjacency_1D_lattice(6).T)"
   ]
  },
  {
   "cell_type": "code",
   "execution_count": null,
   "metadata": {},
   "outputs": [],
   "source": [
    "# each site should have 2 neighbors (for periodic boundary conditions)\n",
    "np.sum(adjacency_1D_lattice(6), axis=0)"
   ]
  },
  {
   "cell_type": "code",
   "execution_count": null,
   "metadata": {},
   "outputs": [],
   "source": [
    "# example\n",
    "adjacency_1D_lattice(6, pbc=False)"
   ]
  },
  {
   "cell_type": "code",
   "execution_count": null,
   "metadata": {},
   "outputs": [],
   "source": [
    "def construct_ising_hamiltonian_sparse(J, g, adj):\n",
    "    \"\"\"\n",
    "    Construct Ising Hamiltonian as sparse matrix,\n",
    "    for interaction parameter `J` and external field parameter `g`.\n",
    "    `adj` is the adjacency matrix of the underlying lattice.\n",
    "    \"\"\"\n",
    "    # Pauli-X and Z matrices\n",
    "    X = sparse.csr_matrix([[0., 1.], [1.,  0.]])\n",
    "    Z = sparse.csr_matrix([[1., 0.], [0., -1.]])\n",
    "    # overall number of lattice sites\n",
    "    L = adj.shape[0]\n",
    "    H = sparse.csr_matrix((2**L, 2**L), dtype=float)\n",
    "    for j in range(L):\n",
    "        for k in range(j+1, L):\n",
    "            if adj[j, k] > 0:\n",
    "                H -= J * sparse.kron(sparse.eye(2**j),\n",
    "                         sparse.kron(Z,\n",
    "                         sparse.kron(sparse.eye(2**(k-j-1)),\n",
    "                         sparse.kron(Z,\n",
    "                                     sparse.eye(2**(L-k-1))))))\n",
    "    # external field\n",
    "    for j in range(L):\n",
    "        H -= g * sparse.kron(sparse.eye(2**j), sparse.kron(X, sparse.eye(2**(L-j-1))))\n",
    "    return H"
   ]
  },
  {
   "cell_type": "code",
   "execution_count": null,
   "metadata": {},
   "outputs": [],
   "source": [
    "# example\n",
    "Hising_sparse = construct_ising_hamiltonian_sparse(1.1, 0.7, adjacency_1D_lattice(6, pbc=False))\n",
    "Hising_sparse"
   ]
  },
  {
   "cell_type": "code",
   "execution_count": null,
   "metadata": {},
   "outputs": [],
   "source": [
    "# convert to NumPy array to show entries\n",
    "Hising_sparse.toarray()"
   ]
  },
  {
   "cell_type": "code",
   "execution_count": null,
   "metadata": {},
   "outputs": [],
   "source": [
    "# compare (difference should be zero)\n",
    "np.linalg.norm(Hising_sparse - construct_ising_hamiltonian_mpo(1.1, 0.7, 6).as_matrix())"
   ]
  },
  {
   "cell_type": "code",
   "execution_count": null,
   "metadata": {},
   "outputs": [],
   "source": [
    "# compare for periodic boundary conditions (difference should be zero)\n",
    "np.linalg.norm(construct_ising_hamiltonian_sparse(1.1, 0.7, adjacency_1D_lattice(6, pbc=True)) - construct_ising_hamiltonian_mpo(1.1, 0.7, 6, pbc=True).as_matrix())"
   ]
  },
  {
   "cell_type": "markdown",
   "metadata": {},
   "source": [
    "### Construct Ising Hamiltonian as sum of local interaction terms (for TEBD)"
   ]
  },
  {
   "cell_type": "code",
   "execution_count": null,
   "metadata": {},
   "outputs": [],
   "source": [
    "def construct_ising_hamiltonian_local_terms(J, g, L):\n",
    "    \"\"\"\n",
    "    Construct Ising Hamiltonian on a one-dimensional lattice\n",
    "    with open boundary conditions as sum of local interaction terms,\n",
    "    for interaction parameter `J` and external field parameter `g`.\n",
    "    \"\"\"\n",
    "    # Pauli-X and Z matrices\n",
    "    X = np.array([[0., 1.], [1.,  0.]])\n",
    "    Z = np.array([[1., 0.], [0., -1.]])\n",
    "    I = np.identity(2)\n",
    "    return [-J*np.kron(Z, Z) - g*(np.kron(X, I) + 0.5*np.kron(I, X)) if i == 0 else\n",
    "            -J*np.kron(Z, Z) - g*0.5*(np.kron(X, I) + np.kron(I, X)) if i < L-2 else\n",
    "            -J*np.kron(Z, Z) - g*(0.5*np.kron(X, I) + np.kron(I, X))\n",
    "                for i in range(L-1)]"
   ]
  },
  {
   "cell_type": "code",
   "execution_count": null,
   "metadata": {},
   "outputs": [],
   "source": [
    "# example\n",
    "hloc = construct_ising_hamiltonian_local_terms(1.1, 0.7, 6)\n",
    "hloc"
   ]
  },
  {
   "cell_type": "code",
   "execution_count": null,
   "metadata": {},
   "outputs": [],
   "source": [
    "# for testing: construct overall sparse matrix representation of H from local terms\n",
    "Hloc = sparse.csr_matrix((2**6, 2**6), dtype=float)\n",
    "for j in range(6-1):\n",
    "    Hloc += sparse.kron(sparse.eye(2**j),\n",
    "            sparse.kron(hloc[j],\n",
    "                        sparse.eye(2**(6-j-2))))"
   ]
  },
  {
   "cell_type": "code",
   "execution_count": null,
   "metadata": {},
   "outputs": [],
   "source": [
    "# compare (difference should be zero)\n",
    "np.linalg.norm(Hising_sparse.toarray() - Hloc)"
   ]
  },
  {
   "cell_type": "markdown",
   "metadata": {},
   "source": [
    "## Core DMRG algorithm"
   ]
  },
  {
   "cell_type": "code",
   "execution_count": null,
   "metadata": {},
   "outputs": [],
   "source": [
    "def contract_left_block(A, W, L):\n",
    "    \"\"\"\n",
    "    Contraction step from left to right, with a matrix product operator\n",
    "    sandwiched in between.\n",
    "\n",
    "    To-be contracted tensor network::\n",
    "\n",
    "      _________           _____\n",
    "     /         \\         /     \\\n",
    "     |        0|---   ---|1 A 2|---\n",
    "     |         |         \\__0__/\n",
    "     |         |            |\n",
    "     |         |\n",
    "     |         |          __|__\n",
    "     |         |         /  1  \\\n",
    "     |    L   1|---   ---|2 W 3|---\n",
    "     |         |         \\__0__/\n",
    "     |         |            |\n",
    "     |         |\n",
    "     |         |          __|__\n",
    "     |         |         /  0  \\\n",
    "     |        2|---   ---|1 A*2|---\n",
    "     \\_________/         \\_____/\n",
    "    \"\"\"\n",
    "\n",
    "    assert A.ndim == 3\n",
    "    assert W.ndim == 4\n",
    "    assert L.ndim == 3\n",
    "\n",
    "    # multiply with conjugated A tensor\n",
    "    T = np.tensordot(L, A.conj(), axes=(2, 1))\n",
    "\n",
    "    # multiply with W tensor\n",
    "    T = np.tensordot(W, T, axes=((0, 2), (2, 1)))\n",
    "\n",
    "    # multiply with A tensor\n",
    "    Lnext = np.tensordot(A, T, axes=((0, 1), (0, 2)))\n",
    "\n",
    "    return Lnext"
   ]
  },
  {
   "cell_type": "code",
   "execution_count": null,
   "metadata": {},
   "outputs": [],
   "source": [
    "def contract_right_block(A, W, R):\n",
    "    \"\"\"\n",
    "    Contraction step from right to left, with a matrix product operator\n",
    "    sandwiched in between.\n",
    "\n",
    "    To-be contracted tensor network::\n",
    "\n",
    "          _____           _________\n",
    "         /     \\         /         \\\n",
    "      ---|1 A 2|---   ---|0        |\n",
    "         \\__0__/         |         |\n",
    "            |            |         |\n",
    "                         |         |\n",
    "          __|__          |         |\n",
    "         /  1  \\         |         |\n",
    "      ---|2 W 3|---   ---|1   R    |\n",
    "         \\__0__/         |         |\n",
    "            |            |         |\n",
    "                         |         |\n",
    "          __|__          |         |\n",
    "         /  0  \\         |         |\n",
    "      ---|1 A*2|---   ---|2        |\n",
    "         \\_____/         \\_________/\n",
    "    \"\"\"\n",
    "\n",
    "    # TODO: implement this function (see \"contract_left_block\" as orientation)"
   ]
  },
  {
   "cell_type": "code",
   "execution_count": null,
   "metadata": {},
   "outputs": [],
   "source": [
    "def compute_right_operator_blocks(psi, op):\n",
    "    \"\"\"\n",
    "    Compute all partial contractions from the right.\n",
    "    \"\"\"\n",
    "    L = psi.nsites\n",
    "    assert L == op.nsites\n",
    "    BR = [None for _ in range(L)]\n",
    "    # initialize rightmost dummy block\n",
    "    BR[-1] = np.array([[[1]]], dtype=psi.dtype)\n",
    "    for i in reversed(range(L-1)):\n",
    "        BR[i] = contract_right_block(psi.A[i+1], op.A[i+1], BR[i+1])\n",
    "    return BR"
   ]
  },
  {
   "cell_type": "code",
   "execution_count": null,
   "metadata": {},
   "outputs": [],
   "source": [
    "def construct_local_two_site_hamiltonian(V, W, L, R):\n",
    "    \"\"\"\n",
    "    Construct the two-site local Hamiltonian operator.\n",
    "\n",
    "    To-be contracted tensor network (the indices at the open legs\n",
    "    show the ordering for the output tensor of degree 8)::\n",
    "\n",
    "                    6       4               5        7\n",
    "      _________     |       |               |        |    _________\n",
    "     /         \\    |       |               |        |   /         \\\n",
    "     |        0|---/        |               |        \\---|0        |\n",
    "     |         |            |               |            |         |\n",
    "     |         |            |               |            |         |\n",
    "     |         |            |               |            |         |\n",
    "     |         |          __|__           __|__          |         |\n",
    "     |         |         /  1  \\         /  1  \\         |         |\n",
    "     |    L   1|---   ---|2 V 3|---   ---|2 W 3|---   ---|1   R    |\n",
    "     |         |         \\__0__/         \\__0__/         |         |\n",
    "     |         |            |               |            |         |\n",
    "     |         |            |               |            |         |\n",
    "     |         |            |               |            |         |\n",
    "     |         |            |               |            |         |\n",
    "     |        2|---\\        |               |        /---|2        |\n",
    "     \\_________/    |       |               |       |    \\_________/\n",
    "                    |       |               |       |\n",
    "                    2       0               1       3\n",
    "    \"\"\"\n",
    "    # repeated indices are summed over\n",
    "    return np.einsum(V, (0, 1, 2, 3), W, (4, 5, 3, 6), L, (7, 2, 8), R, (9, 6, 10), (0, 4, 8, 10, 1, 5, 7, 9))"
   ]
  },
  {
   "cell_type": "code",
   "execution_count": null,
   "metadata": {},
   "outputs": [],
   "source": [
    "def dmrg_two_site(H:MPO, psi:MPS, numsweeps, tol=1e-5):\n",
    "    \"\"\"\n",
    "    Approximate the ground state MPS by left and right sweeps and local two-site optimizations.\n",
    "\n",
    "    Args:\n",
    "        H: Hamiltonian as MPO\n",
    "        psi: initial MPS used for optimization; will be overwritten\n",
    "        numsweeps: maximum number of left and right sweeps\n",
    "        tol: \"tolerance\" for SVD truncation\n",
    "\n",
    "    Returns:\n",
    "        numpy.ndarray: array of approximate ground state energies after each iteration\n",
    "    \"\"\"\n",
    "\n",
    "    # number of lattice sites\n",
    "    L = H.nsites\n",
    "    assert L == psi.nsites\n",
    "\n",
    "    # right-normalize input matrix product state\n",
    "    psi.orthonormalize(mode='right')\n",
    "\n",
    "    # left and right operator blocks\n",
    "    # initialize leftmost block by 1x1x1 identity\n",
    "    BR = compute_right_operator_blocks(psi, H)\n",
    "    BL = [None for _ in range(L)]\n",
    "    BL[0] = np.array([[[1.0]]], dtype=BR[0].dtype)\n",
    "\n",
    "    en_min = np.zeros(numsweeps)\n",
    "\n",
    "    # Number of iterations should be determined by tolerance and some convergence measure\n",
    "    for n in range(numsweeps):\n",
    "        en = 0\n",
    "\n",
    "        # sweep from left to right (rightmost two lattice sites are handled by right-to-left sweep)\n",
    "        for i in range(L - 2):\n",
    "            Hloc = construct_local_two_site_hamiltonian(H.A[i], H.A[i+1], BL[i], BR[i+1])\n",
    "            s = Hloc.shape\n",
    "            assert s[0] == s[1] == psi.local_dim\n",
    "            assert s[4] == s[5] == psi.local_dim\n",
    "            # reshape into a matrix\n",
    "            Hloc = np.reshape(Hloc, (s[0]*s[1]*s[2]*s[3], s[4]*s[5]*s[6]*s[7]))\n",
    "            # The following can be accelerated by Krylov methods and a \"matrix free\" application of the local Hamiltonian.\n",
    "            wloc, vloc = np.linalg.eigh(Hloc)\n",
    "            # select first eigenvector corresponding to lowest energy\n",
    "            en = wloc[0]\n",
    "            # optimized local tensor for two sites\n",
    "            Aloc = np.reshape(vloc[:, 0], (s[0]*s[1], s[2], s[3]))\n",
    "            # TODO: call \"split_mps_tensor\" here with the appropriate distribution direction of singluar values, and also pass the 'tol' parameter\n",
    "            psi.A[i], psi.A[i+1] = \n",
    "            assert is_left_orthonormal(psi.A[i])\n",
    "            # update the left blocks\n",
    "            BL[i+1] = contract_left_block(psi.A[i], H.A[i], BL[i])\n",
    "\n",
    "        # sweep from right to left\n",
    "        for i in reversed(range(L - 1)):\n",
    "            Hloc = construct_local_two_site_hamiltonian(H.A[i], H.A[i+1], BL[i], BR[i+1])\n",
    "            s = Hloc.shape\n",
    "            assert s[0] == s[1] == psi.local_dim\n",
    "            assert s[4] == s[5] == psi.local_dim\n",
    "            # reshape into a matrix\n",
    "            Hloc = np.reshape(Hloc, (s[0]*s[1]*s[2]*s[3], s[4]*s[5]*s[6]*s[7]))\n",
    "            # The following can be accelerated by Krylov methods and a \"matrix free\" application of the local Hamiltonian.\n",
    "            wloc, vloc = np.linalg.eigh(Hloc)\n",
    "            # select first eigenvector corresponding to lowest energy\n",
    "            en = wloc[0]\n",
    "            # optimized local tensor for two sites\n",
    "            Aloc = np.reshape(vloc[:, 0], (s[0]*s[1], s[2], s[3]))\n",
    "            # TODO: call \"split_mps_tensor\" here with the appropriate distribution direction of singluar values, and also pass the 'tol' parameter\n",
    "            psi.A[i], psi.A[i+1] = \n",
    "            assert is_right_orthonormal(psi.A[i+1])\n",
    "            # update the right blocks\n",
    "            BR[i] = contract_right_block(psi.A[i+1], H.A[i+1], BR[i+1])\n",
    "\n",
    "        # right-normalize leftmost tensor to ensure that 'psi' is normalized\n",
    "        psi.A[0], _ = local_orthonormalize_right_qr(psi.A[0], np.array([[[1.0]]]))\n",
    "\n",
    "        # record energy after each sweep\n",
    "        en_min[n] = en\n",
    "        \n",
    "        print(\"sweep {} completed, current energy: {}\".format(n+1, en))\n",
    "\n",
    "    return en_min"
   ]
  },
  {
   "cell_type": "code",
   "execution_count": null,
   "metadata": {},
   "outputs": [],
   "source": [
    "def operator_average(op:MPO, psi:MPS):\n",
    "    \"\"\"\n",
    "    Compute the expectation value `<psi | op | psi>`.\n",
    "\n",
    "    Args:\n",
    "        psi: wavefunction represented as MPS\n",
    "        op:  operator represented as MPO\n",
    "\n",
    "    Returns:\n",
    "        complex: `<psi | op | psi>`\n",
    "    \"\"\"\n",
    "\n",
    "    assert psi.nsites == op.nsites\n",
    "\n",
    "    if psi.nsites == 0:\n",
    "        return 0\n",
    "\n",
    "    # initialize T by identity matrix\n",
    "    T = np.identity(psi.A[-1].shape[2], dtype=psi.dtype)\n",
    "    T = np.reshape(T, (psi.A[-1].shape[2], 1, psi.A[-1].shape[2]))\n",
    "\n",
    "    for i in reversed(range(psi.nsites)):\n",
    "        T = contract_right_block(psi.A[i], op.A[i], T)\n",
    "\n",
    "    # T should now be a 1x1x1 tensor\n",
    "    assert T.shape == (1, 1, 1)\n",
    "\n",
    "    return T[0, 0, 0]"
   ]
  },
  {
   "cell_type": "markdown",
   "metadata": {},
   "source": [
    "## Example run of DMRG"
   ]
  },
  {
   "cell_type": "code",
   "execution_count": null,
   "metadata": {},
   "outputs": [],
   "source": [
    "L = 14\n",
    "J = 1.0\n",
    "g = 1.05"
   ]
  },
  {
   "cell_type": "code",
   "execution_count": null,
   "metadata": {},
   "outputs": [],
   "source": [
    "Hising = construct_ising_hamiltonian_mpo(J, g, L)"
   ]
  },
  {
   "cell_type": "code",
   "execution_count": null,
   "metadata": {},
   "outputs": [],
   "source": [
    "# H as sparse matrix, for comparison\n",
    "Hising_sparse = construct_ising_hamiltonian_sparse(J, g, adjacency_1D_lattice(L, pbc=False))\n",
    "Hising_sparse"
   ]
  },
  {
   "cell_type": "code",
   "execution_count": null,
   "metadata": {},
   "outputs": [],
   "source": [
    "# compute algebraically smallest few eigenvalues and corresponding eigenvectors, as reference\n",
    "en_ref, ψref = sparse.linalg.eigsh(Hising_sparse, k=5, which='SA')\n",
    "en_ref = en_ref[0]\n",
    "ψref = ψref[:, 0]"
   ]
  },
  {
   "cell_type": "code",
   "execution_count": null,
   "metadata": {},
   "outputs": [],
   "source": [
    "# reference ground state energy\n",
    "en_ref"
   ]
  },
  {
   "cell_type": "code",
   "execution_count": null,
   "metadata": {},
   "outputs": [],
   "source": [
    "# to-be optimized quantum state as MPS\n",
    "ψdmrg = MPS(2, [1] + (L-1)*[5] + [1], fill=\"random real\")"
   ]
  },
  {
   "cell_type": "code",
   "execution_count": null,
   "metadata": {},
   "outputs": [],
   "source": [
    "ψdmrg.local_dim"
   ]
  },
  {
   "cell_type": "code",
   "execution_count": null,
   "metadata": {},
   "outputs": [],
   "source": [
    "ψdmrg.bond_dims"
   ]
  },
  {
   "cell_type": "code",
   "execution_count": null,
   "metadata": {},
   "outputs": [],
   "source": [
    "ψdmrg.nsites"
   ]
  },
  {
   "cell_type": "code",
   "execution_count": null,
   "metadata": {},
   "outputs": [],
   "source": [
    "numsweeps = 5\n",
    "en_sweeps = dmrg_two_site(Hising, ψdmrg, numsweeps, tol=1e-8)"
   ]
  },
  {
   "cell_type": "code",
   "execution_count": null,
   "metadata": {},
   "outputs": [],
   "source": [
    "# bond dimensions after optimization\n",
    "ψdmrg.bond_dims"
   ]
  },
  {
   "cell_type": "code",
   "execution_count": null,
   "metadata": {},
   "outputs": [],
   "source": [
    "# check: should all be true\n",
    "[is_right_orthonormal(Aj) for Aj in ψdmrg.A]"
   ]
  },
  {
   "cell_type": "code",
   "execution_count": null,
   "metadata": {},
   "outputs": [],
   "source": [
    "# convergence plot\n",
    "plt.semilogy(range(1, numsweeps+1), abs((en_sweeps - en_ref)/en_ref), '.-')\n",
    "plt.xlabel(\"sweep\")\n",
    "plt.ylabel(\"energy error\")\n",
    "plt.title(\"DMRG sweeps for ground state approximation\")\n",
    "plt.show()"
   ]
  },
  {
   "cell_type": "code",
   "execution_count": null,
   "metadata": {},
   "outputs": [],
   "source": [
    "# alternative way to compute energy expectation value\n",
    "operator_average(Hising, ψdmrg)"
   ]
  },
  {
   "cell_type": "code",
   "execution_count": null,
   "metadata": {},
   "outputs": [],
   "source": [
    "# show vector entries of ground state (although not very insightful)\n",
    "plt.plot(ψdmrg.as_vector())\n",
    "plt.xlabel(\"j\")\n",
    "plt.ylabel(\"ψ\")\n",
    "plt.title(\"vector entries of ground state\")\n",
    "plt.show()"
   ]
  },
  {
   "cell_type": "markdown",
   "metadata": {},
   "source": [
    "## TEBD algorithm"
   ]
  },
  {
   "cell_type": "code",
   "execution_count": null,
   "metadata": {},
   "outputs": [],
   "source": [
    "def tebd_step(psi:MPS, U, tol=1e-5):\n",
    "    \"\"\"\n",
    "    Single step of the TEBD algorithm, for time-evolving a quantum state `psi`\n",
    "    via Trotter splitting.\n",
    "    Each unitary matrix `U[i]` performs a time step at lattices sites (i, i+1).\n",
    "    \"\"\"\n",
    "    for s in [0, 1]: # even or odd\n",
    "        # time step for pairs (i, i+1) with i even or odd\n",
    "        for i in range(s, psi.nsites-1, 2):\n",
    "            # TODO: complete the implementation (apply U[i] to merged tensor pair psi.A[i] and psi.A[i+1]).\n",
    "            # The functions `merge_mps_tensor_pair` and `split_mps_tensor` might be useful.\n",
    "    # psi has been updated in-place"
   ]
  },
  {
   "cell_type": "code",
   "execution_count": null,
   "metadata": {},
   "outputs": [],
   "source": [
    "def calculate_tebd_unitaries_imagtime(hloc, dt):\n",
    "    \"\"\"\n",
    "    Calculate the local unitary blocks for TEBD imaginary-time evolution.\n",
    "    \"\"\"\n",
    "    return [expm(-dt*h) for h in hloc]"
   ]
  },
  {
   "cell_type": "code",
   "execution_count": null,
   "metadata": {},
   "outputs": [],
   "source": [
    "def calculate_tebd_unitaries_realtime(hloc, dt):\n",
    "    \"\"\"\n",
    "    Calculate the local unitary blocks for TEBD real-time evolution.\n",
    "    \"\"\"\n",
    "    return [expm(-1j*dt*h) for h in hloc]"
   ]
  },
  {
   "cell_type": "markdown",
   "metadata": {},
   "source": [
    "## Example run of TEBD for ground state approximation"
   ]
  },
  {
   "cell_type": "code",
   "execution_count": null,
   "metadata": {},
   "outputs": [],
   "source": [
    "hloc = construct_ising_hamiltonian_local_terms(J, g, L)"
   ]
  },
  {
   "cell_type": "code",
   "execution_count": null,
   "metadata": {},
   "outputs": [],
   "source": [
    "Uloc_imag = calculate_tebd_unitaries_imagtime(hloc, 0.1)"
   ]
  },
  {
   "cell_type": "code",
   "execution_count": null,
   "metadata": {},
   "outputs": [],
   "source": [
    "# show dimensions\n",
    "[U.shape for U in Uloc_imag]"
   ]
  },
  {
   "cell_type": "code",
   "execution_count": null,
   "metadata": {},
   "outputs": [],
   "source": [
    "# to-be optimized quantum state as MPS\n",
    "ψtebd = MPS(2, [1] + (L-1)*[5] + [1], fill=\"random real\")\n",
    "ψtebd.orthonormalize(\"left\");"
   ]
  },
  {
   "cell_type": "code",
   "execution_count": null,
   "metadata": {},
   "outputs": [],
   "source": [
    "ψtebd.local_dim"
   ]
  },
  {
   "cell_type": "code",
   "execution_count": null,
   "metadata": {},
   "outputs": [],
   "source": [
    "ψtebd.bond_dims"
   ]
  },
  {
   "cell_type": "code",
   "execution_count": null,
   "metadata": {},
   "outputs": [],
   "source": [
    "# run TEBD\n",
    "numsteps = 100\n",
    "en_iter_tebd = np.zeros(numsteps)\n",
    "for n in range(numsteps):\n",
    "    tebd_step(ψtebd, Uloc_imag)\n",
    "    # re-normalize\n",
    "    ψtebd.orthonormalize(\"left\")\n",
    "    en_iter_tebd[n] = operator_average(Hising, ψtebd)"
   ]
  },
  {
   "cell_type": "code",
   "execution_count": null,
   "metadata": {},
   "outputs": [],
   "source": [
    "# bond dimensions after optimization\n",
    "ψtebd.bond_dims"
   ]
  },
  {
   "cell_type": "code",
   "execution_count": null,
   "metadata": {},
   "outputs": [],
   "source": [
    "# convergence plot\n",
    "plt.semilogy(range(1, numsteps+1), abs((en_iter_tebd - en_ref)/en_ref))\n",
    "plt.xlabel(\"iteration\")\n",
    "plt.ylabel(\"energy error\")\n",
    "plt.title(\"TEBD iteration for ground state approximation\")\n",
    "plt.show()"
   ]
  },
  {
   "cell_type": "markdown",
   "metadata": {},
   "source": [
    "## Example run of TEBD for real time evolution"
   ]
  },
  {
   "cell_type": "code",
   "execution_count": null,
   "metadata": {},
   "outputs": [],
   "source": [
    "# initial quantum state as MPS\n",
    "ψ0 = MPS(2, [1] + (L-1)*[5] + [1], fill=\"random real\")\n",
    "ψ0.orthonormalize(\"left\");"
   ]
  },
  {
   "cell_type": "code",
   "execution_count": null,
   "metadata": {},
   "outputs": [],
   "source": [
    "tmax = 2"
   ]
  },
  {
   "cell_type": "code",
   "execution_count": null,
   "metadata": {},
   "outputs": [],
   "source": [
    "# reference time-evolved state\n",
    "ψt_ref = scila.expm_multiply(-1j*tmax*Hising_sparse, ψ0.as_vector())"
   ]
  },
  {
   "cell_type": "code",
   "execution_count": null,
   "metadata": {},
   "outputs": [],
   "source": [
    "# real-time evolution via TEBD for different time steps\n",
    "# virtual bond dimensions are expected to increase quite rapidly\n",
    "dt_list = [0.5**k for k in range(6)]\n",
    "err_t_tebd = np.zeros(len(dt_list))\n",
    "for n, dt in enumerate(dt_list):\n",
    "    ψt_tebd = deepcopy(ψ0)\n",
    "    Uloc = calculate_tebd_unitaries_realtime(hloc, dt)\n",
    "    nsteps = round(tmax / dt)\n",
    "    print(\"nsteps:\", nsteps)\n",
    "    for _ in range(nsteps):\n",
    "        tebd_step(ψt_tebd, Uloc, tol=1e-7)\n",
    "    # record error\n",
    "    err_t_tebd[n] = np.linalg.norm(ψt_tebd.as_vector() - ψt_ref)\n",
    "    print(\"ψt_tebd.bond_dims:\", ψt_tebd.bond_dims)"
   ]
  },
  {
   "cell_type": "code",
   "execution_count": null,
   "metadata": {},
   "outputs": [],
   "source": [
    "# convergence plot\n",
    "plt.loglog(dt_list, err_t_tebd, '.-', label=\"data\")\n",
    "# dashed line shows first order scaling from Trotter splitting;\n",
    "# order can be improved, e.g., via Strang splitting, almost without increase of computational cost\n",
    "plt.loglog(dt_list, 1.5*np.array(dt_list), '--', label=\"Δt\")\n",
    "plt.xlabel(\"Δt\")\n",
    "plt.ylabel(\"error\")\n",
    "plt.legend()\n",
    "plt.title(\"TEBD real time evolution up to t = {}\".format(tmax))\n",
    "plt.show()"
   ]
  }
 ],
 "metadata": {
  "kernelspec": {
   "display_name": "Python 3 (ipykernel)",
   "language": "python",
   "name": "python3"
  },
  "language_info": {
   "codemirror_mode": {
    "name": "ipython",
    "version": 3
   },
   "file_extension": ".py",
   "mimetype": "text/x-python",
   "name": "python",
   "nbconvert_exporter": "python",
   "pygments_lexer": "ipython3",
   "version": "3.9.7"
  }
 },
 "nbformat": 4,
 "nbformat_minor": 4
}
