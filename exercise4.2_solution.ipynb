{
 "cells": [
  {
   "cell_type": "code",
   "execution_count": 1,
   "metadata": {},
   "outputs": [],
   "source": [
    "import numpy as np"
   ]
  },
  {
   "cell_type": "code",
   "execution_count": 2,
   "metadata": {},
   "outputs": [],
   "source": [
    "def decompose_gate(U):\n",
    "    \"\"\"\n",
    "    Decompose a two-qubit quantum gate using the singular value decomposition.\n",
    "    \"\"\"\n",
    "    # part (a)\n",
    "    U = np.reshape(U, (2, 2, 2, 2))\n",
    "    U = np.transpose(U, (0, 2, 1, 3))\n",
    "    U = np.reshape(U, (4, 4))\n",
    "    # part (b)\n",
    "    v, s, w = np.linalg.svd(U)\n",
    "    idx = s > 1e-14  # select the analytically non-zero singular values\n",
    "    v = v[:, idx]\n",
    "    s = s[idx]\n",
    "    w = w[idx, :]\n",
    "    # part (c)\n",
    "    v = np.reshape(v, (2, 2, -1))\n",
    "    w = np.reshape(w, (-1, 2, 2))\n",
    "    return v, s, w"
   ]
  },
  {
   "cell_type": "code",
   "execution_count": 3,
   "metadata": {},
   "outputs": [],
   "source": [
    "def reconstruct_gate(v, s, w):\n",
    "    \"\"\"\n",
    "    Reassemble a two-qubit quantum gate from its decomposed version.\n",
    "    \"\"\"\n",
    "    return np.sum([s[j] * np.kron(v[:, :, j], w[j, :, :]) for j in range(len(s))], axis=0)"
   ]
  },
  {
   "cell_type": "markdown",
   "metadata": {},
   "source": [
    "## Controlled-NOT gate"
   ]
  },
  {
   "cell_type": "code",
   "execution_count": 4,
   "metadata": {},
   "outputs": [
    {
     "name": "stdout",
     "output_type": "stream",
     "text": [
      "unitary matrix test passed: True\n",
      "non-zero singular values for CNOT: [1.41421356 1.41421356]\n",
      "reconstruction test passed: True\n"
     ]
    }
   ],
   "source": [
    "Ucnot = np.array([[1, 0, 0, 0], [0, 1, 0, 0], [0, 0, 0, 1], [0, 0, 1, 0]])\n",
    "\n",
    "print(\"unitary matrix test passed:\", np.allclose(Ucnot @ Ucnot.conj().T, np.identity(4)))\n",
    "\n",
    "v_cnot, s_cnot, w_cnot = decompose_gate(Ucnot)\n",
    "print(\"non-zero singular values for CNOT:\", s_cnot)\n",
    "\n",
    "print(\"reconstruction test passed:\", np.allclose(reconstruct_gate(v_cnot, s_cnot, w_cnot), Ucnot))"
   ]
  },
  {
   "cell_type": "markdown",
   "metadata": {},
   "source": [
    "## fSim gate"
   ]
  },
  {
   "cell_type": "code",
   "execution_count": 5,
   "metadata": {},
   "outputs": [
    {
     "name": "stdout",
     "output_type": "stream",
     "text": [
      "unitary matrix test passed: True\n",
      "non-zero singular values for fSim: [1.4744082  0.8660254  0.8660254  0.57106958]\n",
      "reconstruction test passed: True\n"
     ]
    }
   ],
   "source": [
    "def UfSim(θ, ϕ):\n",
    "    return np.array([[1, 0, 0, 0], [0, np.cos(θ), -1j*np.sin(θ), 0], [0, -1j*np.sin(θ), np.cos(θ), 0], [0, 0, 0, np.exp(-1j*ϕ)]])\n",
    "\n",
    "# specific choice of angles\n",
    "UfSim1 = UfSim(np.pi/3, np.pi/4)\n",
    "\n",
    "print(\"unitary matrix test passed:\", np.allclose(UfSim1 @ UfSim1.conj().T, np.identity(4)))\n",
    "\n",
    "v_fsim, s_fsim, w_fsim = decompose_gate(UfSim1)\n",
    "print(\"non-zero singular values for fSim:\", s_fsim)\n",
    "\n",
    "print(\"reconstruction test passed:\", np.allclose(reconstruct_gate(v_fsim, s_fsim, w_fsim), UfSim1))"
   ]
  }
 ],
 "metadata": {
  "kernelspec": {
   "display_name": "Python 3 (ipykernel)",
   "language": "python",
   "name": "python3"
  },
  "language_info": {
   "codemirror_mode": {
    "name": "ipython",
    "version": 3
   },
   "file_extension": ".py",
   "mimetype": "text/x-python",
   "name": "python",
   "nbconvert_exporter": "python",
   "pygments_lexer": "ipython3",
   "version": "3.9.7"
  }
 },
 "nbformat": 4,
 "nbformat_minor": 4
}
