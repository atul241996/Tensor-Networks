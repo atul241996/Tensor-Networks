{
 "cells": [
  {
   "cell_type": "markdown",
   "metadata": {},
   "source": [
    "# Canonical MPS forms"
   ]
  },
  {
   "cell_type": "code",
   "execution_count": null,
   "metadata": {},
   "outputs": [],
   "source": [
    "import numpy as np\n",
    "import matplotlib.pyplot as plt"
   ]
  },
  {
   "cell_type": "markdown",
   "metadata": {},
   "source": [
    "## Functions for conversion to canonical forms"
   ]
  },
  {
   "cell_type": "code",
   "execution_count": null,
   "metadata": {},
   "outputs": [],
   "source": [
    "def mps_orthonormalize_left(Alist):\n",
    "    \"\"\"\n",
    "    Left-orthonormalize a MPS using QR decompositions.\n",
    "    The list of tensors in `Alist` are updated in-place.\n",
    "\n",
    "    Returns the overall norm of the original MPS. (The updated MPS has norm 1.)\n",
    "    \"\"\"\n",
    "    # TODO: implement this function"
   ]
  },
  {
   "cell_type": "code",
   "execution_count": null,
   "metadata": {},
   "outputs": [],
   "source": [
    "def mps_orthonormalize_right(Alist):\n",
    "    \"\"\"\n",
    "    Right-orthonormalize a MPS using QR decompositions.\n",
    "    The list of tensors in `Alist` are updated in-place.\n",
    "\n",
    "    Returns the overall norm of the original MPS. (The updated MPS has norm 1.)\n",
    "    \"\"\"\n",
    "    # TODO: implement this function"
   ]
  },
  {
   "cell_type": "code",
   "execution_count": null,
   "metadata": {},
   "outputs": [],
   "source": [
    "def mps_orthonormalize_center(Alist, j):\n",
    "    \"\"\"\n",
    "    Convert a MPS to site-canonical form with center at site `j`, such that\n",
    "    all tensors to the left are left-orthonormal, and\n",
    "    all tensors to the right are right-orthonormal.\n",
    "    The list of tensors in `Alist` are updated in-place.\n",
    "    \"\"\"\n",
    "    # TODO: implement this function"
   ]
  },
  {
   "cell_type": "code",
   "execution_count": null,
   "metadata": {},
   "outputs": [],
   "source": [
    "def mps_orthonormalize_bond(Alist, j):\n",
    "    \"\"\"\n",
    "    Convert a MPS to bond-canonical form, with a list of \"singular values\"\n",
    "    between the `j`-th and `j+1`-th tensor.\n",
    "    The list of tensors in `Alist` are updated in-place.\n",
    "\n",
    "    Returns the singular value list.\n",
    "    \"\"\"\n",
    "    # TODO: implement this function"
   ]
  },
  {
   "cell_type": "markdown",
   "metadata": {},
   "source": [
    "## Utility functions"
   ]
  },
  {
   "cell_type": "code",
   "execution_count": null,
   "metadata": {},
   "outputs": [],
   "source": [
    "def is_left_orthonormal(A):\n",
    "    \"\"\"\n",
    "    Test whether a MPS tensor `A` is left-orthonormal.\n",
    "    \"\"\"\n",
    "    s = A.shape\n",
    "    assert len(s) == 3\n",
    "    A = np.reshape(A, (s[0]*s[1], s[2]))\n",
    "    return np.allclose(A.conj().T @ A, np.identity(s[2]))"
   ]
  },
  {
   "cell_type": "code",
   "execution_count": null,
   "metadata": {},
   "outputs": [],
   "source": [
    "def is_right_orthonormal(A):\n",
    "    \"\"\"\n",
    "    Test whether a MPS tensor `A` is right-orthonormal.\n",
    "    \"\"\"\n",
    "    # call `is_left_orthonormal` with flipped left and right virtual bond dimensions\n",
    "    return is_left_orthonormal(np.transpose(A, (0, 2, 1)))"
   ]
  },
  {
   "cell_type": "code",
   "execution_count": null,
   "metadata": {},
   "outputs": [],
   "source": [
    "def mps_to_full_tensor(Alist):\n",
    "    \"\"\"\n",
    "    Construct the full tensor corresponding to the MPS tensors `Alist`.\n",
    "\n",
    "    The i-th MPS tensor Alist[i] is expected to have dimensions (n[i], D[i], D[i+1]),\n",
    "    with `n` the list of logical dimensions and `D` the list of virtual bond dimensions.\n",
    "\n",
    "    Note: Should only be used for debugging and testing.\n",
    "    \"\"\"\n",
    "    # consistency check: dummy singleton dimension\n",
    "    assert Alist[0].ndim == 3 and Alist[0].shape[1] == 1\n",
    "    # formally remove dummy singleton dimension\n",
    "    T = np.reshape(Alist[0], (Alist[0].shape[0], Alist[0].shape[2]))\n",
    "    # contract virtual bonds\n",
    "    for i in range(1, len(Alist)):\n",
    "        T = np.tensordot(T, Alist[i], axes=(-1, 1))\n",
    "    # consistency check: trailing dummy singleton dimension\n",
    "    assert T.shape[-1] == 1\n",
    "    # formally remove trailing singleton dimension\n",
    "    T = np.reshape(T, T.shape[:-1])\n",
    "    return T"
   ]
  },
  {
   "cell_type": "code",
   "execution_count": null,
   "metadata": {},
   "outputs": [],
   "source": [
    "def mps_bond_to_full_tensor(Alist, S, j):\n",
    "    \"\"\"\n",
    "    Construct the full tensor corresponding to the bond-canonical MPS\n",
    "    with tensors `Alist` and \"bond\" singular values `S` between\n",
    "    the `j`-th and `j+1`-th tensor.\n",
    "    \"\"\"\n",
    "    # absorb bond singular values into j-th tensor\n",
    "    Blist = [np.tensordot(Alist[i], np.diag(S), (2, 1)) if i==j else Alist[i] for i in range(len(Alist))]\n",
    "    return mps_to_full_tensor(Blist)"
   ]
  },
  {
   "cell_type": "code",
   "execution_count": null,
   "metadata": {},
   "outputs": [],
   "source": [
    "def partial_trace(rho, dimA, dimB):\n",
    "    \"\"\"\n",
    "    Compute the partial traces of a density matrix 'rho' of a composite quantum system AB.\n",
    "\n",
    "    Args:\n",
    "        rho:  density matrix of dimension dimA*dimB x dimA*dimB\n",
    "        dimA: dimension of subsystem A\n",
    "        dimB: dimension of subsystem B\n",
    "    Returns:\n",
    "        tuple: reduced density matrices for subsystems A and B\n",
    "    \"\"\"\n",
    "    # explicit subsystem dimensions\n",
    "    rho = np.reshape(rho, (dimA, dimB, dimA, dimB))\n",
    "    # trace out subsystem B\n",
    "    rhoA = np.trace(rho, axis1=1, axis2=3)\n",
    "    # trace out subsystem A\n",
    "    rhoB = np.trace(rho, axis1=0, axis2=2)\n",
    "    return rhoA, rhoB"
   ]
  },
  {
   "cell_type": "code",
   "execution_count": null,
   "metadata": {},
   "outputs": [],
   "source": [
    "def crandn(size):\n",
    "    \"\"\"\n",
    "    Draw random samples from the standard complex normal (Gaussian) distribution.\n",
    "    \"\"\"\n",
    "    # 1/sqrt(2) is a normalization factor\n",
    "    return (np.random.normal(size=size) + 1j*np.random.normal(size=size)) / np.sqrt(2)"
   ]
  },
  {
   "cell_type": "code",
   "execution_count": null,
   "metadata": {},
   "outputs": [],
   "source": [
    "def xlogx(x):\n",
    "    \"\"\"\n",
    "    Compute `x * log(x)` (pointwise), such that the result is zero for `x = 0`.\n",
    "    \"\"\"\n",
    "    y = np.zeros_like(x)\n",
    "    idx = x > 0\n",
    "    y[idx] = x[idx] * np.log(x[idx])\n",
    "    return y"
   ]
  },
  {
   "cell_type": "markdown",
   "metadata": {},
   "source": [
    "## Examples and tests"
   ]
  },
  {
   "cell_type": "code",
   "execution_count": null,
   "metadata": {},
   "outputs": [],
   "source": [
    "# logical and virtual bond dimensions (rather arbitrarily chosen)\n",
    "n = [2, 5, 3, 4, 6, 3]\n",
    "D = [1, 3, 4, 7, 6, 5, 1]"
   ]
  },
  {
   "cell_type": "code",
   "execution_count": null,
   "metadata": {},
   "outputs": [],
   "source": [
    "# random MPS tensors (the scaling factor keeps the norm of the full tensor in a reasonable range)\n",
    "np.random.seed(142)\n",
    "Aref = [0.3 * crandn((n[i], D[i], D[i+1])) for i in range(len(n))]\n",
    "\n",
    "# the tensors are randomly chosen, and in particular not of any normal form\n",
    "print([is_left_orthonormal(A) for A in Aref])\n",
    "print([is_right_orthonormal(A) for A in Aref])\n",
    "\n",
    "# construct the full (dense) tensor which this MPS represents, as reference (should only be constructed for testing and debugging)\n",
    "Tref = mps_to_full_tensor(Aref)\n",
    "# its shape must be equal to `n` from above:\n",
    "print(\"Tref.shape:\", Tref.shape)"
   ]
  },
  {
   "cell_type": "markdown",
   "metadata": {},
   "source": [
    "### Left-orthonormalization"
   ]
  },
  {
   "cell_type": "code",
   "execution_count": null,
   "metadata": {},
   "outputs": [],
   "source": [
    "# first make a copy of the input tensors\n",
    "AL = [A.copy() for A in Aref]\n",
    "\n",
    "# function returns norm of input MPS\n",
    "nrmL = mps_orthonormalize_left(AL)"
   ]
  },
  {
   "cell_type": "code",
   "execution_count": null,
   "metadata": {},
   "outputs": [],
   "source": [
    "# these should all be True\n",
    "[is_left_orthonormal(A) for A in AL]"
   ]
  },
  {
   "cell_type": "code",
   "execution_count": null,
   "metadata": {},
   "outputs": [],
   "source": [
    "nrmL"
   ]
  },
  {
   "cell_type": "code",
   "execution_count": null,
   "metadata": {},
   "outputs": [],
   "source": [
    "# compare norm with reference\n",
    "abs(nrmL - np.linalg.norm(np.reshape(Tref, -1))) / abs(nrmL)"
   ]
  },
  {
   "cell_type": "code",
   "execution_count": null,
   "metadata": {},
   "outputs": [],
   "source": [
    "# compare full tensor with reference: difference should be zero (up to numerical rounding errors)\n",
    "np.linalg.norm(nrmL*mps_to_full_tensor(AL) - Tref)"
   ]
  },
  {
   "cell_type": "markdown",
   "metadata": {},
   "source": [
    "### Right-orthonormalization"
   ]
  },
  {
   "cell_type": "code",
   "execution_count": null,
   "metadata": {},
   "outputs": [],
   "source": [
    "# first make a copy of the input tensors\n",
    "AR = [A.copy() for A in Aref]\n",
    "\n",
    "# function returns norm of input MPS\n",
    "nrmR = mps_orthonormalize_right(AR)"
   ]
  },
  {
   "cell_type": "code",
   "execution_count": null,
   "metadata": {},
   "outputs": [],
   "source": [
    "# these should all be True\n",
    "[is_right_orthonormal(A) for A in AR]"
   ]
  },
  {
   "cell_type": "code",
   "execution_count": null,
   "metadata": {},
   "outputs": [],
   "source": [
    "nrmR"
   ]
  },
  {
   "cell_type": "code",
   "execution_count": null,
   "metadata": {},
   "outputs": [],
   "source": [
    "# compare norm with reference\n",
    "abs(nrmR - np.linalg.norm(np.reshape(Tref, -1))) / abs(nrmR)"
   ]
  },
  {
   "cell_type": "code",
   "execution_count": null,
   "metadata": {},
   "outputs": [],
   "source": [
    "# compare full tensor with reference: difference should be zero (up to numerical rounding errors)\n",
    "np.linalg.norm(nrmR*mps_to_full_tensor(AR) - Tref)"
   ]
  },
  {
   "cell_type": "markdown",
   "metadata": {},
   "source": [
    "### Site-canonical form"
   ]
  },
  {
   "cell_type": "code",
   "execution_count": null,
   "metadata": {},
   "outputs": [],
   "source": [
    "# again make a copy first\n",
    "AC = [A.copy() for A in Aref]\n",
    "\n",
    "# tensors are updated in-place, and overall norm is preserved (function has no formal return value)\n",
    "jcenter = 2\n",
    "mps_orthonormalize_center(AC, jcenter)"
   ]
  },
  {
   "cell_type": "code",
   "execution_count": null,
   "metadata": {},
   "outputs": [],
   "source": [
    "# these should all be True\n",
    "[is_left_orthonormal(A) for A in AC[:jcenter]]"
   ]
  },
  {
   "cell_type": "code",
   "execution_count": null,
   "metadata": {},
   "outputs": [],
   "source": [
    "# these should all be True\n",
    "[is_right_orthonormal(A) for A in AC[jcenter+1:]]"
   ]
  },
  {
   "cell_type": "code",
   "execution_count": null,
   "metadata": {},
   "outputs": [],
   "source": [
    "# \"center\" tensor is not orthonormal in general\n",
    "is_left_orthonormal(AC[jcenter]) or is_right_orthonormal(AC[jcenter])"
   ]
  },
  {
   "cell_type": "code",
   "execution_count": null,
   "metadata": {},
   "outputs": [],
   "source": [
    "# compare full tensor with reference: difference should be zero (up to numerical rounding errors)\n",
    "np.linalg.norm(mps_to_full_tensor(AC) - Tref)"
   ]
  },
  {
   "cell_type": "markdown",
   "metadata": {},
   "source": [
    "### Bond-canonical form"
   ]
  },
  {
   "cell_type": "code",
   "execution_count": null,
   "metadata": {},
   "outputs": [],
   "source": [
    "# again make a copy first\n",
    "AB = [A.copy() for A in Aref]\n",
    "\n",
    "jbond = 3\n",
    "S = mps_orthonormalize_bond(AB, jbond)"
   ]
  },
  {
   "cell_type": "code",
   "execution_count": null,
   "metadata": {},
   "outputs": [],
   "source": [
    "# list of singular values for \"cut\" at `jbond`\n",
    "S"
   ]
  },
  {
   "cell_type": "code",
   "execution_count": null,
   "metadata": {},
   "outputs": [],
   "source": [
    "# these should all be True\n",
    "[is_left_orthonormal(AB[j]) if j <= jbond else is_right_orthonormal(AB[j]) for j in range(len(AB))]"
   ]
  },
  {
   "cell_type": "code",
   "execution_count": null,
   "metadata": {},
   "outputs": [],
   "source": [
    "# compare full tensor with reference: difference should be zero (up to numerical rounding errors)\n",
    "np.linalg.norm(mps_bond_to_full_tensor(AB, S, jbond) - Tref)"
   ]
  },
  {
   "cell_type": "markdown",
   "metadata": {},
   "source": [
    "### Bond-singular values and entanglement entropy"
   ]
  },
  {
   "cell_type": "code",
   "execution_count": null,
   "metadata": {},
   "outputs": [],
   "source": [
    "# compute (reduced) density matrices, as reference\n",
    "ρref = np.outer(Tref, Tref.conj())\n",
    "ρA, ρB = partial_trace(ρref, np.prod(n[:jbond+1]), np.prod(n[jbond+1:]))\n",
    "print(\"ρA.shape:\", ρA.shape)\n",
    "print(\"ρB.shape:\", ρB.shape)"
   ]
  },
  {
   "cell_type": "code",
   "execution_count": null,
   "metadata": {},
   "outputs": [],
   "source": [
    "# must be Hermitian\n",
    "np.linalg.norm(ρA - ρA.conj().T)"
   ]
  },
  {
   "cell_type": "code",
   "execution_count": null,
   "metadata": {},
   "outputs": [],
   "source": [
    "# must be Hermitian\n",
    "np.linalg.norm(ρB - ρB.conj().T)"
   ]
  },
  {
   "cell_type": "code",
   "execution_count": null,
   "metadata": {},
   "outputs": [],
   "source": [
    "λA = np.linalg.eigvalsh(ρA)\n",
    "λB = np.linalg.eigvalsh(ρB)"
   ]
  },
  {
   "cell_type": "code",
   "execution_count": null,
   "metadata": {},
   "outputs": [],
   "source": [
    "# most of them are actually zero\n",
    "λA"
   ]
  },
  {
   "cell_type": "code",
   "execution_count": null,
   "metadata": {},
   "outputs": [],
   "source": [
    "# filter out zero eigenvalues\n",
    "λA = λA[np.logical_not(np.isclose(λA, 0, atol=1e-13))]\n",
    "λB = λB[np.logical_not(np.isclose(λB, 0, atol=1e-13))]\n",
    "\n",
    "# sort in descending order\n",
    "λA = np.sort(λA)[::-1]\n",
    "λB = np.sort(λB)[::-1]"
   ]
  },
  {
   "cell_type": "code",
   "execution_count": null,
   "metadata": {},
   "outputs": [],
   "source": [
    "λA"
   ]
  },
  {
   "cell_type": "code",
   "execution_count": null,
   "metadata": {},
   "outputs": [],
   "source": [
    "# compare: should agree\n",
    "np.linalg.norm(λA - λB)"
   ]
  },
  {
   "cell_type": "code",
   "execution_count": null,
   "metadata": {},
   "outputs": [],
   "source": [
    "# compare: should agree with bond-singular values from above\n",
    "np.linalg.norm(λA - S**2)"
   ]
  },
  {
   "cell_type": "code",
   "execution_count": null,
   "metadata": {},
   "outputs": [],
   "source": [
    "# normalize singular values\n",
    "Snrm = S / np.linalg.norm(S)\n",
    "Snrm"
   ]
  },
  {
   "cell_type": "code",
   "execution_count": null,
   "metadata": {},
   "outputs": [],
   "source": [
    "plt.semilogy(range(1, len(Snrm) + 1), Snrm**2, '.')\n",
    "plt.ylabel(\"$\\\\sigma_j^2$\")\n",
    "plt.xlabel(\"$j$\")\n",
    "plt.title(\"normalized singular values for cut at bond {}\".format(jbond))\n",
    "plt.show()"
   ]
  },
  {
   "cell_type": "code",
   "execution_count": null,
   "metadata": {},
   "outputs": [],
   "source": [
    "# finally compute entanglement entropy\n",
    "np.sum(-xlogx(Snrm**2))"
   ]
  }
 ],
 "metadata": {
  "kernelspec": {
   "display_name": "Python 3 (ipykernel)",
   "language": "python",
   "name": "python3"
  },
  "language_info": {
   "codemirror_mode": {
    "name": "ipython",
    "version": 3
   },
   "file_extension": ".py",
   "mimetype": "text/x-python",
   "name": "python",
   "nbconvert_exporter": "python",
   "pygments_lexer": "ipython3",
   "version": "3.9.7"
  }
 },
 "nbformat": 4,
 "nbformat_minor": 4
}
