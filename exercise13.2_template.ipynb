{
 "cells": [
  {
   "cell_type": "markdown",
   "metadata": {},
   "source": [
    "# Tensor renormalization group algorithm"
   ]
  },
  {
   "cell_type": "code",
   "execution_count": null,
   "metadata": {},
   "outputs": [],
   "source": [
    "import numpy as np\n",
    "import scipy.integrate as integrate"
   ]
  },
  {
   "cell_type": "markdown",
   "metadata": {},
   "source": [
    "References:  \n",
    "- H.-J. Liao, J.-G. Liu, L. Wang, T. Xiang:  \n",
    "  Differentiable programming tensor networks  \n",
    "  Phys. Rev. X 9, 031041 (2019) (arXiv:1903.09650)  \n",
    "  https://github.com/wangleiphy/tensorgrad\n",
    "- M. Levin, C. P. Nave:  \n",
    "  Tensor renormalization group approach to two-dimensional classical lattice models  \n",
    "  Phys. Rev. Lett. 99, 120601 (2007) (arXiv:cond-mat/0611687)"
   ]
  },
  {
   "cell_type": "code",
   "execution_count": null,
   "metadata": {},
   "outputs": [],
   "source": [
    "def renormalize(T, Dmax, epsilon):\n",
    "    \"\"\"\n",
    "    Perform a coarse-graining step of the tensor renormalization group (TRG) algorithm.\n",
    "    \"\"\"\n",
    "    # TODO: implement this function"
   ]
  },
  {
   "cell_type": "code",
   "execution_count": null,
   "metadata": {},
   "outputs": [],
   "source": [
    "def trg(T, Dmax, niter, epsilon=1e-15):\n",
    "    \"\"\"\n",
    "    Run the tensor renormalization group (TRG) algorithm, and\n",
    "    return the logarithm of the partition function (divided by the number of lattice sites).\n",
    "    \"\"\"\n",
    "    logZ = 0\n",
    "    for n in range(niter):\n",
    "        print(\"iteration\", n + 1)\n",
    "        maxval = np.max(abs(T))\n",
    "        T = T/maxval\n",
    "        # the power of 2 is the number of the tensors at the current lattice level\n",
    "        logZ += 2**(niter-n) * np.log(maxval)\n",
    "        T = renormalize(T, Dmax, epsilon)\n",
    "    # final trace\n",
    "    s = T.shape\n",
    "    logZ += np.log(np.trace(np.reshape(T, (s[0]*s[1], s[2]*s[3]))))\n",
    "    return logZ / 2**niter"
   ]
  },
  {
   "cell_type": "code",
   "execution_count": null,
   "metadata": {},
   "outputs": [],
   "source": [
    "def construct_ising_tensor(β):\n",
    "    \"\"\"\n",
    "    Construct tensor for evaluating the partition function of the classical Ising model.\n",
    "    \"\"\"\n",
    "    λ = [2*np.cosh(β), 2*np.sinh(β)]\n",
    "    return np.array(\n",
    "        [[[[0.5 * np.sqrt(λ[u]*λ[l]*λ[d]*λ[r]) if (u+l+d+r) % 2 == 0 else 0.0\n",
    "            for r in range(2)]\n",
    "            for d in range(2)]\n",
    "            for l in range(2)]\n",
    "            for u in range(2)])"
   ]
  },
  {
   "cell_type": "code",
   "execution_count": null,
   "metadata": {},
   "outputs": [],
   "source": [
    "def compute_ising_logZ(β, Dmax=12, niter=14):\n",
    "    \"\"\"\n",
    "    Compute the logarithm of the partition function\n",
    "    of the classical Ising model using the TRG algorithm.\n",
    "    \"\"\"\n",
    "    T = construct_ising_tensor(β)\n",
    "    return trg(T, Dmax, niter)"
   ]
  },
  {
   "cell_type": "code",
   "execution_count": null,
   "metadata": {},
   "outputs": [],
   "source": [
    "# critical inverse temperature\n",
    "βc = np.log(1 + np.sqrt(2)) / 2\n",
    "print(\"βc:\", βc)\n",
    "# inverse temperature used for the simulation\n",
    "β = βc - 0.05"
   ]
  },
  {
   "cell_type": "code",
   "execution_count": null,
   "metadata": {},
   "outputs": [],
   "source": [
    "logZ = compute_ising_logZ(β)\n",
    "logZ"
   ]
  },
  {
   "cell_type": "code",
   "execution_count": null,
   "metadata": {},
   "outputs": [],
   "source": [
    "# analytic reference solution\n",
    "K = 2*np.sinh(2*β)/np.cosh(2*β)**2\n",
    "Fref = np.log(2*np.cosh(2*β)) + 1/np.pi*integrate.quad(\n",
    "    lambda w: np.log(0.5*(1 + np.sqrt(1 - (K*np.sin(w))**2))), 0, np.pi/2)[0]\n",
    "Fref"
   ]
  },
  {
   "cell_type": "code",
   "execution_count": null,
   "metadata": {},
   "outputs": [],
   "source": [
    "# relative error\n",
    "abs(logZ - Fref) / Fref"
   ]
  }
 ],
 "metadata": {
  "kernelspec": {
   "display_name": "Python 3 (ipykernel)",
   "language": "python",
   "name": "python3"
  },
  "language_info": {
   "codemirror_mode": {
    "name": "ipython",
    "version": 3
   },
   "file_extension": ".py",
   "mimetype": "text/x-python",
   "name": "python",
   "nbconvert_exporter": "python",
   "pygments_lexer": "ipython3",
   "version": "3.9.7"
  }
 },
 "nbformat": 4,
 "nbformat_minor": 4
}
