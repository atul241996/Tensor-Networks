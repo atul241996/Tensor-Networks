{
 "cells": [
  {
   "cell_type": "markdown",
   "metadata": {},
   "source": [
    "# Ising model"
   ]
  },
  {
   "cell_type": "code",
   "execution_count": null,
   "metadata": {},
   "outputs": [],
   "source": [
    "import numpy as np\n",
    "from scipy import sparse\n",
    "import scipy.sparse.linalg as scila\n",
    "import matplotlib.pyplot as plt##"
   ]
  },
  {
   "cell_type": "markdown",
   "metadata": {},
   "source": [
    "## Adjacency matrices for various lattices"
   ]
  },
  {
   "cell_type": "code",
   "execution_count": null,
   "metadata": {},
   "outputs": [],
   "source": [
    "def adjacency_1D_lattice(L, pbc=True):\n",
    "    \"\"\"\n",
    "    Construct the adjacency matrix for a 1D lattice with `L` sites.\n",
    "    The optional parameter `pbc` specifies whether periodic boundary conditions\n",
    "    should be used.\n",
    "    \"\"\"\n",
    "    # TODO: implement this function"
   ]
  },
  {
   "cell_type": "code",
   "execution_count": null,
   "metadata": {},
   "outputs": [],
   "source": [
    "# should be symmetric\n",
    "np.linalg.norm(adjacency_1D_lattice(7) - adjacency_1D_lattice(7).T)"
   ]
  },
  {
   "cell_type": "code",
   "execution_count": null,
   "metadata": {},
   "outputs": [],
   "source": [
    "# each site should have 2 neighbors (for periodic boundary conditions)\n",
    "np.sum(adjacency_1D_lattice(7), axis=0)"
   ]
  },
  {
   "cell_type": "code",
   "execution_count": null,
   "metadata": {},
   "outputs": [],
   "source": [
    "# test for periodic boundary conditions (difference should be zero)\n",
    "np.linalg.norm(adjacency_1D_lattice(7) - np.array(\n",
    "    [[0, 1, 0, 0, 0, 0, 1],\n",
    "     [1, 0, 1, 0, 0, 0, 0],\n",
    "     [0, 1, 0, 1, 0, 0, 0],\n",
    "     [0, 0, 1, 0, 1, 0, 0],\n",
    "     [0, 0, 0, 1, 0, 1, 0],\n",
    "     [0, 0, 0, 0, 1, 0, 1],\n",
    "     [1, 0, 0, 0, 0, 1, 0]]))"
   ]
  },
  {
   "cell_type": "code",
   "execution_count": null,
   "metadata": {},
   "outputs": [],
   "source": [
    "# test for open boundary conditions (difference should be zero)\n",
    "np.linalg.norm(adjacency_1D_lattice(7, pbc=False) - np.array(\n",
    "    [[0, 1, 0, 0, 0, 0, 0],\n",
    "     [1, 0, 1, 0, 0, 0, 0],\n",
    "     [0, 1, 0, 1, 0, 0, 0],\n",
    "     [0, 0, 1, 0, 1, 0, 0],\n",
    "     [0, 0, 0, 1, 0, 1, 0],\n",
    "     [0, 0, 0, 0, 1, 0, 1],\n",
    "     [0, 0, 0, 0, 0, 1, 0]]))"
   ]
  },
  {
   "cell_type": "code",
   "execution_count": null,
   "metadata": {},
   "outputs": [],
   "source": [
    "def adjacency_square_lattice(Lx, Ly, pbc=True):\n",
    "    \"\"\"\n",
    "    Construct the adjacency matrix for a 2D square lattice with `Lx x Ly` sites.\n",
    "    The optional parameter `pbc` specifies whether periodic boundary conditions\n",
    "    should be used.\n",
    "    \"\"\"\n",
    "    # TODO: implement this function"
   ]
  },
  {
   "cell_type": "code",
   "execution_count": null,
   "metadata": {},
   "outputs": [],
   "source": [
    "# should be symmetric\n",
    "np.linalg.norm(adjacency_square_lattice(3, 4) - adjacency_square_lattice(3, 4).T)"
   ]
  },
  {
   "cell_type": "code",
   "execution_count": null,
   "metadata": {},
   "outputs": [],
   "source": [
    "# each site should have 4 neighbors (for periodic boundary conditions)\n",
    "np.sum(adjacency_square_lattice(3, 4), axis=0)"
   ]
  },
  {
   "cell_type": "code",
   "execution_count": null,
   "metadata": {},
   "outputs": [],
   "source": [
    "# test for periodic boundary conditions (difference should be zero)\n",
    "np.linalg.norm(adjacency_square_lattice(3, 4) - np.array(\n",
    "    [[0, 1, 0, 1, 1, 0, 0, 0, 1, 0, 0, 0],\n",
    "     [1, 0, 1, 0, 0, 1, 0, 0, 0, 1, 0, 0],\n",
    "     [0, 1, 0, 1, 0, 0, 1, 0, 0, 0, 1, 0],\n",
    "     [1, 0, 1, 0, 0, 0, 0, 1, 0, 0, 0, 1],\n",
    "     [1, 0, 0, 0, 0, 1, 0, 1, 1, 0, 0, 0],\n",
    "     [0, 1, 0, 0, 1, 0, 1, 0, 0, 1, 0, 0],\n",
    "     [0, 0, 1, 0, 0, 1, 0, 1, 0, 0, 1, 0],\n",
    "     [0, 0, 0, 1, 1, 0, 1, 0, 0, 0, 0, 1],\n",
    "     [1, 0, 0, 0, 1, 0, 0, 0, 0, 1, 0, 1],\n",
    "     [0, 1, 0, 0, 0, 1, 0, 0, 1, 0, 1, 0],\n",
    "     [0, 0, 1, 0, 0, 0, 1, 0, 0, 1, 0, 1],\n",
    "     [0, 0, 0, 1, 0, 0, 0, 1, 1, 0, 1, 0]]))"
   ]
  },
  {
   "cell_type": "code",
   "execution_count": null,
   "metadata": {},
   "outputs": [],
   "source": [
    "# test for open boundary conditions (difference should be zero)\n",
    "np.linalg.norm(adjacency_square_lattice(3, 4, pbc=False) - np.array(\n",
    "    [[0, 1, 0, 0, 1, 0, 0, 0, 0, 0, 0, 0],\n",
    "     [1, 0, 1, 0, 0, 1, 0, 0, 0, 0, 0, 0],\n",
    "     [0, 1, 0, 1, 0, 0, 1, 0, 0, 0, 0, 0],\n",
    "     [0, 0, 1, 0, 0, 0, 0, 1, 0, 0, 0, 0],\n",
    "     [1, 0, 0, 0, 0, 1, 0, 0, 1, 0, 0, 0],\n",
    "     [0, 1, 0, 0, 1, 0, 1, 0, 0, 1, 0, 0],\n",
    "     [0, 0, 1, 0, 0, 1, 0, 1, 0, 0, 1, 0],\n",
    "     [0, 0, 0, 1, 0, 0, 1, 0, 0, 0, 0, 1],\n",
    "     [0, 0, 0, 0, 1, 0, 0, 0, 0, 1, 0, 0],\n",
    "     [0, 0, 0, 0, 0, 1, 0, 0, 1, 0, 1, 0],\n",
    "     [0, 0, 0, 0, 0, 0, 1, 0, 0, 1, 0, 1],\n",
    "     [0, 0, 0, 0, 0, 0, 0, 1, 0, 0, 1, 0]]))"
   ]
  },
  {
   "cell_type": "markdown",
   "metadata": {},
   "source": [
    "## Ising Hamiltonian construction"
   ]
  },
  {
   "cell_type": "code",
   "execution_count": null,
   "metadata": {},
   "outputs": [],
   "source": [
    "def construct_ising_hamiltonian(J, g, adj):\n",
    "    \"\"\"\n",
    "    Construct Ising Hamiltonian as sparse matrix,\n",
    "    for interaction parameter `J` and external field parameter `g`.\n",
    "    `adj` is the adjacency matrix of the underlying lattice.\n",
    "    \"\"\"\n",
    "    # TODO: implement this function\n",
    "    # The returned Hamiltonian should be a sparse CSR matrix."
   ]
  },
  {
   "cell_type": "code",
   "execution_count": null,
   "metadata": {},
   "outputs": [],
   "source": [
    "# example\n",
    "adj = adjacency_1D_lattice(3, pbc=False)\n",
    "H = construct_ising_hamiltonian(1.1, 0.7, adj)\n",
    "H"
   ]
  },
  {
   "cell_type": "code",
   "execution_count": null,
   "metadata": {},
   "outputs": [],
   "source": [
    "# convert to NumPy array to show entries\n",
    "H.toarray()"
   ]
  },
  {
   "cell_type": "code",
   "execution_count": null,
   "metadata": {},
   "outputs": [],
   "source": [
    "# test: this should give zero\n",
    "np.linalg.norm(H - np.array(\n",
    "    [[-2.2, -0.7, -0.7,  0. , -0.7,  0. ,  0. ,  0. ],\n",
    "     [-0.7,  0. ,  0. , -0.7,  0. , -0.7,  0. ,  0. ],\n",
    "     [-0.7,  0. ,  2.2, -0.7,  0. ,  0. , -0.7,  0. ],\n",
    "     [ 0. , -0.7, -0.7,  0. ,  0. ,  0. ,  0. , -0.7],\n",
    "     [-0.7,  0. ,  0. ,  0. ,  0. , -0.7, -0.7,  0. ],\n",
    "     [ 0. , -0.7,  0. ,  0. , -0.7,  2.2,  0. , -0.7],\n",
    "     [ 0. ,  0. , -0.7,  0. , -0.7,  0. ,  0. , -0.7],\n",
    "     [ 0. ,  0. ,  0. , -0.7,  0. , -0.7, -0.7, -2.2]]))"
   ]
  },
  {
   "cell_type": "markdown",
   "metadata": {},
   "source": [
    "## Exemplary eigenvalues and -vectors"
   ]
  },
  {
   "cell_type": "code",
   "execution_count": null,
   "metadata": {},
   "outputs": [],
   "source": [
    "L = 10\n",
    "J = 1.0\n",
    "g = 0.8\n",
    "adj = adjacency_1D_lattice(L)\n",
    "H = construct_ising_hamiltonian(J, g, adj)\n",
    "H"
   ]
  },
  {
   "cell_type": "code",
   "execution_count": null,
   "metadata": {},
   "outputs": [],
   "source": [
    "# compute algebraically smallest few eigenvalues and corresponding eigenvectors\n",
    "en, ψ = # TODO: call scipy.sparse.linalg.eigsh here with suitable arguments to compute the 5 algebraically smallest eigenvalues and -vectors"
   ]
  },
  {
   "cell_type": "code",
   "execution_count": null,
   "metadata": {},
   "outputs": [],
   "source": [
    "# visualize these eigenvalues\n",
    "plt.plot(en, '.')\n",
    "plt.xlabel(\"j\")\n",
    "plt.ylabel(r\"$E_j$\")\n",
    "plt.title(\"J = {}, g = {}\".format(J, g))\n",
    "plt.show()"
   ]
  },
  {
   "cell_type": "code",
   "execution_count": null,
   "metadata": {},
   "outputs": [],
   "source": [
    "# for comparison: plot full spectrum\n",
    "plt.plot(np.linalg.eigvalsh(H.toarray()), '.')\n",
    "plt.xlabel(\"j\")\n",
    "plt.ylabel(r\"$E_j$\")\n",
    "plt.title(\"J = {}, g = {}\".format(J, g))\n",
    "plt.show()"
   ]
  },
  {
   "cell_type": "markdown",
   "metadata": {},
   "source": [
    "## Spin-spin correlation function"
   ]
  },
  {
   "cell_type": "code",
   "execution_count": null,
   "metadata": {},
   "outputs": [],
   "source": [
    "J = 1.0\n",
    "\n",
    "# Pauli-Z matrix\n",
    "Z = sparse.csr_matrix([[1., 0.], [0., -1.]])\n",
    "\n",
    "Llist = np.array([6, 8, 10, 12])\n",
    "glist = np.linspace(0, 2, 21)\n",
    "\n",
    "C = np.zeros((len(Llist), len(glist)))\n",
    "\n",
    "# iterate over various lattice sizes\n",
    "for i, L in enumerate(Llist):\n",
    "    print(\"L =\", L)\n",
    "    # spin operators (Pauli-Z) on site 0 and center site L/2\n",
    "    # TODO: construct Z_0 and Z_c as sparse CSR matrices here, with c = L//2\n",
    "    Z0 =\n",
    "    Zc =\n",
    "    adj = adjacency_1D_lattice(L)\n",
    "    # parameter sweep over `g`\n",
    "    for j, g in enumerate(glist):\n",
    "        H = construct_ising_hamiltonian(J, g, adj)\n",
    "        en, ψ = # TODO: call scipy.sparse.linalg.eigsh here with suitable arguments to compute the 5 algebraically smallest eigenvalues and -vectors\n",
    "        # ground state\n",
    "        ψ0 = ψ[:, 0]\n",
    "        # spin-spin correlation function\n",
    "        C[i, j] = np.vdot(ψ0, Z0 @ (Zc @ ψ0))"
   ]
  },
  {
   "cell_type": "code",
   "execution_count": null,
   "metadata": {},
   "outputs": [],
   "source": [
    "# visualize correlation function\n",
    "for i, L in enumerate(Llist):\n",
    "    plt.plot(glist, C[i, :], label=\"L={}\".format(L))\n",
    "# Ising model exhibits a phase transition at g = 1 in the thermodynamic limit L -> ∞\n",
    "plt.axvline(x=1)\n",
    "plt.legend()\n",
    "plt.xlabel(\"g\")\n",
    "plt.ylabel(r\"$\\langle\\psi_0|Z_{L/2} Z_0|\\psi_0\\rangle$\")\n",
    "plt.show()"
   ]
  },
  {
   "cell_type": "markdown",
   "metadata": {},
   "source": [
    "## Excitation energies"
   ]
  },
  {
   "cell_type": "code",
   "execution_count": null,
   "metadata": {},
   "outputs": [],
   "source": [
    "J = 1.0\n",
    "\n",
    "Llist = np.array([10, 12])\n",
    "glist = np.linspace(0, 2, 21)\n",
    "\n",
    "# excitation energies\n",
    "exc1 = np.zeros((len(Llist), len(glist)))\n",
    "exc2 = np.zeros((len(Llist), len(glist)))\n",
    "\n",
    "# iterate over various lattice sizes\n",
    "for i, L in enumerate(Llist):\n",
    "    print(\"L =\", L)\n",
    "    adj = adjacency_1D_lattice(L)\n",
    "    # parameter sweep over `g`\n",
    "    for j, g in enumerate(glist):\n",
    "        H = construct_ising_hamiltonian(J, g, adj)\n",
    "        en, ψ = # TODO: call scipy.sparse.linalg.eigsh here with suitable arguments to compute the 5 algebraically smallest eigenvalues and -vectors\n",
    "        en = np.sort(en)\n",
    "        exc1[i, j] = en[1] - en[0]\n",
    "        exc2[i, j] = en[2] - en[0]"
   ]
  },
  {
   "cell_type": "code",
   "execution_count": null,
   "metadata": {},
   "outputs": [],
   "source": [
    "# visualize excitation energies\n",
    "for i, L in enumerate(Llist):\n",
    "    plt.plot(glist, exc1[i, :],       label=\"E1 - E0, L={}\".format(L))\n",
    "    plt.plot(glist, exc2[i, :], '--', label=\"E2 - E0, L={}\".format(L))\n",
    "# Ising model exhibits a phase transition at g = 1 in the thermodynamic limit L -> ∞\n",
    "# Here we see that a \"gap\" opens at g = 1, i.e., E1 - E0 remains strictly positive for g > 1.\n",
    "plt.axvline(x=1)\n",
    "plt.legend()\n",
    "plt.xlabel(\"g\")\n",
    "plt.ylabel(r\"$\\Delta E$\")\n",
    "plt.show()"
   ]
  }
 ],
 "metadata": {
  "kernelspec": {
   "display_name": "Python 3 (ipykernel)",
   "language": "python",
   "name": "python3"
  },
  "language_info": {
   "codemirror_mode": {
    "name": "ipython",
    "version": 3
   },
   "file_extension": ".py",
   "mimetype": "text/x-python",
   "name": "python",
   "nbconvert_exporter": "python",
   "pygments_lexer": "ipython3",
   "version": "3.9.7"
  }
 },
 "nbformat": 4,
 "nbformat_minor": 4
}
