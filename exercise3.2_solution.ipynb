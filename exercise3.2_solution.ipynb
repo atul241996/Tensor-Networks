{
 "cells": [
  {
   "cell_type": "markdown",
   "metadata": {},
   "source": [
    "# Exercise 3.2 (Matrix functions)\n",
    "## (b) Computing the X-matrix-exponent"
   ]
  },
  {
   "cell_type": "code",
   "execution_count": 1,
   "metadata": {},
   "outputs": [],
   "source": [
    "import numpy as np\n",
    "from scipy.linalg import expm"
   ]
  },
  {
   "cell_type": "code",
   "execution_count": 2,
   "metadata": {},
   "outputs": [],
   "source": [
    "# Pauli-X matrix\n",
    "X = np.array([[0., 1.], [1., 0.]])"
   ]
  },
  {
   "cell_type": "code",
   "execution_count": 3,
   "metadata": {},
   "outputs": [
    {
     "data": {
      "text/plain": [
       "array([[ 1.08107237, -0.41075233],\n",
       "       [-0.41075233,  1.08107237]])"
      ]
     },
     "execution_count": 3,
     "metadata": {},
     "output_type": "execute_result"
    }
   ],
   "source": [
    "# evaluate matrix exponential numerically\n",
    "beta = 0.4\n",
    "expm(-beta * X)"
   ]
  },
  {
   "cell_type": "code",
   "execution_count": 4,
   "metadata": {},
   "outputs": [
    {
     "data": {
      "text/plain": [
       "3.1401849173675503e-16"
      ]
     },
     "execution_count": 4,
     "metadata": {},
     "output_type": "execute_result"
    }
   ],
   "source": [
    "# compare with analytic expression (agrees to numerical precision)\n",
    "np.linalg.norm(expm(-beta * X) - np.array([[np.cosh(beta), -np.sinh(beta)], [-np.sinh(beta), np.cosh(beta)]]))"
   ]
  },
  {
   "cell_type": "markdown",
   "metadata": {},
   "source": [
    "## (c) Matrix exponent via complex inegration"
   ]
  },
  {
   "cell_type": "code",
   "execution_count": 5,
   "metadata": {},
   "outputs": [],
   "source": [
    "from numpy import exp\n",
    "import scipy.integrate as integrate"
   ]
  },
  {
   "cell_type": "code",
   "execution_count": 6,
   "metadata": {},
   "outputs": [],
   "source": [
    "beta = 0.4\n",
    "def f(z):\n",
    "    return exp(-beta*z)"
   ]
  },
  {
   "cell_type": "code",
   "execution_count": 7,
   "metadata": {},
   "outputs": [],
   "source": [
    "a = 0.3 + 0.2j"
   ]
  },
  {
   "cell_type": "code",
   "execution_count": 8,
   "metadata": {},
   "outputs": [
    {
     "data": {
      "text/plain": [
       "(0.8840838046743271-0.07087797527525658j)"
      ]
     },
     "execution_count": 8,
     "metadata": {},
     "output_type": "execute_result"
    }
   ],
   "source": [
    "r = 2.0  # circle radius\n",
    "integrand = lambda t: f(r*exp(2j*np.pi*t)) / (r*exp(2j*np.pi*t) - a) * r*exp(2j*np.pi*t)\n",
    "\n",
    "# perform integration of real and imaginary parts separately\n",
    "(   integrate.quad(lambda t: np.real(integrand(t)), 0, 1)[0] +\n",
    " 1j*integrate.quad(lambda t: np.imag(integrand(t)), 0, 1)[0])"
   ]
  },
  {
   "cell_type": "code",
   "execution_count": 9,
   "metadata": {},
   "outputs": [
    {
     "data": {
      "text/plain": [
       "1.3092278833360675e-16"
      ]
     },
     "execution_count": 9,
     "metadata": {},
     "output_type": "execute_result"
    }
   ],
   "source": [
    "# result of previous cell agrees with f(a)\n",
    "abs(_ - f(a))"
   ]
  },
  {
   "cell_type": "code",
   "execution_count": 10,
   "metadata": {},
   "outputs": [
    {
     "data": {
      "text/plain": [
       "array([[ 1.08107237+2.77555756e-17j, -0.41075233+6.93889390e-18j],\n",
       "       [-0.41075233+6.93889390e-18j,  1.08107237+2.77555756e-17j]])"
      ]
     },
     "execution_count": 10,
     "metadata": {},
     "output_type": "execute_result"
    }
   ],
   "source": [
    "# matrix-valued integrand, using that (z I - X)^{-1} = (z I + X) / (z**2 - 1)\n",
    "integrand_mat = lambda t: f(r*exp(2j*np.pi*t)) * (r*exp(2j*np.pi*t)*np.identity(2) + X)/(r**2 * exp(4j*np.pi*t) - 1)* r*exp(2j*np.pi*t)\n",
    "\n",
    "# perform integration of real and imaginary parts separately\n",
    "(   integrate.quad_vec(lambda t: np.real(integrand_mat(t)), 0, 1)[0] +\n",
    " 1j*integrate.quad_vec(lambda t: np.imag(integrand_mat(t)), 0, 1)[0])\n",
    "# note that imaginary part is actually zero (up to rounding errors)"
   ]
  },
  {
   "cell_type": "code",
   "execution_count": 11,
   "metadata": {},
   "outputs": [
    {
     "data": {
      "text/plain": [
       "True"
      ]
     },
     "execution_count": 11,
     "metadata": {},
     "output_type": "execute_result"
    }
   ],
   "source": [
    "# compare with reference\n",
    "np.allclose(_, expm(-beta * X))"
   ]
  }
 ],
 "metadata": {
  "kernelspec": {
   "display_name": "Python 3 (ipykernel)",
   "language": "python",
   "name": "python3"
  },
  "language_info": {
   "codemirror_mode": {
    "name": "ipython",
    "version": 3
   },
   "file_extension": ".py",
   "mimetype": "text/x-python",
   "name": "python",
   "nbconvert_exporter": "python",
   "pygments_lexer": "ipython3",
   "version": "3.9.7"
  }
 },
 "nbformat": 4,
 "nbformat_minor": 4
}
