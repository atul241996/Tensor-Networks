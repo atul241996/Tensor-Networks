{
 "cells": [
  {
   "cell_type": "markdown",
   "metadata": {},
   "source": [
    "# Ising model"
   ]
  },
  {
   "cell_type": "code",
   "execution_count": 1,
   "metadata": {},
   "outputs": [],
   "source": [
    "import numpy as np\n",
    "from scipy import sparse\n",
    "import scipy.sparse.linalg as scila\n",
    "import matplotlib.pyplot as plt"
   ]
  },
  {
   "cell_type": "markdown",
   "metadata": {},
   "source": [
    "## Adjacency matrices for various lattices"
   ]
  },
  {
   "cell_type": "code",
   "execution_count": 2,
   "metadata": {},
   "outputs": [],
   "source": [
    "def adjacency_1D_lattice(L, pbc=True):\n",
    "    \"\"\"\n",
    "    Construct the adjacency matrix for a 1D lattice with `L` sites.\n",
    "    The optional parameter `pbc` specifies whether periodic boundary conditions\n",
    "    should be used.\n",
    "    \"\"\"\n",
    "    assert L > 1\n",
    "    # special case\n",
    "    if L == 2:\n",
    "        return np.array([[0, 1], [1, 0]])\n",
    "    if pbc:\n",
    "        # periodic boundary conditions\n",
    "        return np.roll(np.identity(L, dtype=int), -1, axis=0) + np.roll(np.identity(L, dtype=int), 1, axis=0)\n",
    "    else:\n",
    "        # open boundary conditions\n",
    "        return np.diag(np.ones(L - 1, dtype=int), k=-1) + np.diag(np.ones(L - 1, dtype=int), k=1)"
   ]
  },
  {
   "cell_type": "code",
   "execution_count": 3,
   "metadata": {},
   "outputs": [
    {
     "data": {
      "text/plain": [
       "0.0"
      ]
     },
     "execution_count": 3,
     "metadata": {},
     "output_type": "execute_result"
    }
   ],
   "source": [
    "# should be symmetric\n",
    "np.linalg.norm(adjacency_1D_lattice(7) - adjacency_1D_lattice(7).T)"
   ]
  },
  {
   "cell_type": "code",
   "execution_count": 4,
   "metadata": {},
   "outputs": [
    {
     "data": {
      "text/plain": [
       "array([2, 2, 2, 2, 2, 2, 2])"
      ]
     },
     "execution_count": 4,
     "metadata": {},
     "output_type": "execute_result"
    }
   ],
   "source": [
    "# each site should have 2 neighbors (for periodic boundary conditions)\n",
    "np.sum(adjacency_1D_lattice(7), axis=0)"
   ]
  },
  {
   "cell_type": "code",
   "execution_count": 5,
   "metadata": {},
   "outputs": [
    {
     "data": {
      "text/plain": [
       "0.0"
      ]
     },
     "execution_count": 5,
     "metadata": {},
     "output_type": "execute_result"
    }
   ],
   "source": [
    "# test for periodic boundary conditions (difference should be zero)\n",
    "np.linalg.norm(adjacency_1D_lattice(7) - np.array(\n",
    "    [[0, 1, 0, 0, 0, 0, 1],\n",
    "     [1, 0, 1, 0, 0, 0, 0],\n",
    "     [0, 1, 0, 1, 0, 0, 0],\n",
    "     [0, 0, 1, 0, 1, 0, 0],\n",
    "     [0, 0, 0, 1, 0, 1, 0],\n",
    "     [0, 0, 0, 0, 1, 0, 1],\n",
    "     [1, 0, 0, 0, 0, 1, 0]]))"
   ]
  },
  {
   "cell_type": "code",
   "execution_count": 6,
   "metadata": {},
   "outputs": [
    {
     "data": {
      "text/plain": [
       "0.0"
      ]
     },
     "execution_count": 6,
     "metadata": {},
     "output_type": "execute_result"
    }
   ],
   "source": [
    "# test for open boundary conditions (difference should be zero)\n",
    "np.linalg.norm(adjacency_1D_lattice(7, pbc=False) - np.array(\n",
    "    [[0, 1, 0, 0, 0, 0, 0],\n",
    "     [1, 0, 1, 0, 0, 0, 0],\n",
    "     [0, 1, 0, 1, 0, 0, 0],\n",
    "     [0, 0, 1, 0, 1, 0, 0],\n",
    "     [0, 0, 0, 1, 0, 1, 0],\n",
    "     [0, 0, 0, 0, 1, 0, 1],\n",
    "     [0, 0, 0, 0, 0, 1, 0]]))"
   ]
  },
  {
   "cell_type": "code",
   "execution_count": 7,
   "metadata": {},
   "outputs": [],
   "source": [
    "def adjacency_square_lattice(Lx, Ly, pbc=True):\n",
    "    \"\"\"\n",
    "    Construct the adjacency matrix for a 2D square lattice with `Lx x Ly` sites.\n",
    "    The optional parameter `pbc` specifies whether periodic boundary conditions\n",
    "    should be used.\n",
    "    \"\"\"\n",
    "    assert Lx > 1 and Ly > 1\n",
    "    L = Lx * Ly\n",
    "    adj = np.zeros((L, L), dtype=int)\n",
    "    # enumerate lattice sites\n",
    "    idx = np.arange(L).reshape((Lx, Ly))\n",
    "    if pbc:\n",
    "        # periodic boundary conditions\n",
    "        # loop over directions (x- and y-direction)\n",
    "        for a in range(2):\n",
    "            # loop over \"left\" or \"right\" neighbor\n",
    "            for s in [-1, 1]:\n",
    "                ids = np.roll(idx, s, axis=a)\n",
    "                for (i, j) in zip(idx.reshape(-1), ids.reshape(-1)):\n",
    "                    adj[i, j] = 1\n",
    "    else:\n",
    "        # open boundary conditions\n",
    "        for x in range(Lx):\n",
    "            for y in range(Ly):\n",
    "                # nearest neighbors\n",
    "                if x > 0:\n",
    "                    adj[idx[x, y], idx[x - 1, y]] = 1\n",
    "                if x + 1 < Lx:\n",
    "                    adj[idx[x, y], idx[x + 1, y]] = 1\n",
    "                if y > 0:\n",
    "                    adj[idx[x, y], idx[x, y - 1]] = 1\n",
    "                if y + 1 < Ly:\n",
    "                    adj[idx[x, y], idx[x, y + 1]] = 1\n",
    "    return adj"
   ]
  },
  {
   "cell_type": "code",
   "execution_count": 8,
   "metadata": {},
   "outputs": [
    {
     "data": {
      "text/plain": [
       "0.0"
      ]
     },
     "execution_count": 8,
     "metadata": {},
     "output_type": "execute_result"
    }
   ],
   "source": [
    "# should be symmetric\n",
    "np.linalg.norm(adjacency_square_lattice(3, 4) - adjacency_square_lattice(3, 4).T)"
   ]
  },
  {
   "cell_type": "code",
   "execution_count": 9,
   "metadata": {},
   "outputs": [
    {
     "data": {
      "text/plain": [
       "array([4, 4, 4, 4, 4, 4, 4, 4, 4, 4, 4, 4])"
      ]
     },
     "execution_count": 9,
     "metadata": {},
     "output_type": "execute_result"
    }
   ],
   "source": [
    "# each site should have 4 neighbors (for periodic boundary conditions)\n",
    "np.sum(adjacency_square_lattice(3, 4), axis=0)"
   ]
  },
  {
   "cell_type": "code",
   "execution_count": 10,
   "metadata": {},
   "outputs": [
    {
     "data": {
      "text/plain": [
       "0.0"
      ]
     },
     "execution_count": 10,
     "metadata": {},
     "output_type": "execute_result"
    }
   ],
   "source": [
    "# test for periodic boundary conditions (difference should be zero)\n",
    "np.linalg.norm(adjacency_square_lattice(3, 4) - np.array(\n",
    "    [[0, 1, 0, 1, 1, 0, 0, 0, 1, 0, 0, 0],\n",
    "     [1, 0, 1, 0, 0, 1, 0, 0, 0, 1, 0, 0],\n",
    "     [0, 1, 0, 1, 0, 0, 1, 0, 0, 0, 1, 0],\n",
    "     [1, 0, 1, 0, 0, 0, 0, 1, 0, 0, 0, 1],\n",
    "     [1, 0, 0, 0, 0, 1, 0, 1, 1, 0, 0, 0],\n",
    "     [0, 1, 0, 0, 1, 0, 1, 0, 0, 1, 0, 0],\n",
    "     [0, 0, 1, 0, 0, 1, 0, 1, 0, 0, 1, 0],\n",
    "     [0, 0, 0, 1, 1, 0, 1, 0, 0, 0, 0, 1],\n",
    "     [1, 0, 0, 0, 1, 0, 0, 0, 0, 1, 0, 1],\n",
    "     [0, 1, 0, 0, 0, 1, 0, 0, 1, 0, 1, 0],\n",
    "     [0, 0, 1, 0, 0, 0, 1, 0, 0, 1, 0, 1],\n",
    "     [0, 0, 0, 1, 0, 0, 0, 1, 1, 0, 1, 0]]))"
   ]
  },
  {
   "cell_type": "code",
   "execution_count": 11,
   "metadata": {},
   "outputs": [
    {
     "data": {
      "text/plain": [
       "0.0"
      ]
     },
     "execution_count": 11,
     "metadata": {},
     "output_type": "execute_result"
    }
   ],
   "source": [
    "# test for open boundary conditions (difference should be zero)\n",
    "np.linalg.norm(adjacency_square_lattice(3, 4, pbc=False) - np.array(\n",
    "    [[0, 1, 0, 0, 1, 0, 0, 0, 0, 0, 0, 0],\n",
    "     [1, 0, 1, 0, 0, 1, 0, 0, 0, 0, 0, 0],\n",
    "     [0, 1, 0, 1, 0, 0, 1, 0, 0, 0, 0, 0],\n",
    "     [0, 0, 1, 0, 0, 0, 0, 1, 0, 0, 0, 0],\n",
    "     [1, 0, 0, 0, 0, 1, 0, 0, 1, 0, 0, 0],\n",
    "     [0, 1, 0, 0, 1, 0, 1, 0, 0, 1, 0, 0],\n",
    "     [0, 0, 1, 0, 0, 1, 0, 1, 0, 0, 1, 0],\n",
    "     [0, 0, 0, 1, 0, 0, 1, 0, 0, 0, 0, 1],\n",
    "     [0, 0, 0, 0, 1, 0, 0, 0, 0, 1, 0, 0],\n",
    "     [0, 0, 0, 0, 0, 1, 0, 0, 1, 0, 1, 0],\n",
    "     [0, 0, 0, 0, 0, 0, 1, 0, 0, 1, 0, 1],\n",
    "     [0, 0, 0, 0, 0, 0, 0, 1, 0, 0, 1, 0]]))"
   ]
  },
  {
   "cell_type": "markdown",
   "metadata": {},
   "source": [
    "## Ising Hamiltonian construction"
   ]
  },
  {
   "cell_type": "code",
   "execution_count": 12,
   "metadata": {},
   "outputs": [],
   "source": [
    "def construct_ising_hamiltonian(J, g, adj):\n",
    "    \"\"\"\n",
    "    Construct Ising Hamiltonian as sparse matrix,\n",
    "    for interaction parameter `J` and external field parameter `g`.\n",
    "    `adj` is the adjacency matrix of the underlying lattice.\n",
    "    \"\"\"\n",
    "    # Pauli-X and Z matrices\n",
    "    X = sparse.csr_matrix([[0., 1.], [1.,  0.]])\n",
    "    Z = sparse.csr_matrix([[1., 0.], [0., -1.]])\n",
    "    # overall number of lattice sites\n",
    "    L = adj.shape[0]\n",
    "    H = sparse.csr_matrix((2**L, 2**L), dtype=float)\n",
    "    for j in range(L):\n",
    "        for k in range(j+1, L):\n",
    "            if adj[j, k] > 0:\n",
    "                H -= J * sparse.kron(sparse.eye(2**j),\n",
    "                         sparse.kron(Z,\n",
    "                         sparse.kron(sparse.eye(2**(k-j-1)),\n",
    "                         sparse.kron(Z,\n",
    "                                     sparse.eye(2**(L-k-1))))))\n",
    "    # external field\n",
    "    for j in range(L):\n",
    "        H -= g * sparse.kron(sparse.eye(2**j), sparse.kron(X, sparse.eye(2**(L-j-1))))\n",
    "    return H"
   ]
  },
  {
   "cell_type": "code",
   "execution_count": 13,
   "metadata": {},
   "outputs": [
    {
     "data": {
      "text/plain": [
       "<8x8 sparse matrix of type '<class 'numpy.float64'>'\n",
       "\twith 28 stored elements in Compressed Sparse Row format>"
      ]
     },
     "execution_count": 13,
     "metadata": {},
     "output_type": "execute_result"
    }
   ],
   "source": [
    "# example\n",
    "adj = adjacency_1D_lattice(3, pbc=False)\n",
    "H = construct_ising_hamiltonian(1.1, 0.7, adj)\n",
    "H"
   ]
  },
  {
   "cell_type": "code",
   "execution_count": 14,
   "metadata": {},
   "outputs": [
    {
     "data": {
      "text/plain": [
       "array([[-2.2, -0.7, -0.7,  0. , -0.7,  0. ,  0. ,  0. ],\n",
       "       [-0.7,  0. ,  0. , -0.7,  0. , -0.7,  0. ,  0. ],\n",
       "       [-0.7,  0. ,  2.2, -0.7,  0. ,  0. , -0.7,  0. ],\n",
       "       [ 0. , -0.7, -0.7,  0. ,  0. ,  0. ,  0. , -0.7],\n",
       "       [-0.7,  0. ,  0. ,  0. ,  0. , -0.7, -0.7,  0. ],\n",
       "       [ 0. , -0.7,  0. ,  0. , -0.7,  2.2,  0. , -0.7],\n",
       "       [ 0. ,  0. , -0.7,  0. , -0.7,  0. ,  0. , -0.7],\n",
       "       [ 0. ,  0. ,  0. , -0.7,  0. , -0.7, -0.7, -2.2]])"
      ]
     },
     "execution_count": 14,
     "metadata": {},
     "output_type": "execute_result"
    }
   ],
   "source": [
    "# convert to NumPy array to show entries\n",
    "H.toarray()"
   ]
  },
  {
   "cell_type": "code",
   "execution_count": 15,
   "metadata": {},
   "outputs": [
    {
     "data": {
      "text/plain": [
       "0.0"
      ]
     },
     "execution_count": 15,
     "metadata": {},
     "output_type": "execute_result"
    }
   ],
   "source": [
    "# test: this should give zero\n",
    "np.linalg.norm(H - np.array(\n",
    "    [[-2.2, -0.7, -0.7,  0. , -0.7,  0. ,  0. ,  0. ],\n",
    "     [-0.7,  0. ,  0. , -0.7,  0. , -0.7,  0. ,  0. ],\n",
    "     [-0.7,  0. ,  2.2, -0.7,  0. ,  0. , -0.7,  0. ],\n",
    "     [ 0. , -0.7, -0.7,  0. ,  0. ,  0. ,  0. , -0.7],\n",
    "     [-0.7,  0. ,  0. ,  0. ,  0. , -0.7, -0.7,  0. ],\n",
    "     [ 0. , -0.7,  0. ,  0. , -0.7,  2.2,  0. , -0.7],\n",
    "     [ 0. ,  0. , -0.7,  0. , -0.7,  0. ,  0. , -0.7],\n",
    "     [ 0. ,  0. ,  0. , -0.7,  0. , -0.7, -0.7, -2.2]]))"
   ]
  },
  {
   "cell_type": "markdown",
   "metadata": {},
   "source": [
    "## Exemplary eigenvalues and -vectors"
   ]
  },
  {
   "cell_type": "code",
   "execution_count": 16,
   "metadata": {},
   "outputs": [
    {
     "data": {
      "text/plain": [
       "<1024x1024 sparse matrix of type '<class 'numpy.float64'>'\n",
       "\twith 11264 stored elements in Compressed Sparse Row format>"
      ]
     },
     "execution_count": 16,
     "metadata": {},
     "output_type": "execute_result"
    }
   ],
   "source": [
    "L = 10\n",
    "J = 1.0\n",
    "g = 0.8\n",
    "adj = adjacency_1D_lattice(L)\n",
    "H = construct_ising_hamiltonian(J, g, adj)\n",
    "H"
   ]
  },
  {
   "cell_type": "code",
   "execution_count": 38,
   "metadata": {},
   "outputs": [
    {
     "name": "stdout",
     "output_type": "stream",
     "text": [
      "[-25.5251383  -23.52499336 -23.04636601 -23.04636601 -22.06089175]\n"
     ]
    }
   ],
   "source": [
    "# compute algebraically smallest few eigenvalues and corresponding eigenvectors\n",
    "en, ψ = scila.eigsh(H, k=5, which='SA')\n",
    "print(en)"
   ]
  },
  {
   "cell_type": "code",
   "execution_count": 35,
   "metadata": {},
   "outputs": [
    {
     "data": {
      "image/png": "[encoded data removed]",
      "text/plain": [
       "<Figure size 432x288 with 1 Axes>"
      ]
     },
     "metadata": {
      "needs_background": "light"
     },
     "output_type": "display_data"
    }
   ],
   "source": [
    "# visualize these eigenvalues\n",
    "plt.plot(en, '.')\n",
    "plt.xlabel(\"j\")\n",
    "plt.ylabel(r\"$E_j$\")\n",
    "plt.title(\"J = {}, g = {}\".format(J, g))\n",
    "plt.show()"
   ]
  },
  {
   "cell_type": "code",
   "execution_count": 19,
   "metadata": {},
   "outputs": [
    {
     "data": {
      "image/png": "[encoded data removed]",
      "text/plain": [
       "<Figure size 432x288 with 1 Axes>"
      ]
     },
     "metadata": {
      "needs_background": "light"
     },
     "output_type": "display_data"
    }
   ],
   "source": [
    "# for comparison: plot full spectrum\n",
    "plt.plot(np.linalg.eigvalsh(H.toarray()), '.')\n",
    "plt.xlabel(\"j\")\n",
    "plt.ylabel(r\"$E_j$\")\n",
    "plt.title(\"J = {}, g = {}\".format(J, g))\n",
    "plt.show()"
   ]
  },
  {
   "cell_type": "markdown",
   "metadata": {},
   "source": [
    "## Spin-spin correlation function"
   ]
  },
  {
   "cell_type": "code",
   "execution_count": 20,
   "metadata": {},
   "outputs": [
    {
     "name": "stdout",
     "output_type": "stream",
     "text": [
      "L = 6\n",
      "L = 8\n",
      "L = 10\n",
      "L = 12\n"
     ]
    }
   ],
   "source": [
    "J = 1.0\n",
    "\n",
    "# Pauli-Z matrix\n",
    "Z = sparse.csr_matrix([[1., 0.], [0., -1.]])\n",
    "\n",
    "Llist = np.array([6, 8, 10, 12])\n",
    "glist = np.linspace(0, 2, 21)\n",
    "\n",
    "C = np.zeros((len(Llist), len(glist)))\n",
    "\n",
    "# iterate over various lattice sizes\n",
    "for i, L in enumerate(Llist):\n",
    "    print(\"L =\", L)\n",
    "    # spin operators (Pauli-Z) on site 0 and center site L/2\n",
    "    Z0 = sparse.kron(Z, sparse.eye(2**(L-1)))\n",
    "    Zc = sparse.kron(sparse.eye(2**(L//2)), sparse.kron(Z, sparse.eye(2**(L-L//2-1))))\n",
    "    adj = adjacency_1D_lattice(L)\n",
    "    # parameter sweep over `g`\n",
    "    for j, g in enumerate(glist):\n",
    "        H = construct_ising_hamiltonian(J, g, adj)\n",
    "        en, ψ = scila.eigsh(H, k=5, which='SA')\n",
    "        # ground state\n",
    "        ψ0 = ψ[:, 0]\n",
    "        # spin-spin correlation function\n",
    "        C[i, j] = np.vdot(ψ0, Z0 @ (Zc @ ψ0))"
   ]
  },
  {
   "cell_type": "code",
   "execution_count": 21,
   "metadata": {},
   "outputs": [
    {
     "data": {
      "image/png": "[encoded data removed]",
      "text/plain": [
       "<Figure size 432x288 with 1 Axes>"
      ]
     },
     "metadata": {
      "needs_background": "light"
     },
     "output_type": "display_data"
    }
   ],
   "source": [
    "# visualize correlation function\n",
    "for i, L in enumerate(Llist):\n",
    "    plt.plot(glist, C[i, :], label=\"L={}\".format(L))\n",
    "# Ising model exhibits a phase transition at g = 1 in the thermodynamic limit L -> ∞\n",
    "plt.axvline(x=1)\n",
    "plt.legend()\n",
    "plt.xlabel(\"g\")\n",
    "plt.ylabel(r\"$\\langle\\psi_0|Z_{L/2} Z_0|\\psi_0\\rangle$\")\n",
    "plt.show()"
   ]
  },
  {
   "cell_type": "markdown",
   "metadata": {},
   "source": [
    "## Excitation energies"
   ]
  },
  {
   "cell_type": "code",
   "execution_count": 22,
   "metadata": {},
   "outputs": [
    {
     "name": "stdout",
     "output_type": "stream",
     "text": [
      "L = 10\n",
      "L = 12\n"
     ]
    }
   ],
   "source": [
    "J = 1.0\n",
    "\n",
    "Llist = np.array([10, 12])\n",
    "glist = np.linspace(0, 2, 21)\n",
    "\n",
    "# excitation energies\n",
    "exc1 = np.zeros((len(Llist), len(glist)))\n",
    "exc2 = np.zeros((len(Llist), len(glist)))\n",
    "\n",
    "# iterate over various lattice sizes\n",
    "for i, L in enumerate(Llist):\n",
    "    print(\"L =\", L)\n",
    "    adj = adjacency_1D_lattice(L)\n",
    "    # parameter sweep over `g`\n",
    "    for j, g in enumerate(glist):\n",
    "        H = construct_ising_hamiltonian(J, g, adj)\n",
    "        en, ψ = scila.eigsh(H, k=5, which='SA')\n",
    "        en = np.sort(en)\n",
    "        exc1[i, j] = en[1] - en[0]\n",
    "        exc2[i, j] = en[2] - en[0]"
   ]
  },
  {
   "cell_type": "code",
   "execution_count": 23,
   "metadata": {},
   "outputs": [
    {
     "data": {
      "image/png": "[encoded data removed]",
      "text/plain": [
       "<Figure size 432x288 with 1 Axes>"
      ]
     },
     "metadata": {
      "needs_background": "light"
     },
     "output_type": "display_data"
    }
   ],
   "source": [
    "# visualize excitation energies\n",
    "for i, L in enumerate(Llist):\n",
    "    plt.plot(glist, exc1[i, :],       label=\"E1 - E0, L={}\".format(L))\n",
    "    plt.plot(glist, exc2[i, :], '--', label=\"E2 - E0, L={}\".format(L))\n",
    "# Ising model exhibits a phase transition at g = 1 in the thermodynamic limit L -> ∞\n",
    "# Here we see that a \"gap\" opens at g = 1, i.e., E1 - E0 remains strictly positive for g > 1.\n",
    "plt.axvline(x=1)\n",
    "plt.legend()\n",
    "plt.xlabel(\"g\")\n",
    "plt.ylabel(r\"$\\Delta E$\")\n",
    "plt.show()"
   ]
  },
  {
   "cell_type": "code",
   "execution_count": null,
   "metadata": {},
   "outputs": [],
   "source": []
  }
 ],
 "metadata": {
  "kernelspec": {
   "display_name": "Python 3 (ipykernel)",
   "language": "python",
   "name": "python3"
  },
  "language_info": {
   "codemirror_mode": {
    "name": "ipython",
    "version": 3
   },
   "file_extension": ".py",
   "mimetype": "text/x-python",
   "name": "python",
   "nbconvert_exporter": "python",
   "pygments_lexer": "ipython3",
   "version": "3.9.7"
  }
 },
 "nbformat": 4,
 "nbformat_minor": 4
}
