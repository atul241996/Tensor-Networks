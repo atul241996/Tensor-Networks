{
 "cells": [
  {
   "cell_type": "markdown",
   "metadata": {},
   "source": [
    "# Matrix product operators (MPOs) for representing quantum Hamiltonians"
   ]
  },
  {
   "cell_type": "code",
   "execution_count": 1,
   "metadata": {},
   "outputs": [],
   "source": [
    "import numpy as np\n",
    "from scipy import sparse"
   ]
  },
  {
   "cell_type": "markdown",
   "metadata": {},
   "source": [
    "## Construct MPOs"
   ]
  },
  {
   "cell_type": "code",
   "execution_count": 2,
   "metadata": {},
   "outputs": [],
   "source": [
    "def construct_ising_hamiltonian_mpo(J, g, L, pbc=False):\n",
    "    \"\"\"\n",
    "    Construct Ising Hamiltonian on a 1D lattice with `L` sites as MPO,\n",
    "    for interaction parameter `J` and external field parameter `g`.\n",
    "    \"\"\"\n",
    "    # Pauli-X and Z matrices\n",
    "    X = np.array([[0., 1.], [1.,  0.]])\n",
    "    Z = np.array([[1., 0.], [0., -1.]])\n",
    "    I = np.identity(2)\n",
    "    O = np.zeros((2, 2))\n",
    "    A = np.array([[I, O, O], [Z, O, O], [-g*X, -J*Z, I]])\n",
    "    # flip the ordering of the virtual bond dimensions and physical dimensions\n",
    "    A = np.transpose(A, (2, 3, 0, 1))\n",
    "    if pbc:\n",
    "        # periodic boundary conditions:\n",
    "        # add a direct transition b -> a which applies -J Z at the rightmost lattice site\n",
    "        AL = np.array([[-g*X, -J*Z, I], [Z, O, O]])\n",
    "        AR = np.array([[I, -J*Z], [Z, O], [-g*X, O]])\n",
    "        # flip the ordering of the virtual bond dimensions and physical dimensions\n",
    "        AL = np.transpose(AL, (2, 3, 0, 1))\n",
    "        AR = np.transpose(AR, (2, 3, 0, 1))\n",
    "        return [AL if i == 0 else A if i < L-1 else AR for i in range(L)]\n",
    "    else:\n",
    "        return [A[:, :, 2:3, :] if i == 0 else A if i < L-1 else A[:, :, :, 0:1] for i in range(L)]"
   ]
  },
  {
   "cell_type": "code",
   "execution_count": 3,
   "metadata": {},
   "outputs": [],
   "source": [
    "Alist_ising = construct_ising_hamiltonian_mpo(1.1, 0.7, 5)"
   ]
  },
  {
   "cell_type": "code",
   "execution_count": 4,
   "metadata": {},
   "outputs": [
    {
     "data": {
      "text/plain": [
       "True"
      ]
     },
     "execution_count": 4,
     "metadata": {},
     "output_type": "execute_result"
    }
   ],
   "source": [
    "# check dimensions (should return True)\n",
    "Alist_ising[0].shape == (2, 2, 1, 3)"
   ]
  },
  {
   "cell_type": "code",
   "execution_count": 5,
   "metadata": {},
   "outputs": [
    {
     "data": {
      "text/plain": [
       "True"
      ]
     },
     "execution_count": 5,
     "metadata": {},
     "output_type": "execute_result"
    }
   ],
   "source": [
    "# check dimensions (should return True)\n",
    "Alist_ising[1].shape == (2, 2, 3, 3)"
   ]
  },
  {
   "cell_type": "code",
   "execution_count": 6,
   "metadata": {},
   "outputs": [
    {
     "data": {
      "text/plain": [
       "True"
      ]
     },
     "execution_count": 6,
     "metadata": {},
     "output_type": "execute_result"
    }
   ],
   "source": [
    "# check dimensions (should return True)\n",
    "Alist_ising[-1].shape == (2, 2, 3, 1)"
   ]
  },
  {
   "cell_type": "code",
   "execution_count": 7,
   "metadata": {},
   "outputs": [
    {
     "data": {
      "text/plain": [
       "array([[[[ 1. ,  0. ,  0. ],\n",
       "         [ 1. ,  0. ,  0. ],\n",
       "         [-0. , -1.1,  1. ]],\n",
       "\n",
       "        [[ 0. ,  0. ,  0. ],\n",
       "         [ 0. ,  0. ,  0. ],\n",
       "         [-0.7, -0. ,  0. ]]],\n",
       "\n",
       "\n",
       "       [[[ 0. ,  0. ,  0. ],\n",
       "         [ 0. ,  0. ,  0. ],\n",
       "         [-0.7, -0. ,  0. ]],\n",
       "\n",
       "        [[ 1. ,  0. ,  0. ],\n",
       "         [-1. ,  0. ,  0. ],\n",
       "         [-0. ,  1.1,  1. ]]]])"
      ]
     },
     "execution_count": 7,
     "metadata": {},
     "output_type": "execute_result"
    }
   ],
   "source": [
    "# example\n",
    "Alist_ising[1]"
   ]
  },
  {
   "cell_type": "code",
   "execution_count": 8,
   "metadata": {},
   "outputs": [],
   "source": [
    "def construct_cluster_hamiltonian_mpo(J, L):\n",
    "    \"\"\"\n",
    "    Construct the cluster state Hamiltonian as MPO.\n",
    "    \"\"\"\n",
    "    # Pauli-X and Z matrices\n",
    "    X = np.array([[0., 1.], [1.,  0.]])\n",
    "    Z = np.array([[1., 0.], [0., -1.]])\n",
    "    I = np.identity(2)\n",
    "    O = np.zeros((2, 2))\n",
    "    A = np.array([[I, O, O, O], [Z, O, O, O], [O, X, O, O], [O, O, -J*Z, I]])\n",
    "    # flip the ordering of the virtual bond dimensions and physical dimensions\n",
    "    A = np.transpose(A, (2, 3, 0, 1))\n",
    "    return [A[:, :, 3:4, :] if i == 0 else A if i < L-1 else A[:, :, :, 0:1] for i in range(L)]"
   ]
  },
  {
   "cell_type": "code",
   "execution_count": 9,
   "metadata": {},
   "outputs": [],
   "source": [
    "Alist_cluster = construct_cluster_hamiltonian_mpo(0.9, 5)"
   ]
  },
  {
   "cell_type": "code",
   "execution_count": 10,
   "metadata": {},
   "outputs": [
    {
     "data": {
      "text/plain": [
       "(2, 2, 1, 4)"
      ]
     },
     "execution_count": 10,
     "metadata": {},
     "output_type": "execute_result"
    }
   ],
   "source": [
    "# example: show dimensions\n",
    "Alist_cluster[0].shape"
   ]
  },
  {
   "cell_type": "code",
   "execution_count": 11,
   "metadata": {},
   "outputs": [
    {
     "data": {
      "text/plain": [
       "(2, 2, 4, 4)"
      ]
     },
     "execution_count": 11,
     "metadata": {},
     "output_type": "execute_result"
    }
   ],
   "source": [
    "# example: show dimensions\n",
    "Alist_cluster[1].shape"
   ]
  },
  {
   "cell_type": "markdown",
   "metadata": {},
   "source": [
    "## Utility functions"
   ]
  },
  {
   "cell_type": "code",
   "execution_count": 12,
   "metadata": {},
   "outputs": [],
   "source": [
    "def mpo_to_full_tensor(Alist):\n",
    "    \"\"\"\n",
    "    Construct the full tensor corresponding to the MPO tensors `Alist`.\n",
    "\n",
    "    The i-th MPO tensor Alist[i] is expected to have dimensions (m[i], n[i], D[i], D[i+1]),\n",
    "    with `m` and `n` the list of logical dimensions and `D` the list of virtual bond dimensions.\n",
    "    \n",
    "    The returned tensor has dimensions m[0] x ... x m[L-1] x n[0] x ... x n[L-1]\n",
    "\n",
    "    Note: Should only be used for debugging and testing.\n",
    "    \"\"\"\n",
    "    # consistency check\n",
    "    assert Alist[0].ndim == 4\n",
    "    # use leftmost virtual bond as first dimension\n",
    "    T = np.transpose(Alist[0], (2, 0, 1, 3))\n",
    "    # contract virtual bonds\n",
    "    for i in range(1, len(Alist)):\n",
    "        T = np.tensordot(T, Alist[i], axes=(-1, 2))\n",
    "    # contract leftmost and rightmost virtual bond (has no influence if these virtual bond dimensions are 1)\n",
    "    assert T.shape[0] == T.shape[-1]\n",
    "    T = np.trace(T, axis1=0, axis2=-1)\n",
    "    # now T has dimensions m[0] x n[0] x m[1] x n[1] ... m[d-1] x n[d-1];\n",
    "    # as last step, we group the `m` dimensions together, and likewise the `n` dimensions\n",
    "    T = np.transpose(T, list(range(0, T.ndim, 2)) + list(range(1, T.ndim, 2)))\n",
    "    return T"
   ]
  },
  {
   "cell_type": "code",
   "execution_count": 13,
   "metadata": {},
   "outputs": [
    {
     "data": {
      "text/plain": [
       "(3, 7, 6, 4, 2, 5)"
      ]
     },
     "execution_count": 13,
     "metadata": {},
     "output_type": "execute_result"
    }
   ],
   "source": [
    "# example\n",
    "mpo_to_full_tensor([np.random.randn(3, 4, 1, 5), np.random.randn(7, 2, 5, 3), np.random.randn(6, 5, 3, 1)]).shape"
   ]
  },
  {
   "cell_type": "markdown",
   "metadata": {},
   "source": [
    "## Construct quantum Hamiltonian as sparse matrix (as reference)"
   ]
  },
  {
   "cell_type": "markdown",
   "metadata": {},
   "source": [
    "### Transverse-field Ising Hamiltonian"
   ]
  },
  {
   "cell_type": "code",
   "execution_count": 14,
   "metadata": {},
   "outputs": [],
   "source": [
    "def adjacency_1D_lattice(L, pbc=True):\n",
    "    \"\"\"\n",
    "    Construct the adjacency matrix for a 1D lattice with `L` sites.\n",
    "    The optional parameter `pbc` specifies whether periodic boundary conditions\n",
    "    should be used.\n",
    "    \"\"\"\n",
    "    assert L > 1\n",
    "    # special case\n",
    "    if L == 2:\n",
    "        return np.array([[0, 1], [1, 0]])\n",
    "    if pbc:\n",
    "        # periodic boundary conditions\n",
    "        return np.roll(np.identity(L, dtype=int), -1, axis=0) + np.roll(np.identity(L, dtype=int), 1, axis=0)\n",
    "    else:\n",
    "        # open boundary conditions\n",
    "        return np.diag(np.ones(L - 1, dtype=int), k=-1) + np.diag(np.ones(L - 1, dtype=int), k=1)"
   ]
  },
  {
   "cell_type": "code",
   "execution_count": 15,
   "metadata": {},
   "outputs": [
    {
     "data": {
      "text/plain": [
       "0.0"
      ]
     },
     "execution_count": 15,
     "metadata": {},
     "output_type": "execute_result"
    }
   ],
   "source": [
    "# should be symmetric\n",
    "np.linalg.norm(adjacency_1D_lattice(7) - adjacency_1D_lattice(7).T)"
   ]
  },
  {
   "cell_type": "code",
   "execution_count": 16,
   "metadata": {},
   "outputs": [
    {
     "data": {
      "text/plain": [
       "array([2, 2, 2, 2, 2, 2, 2])"
      ]
     },
     "execution_count": 16,
     "metadata": {},
     "output_type": "execute_result"
    }
   ],
   "source": [
    "# each site should have 2 neighbors (for periodic boundary conditions)\n",
    "np.sum(adjacency_1D_lattice(7), axis=0)"
   ]
  },
  {
   "cell_type": "code",
   "execution_count": 17,
   "metadata": {},
   "outputs": [
    {
     "data": {
      "text/plain": [
       "array([[0, 1, 0, 0, 0],\n",
       "       [1, 0, 1, 0, 0],\n",
       "       [0, 1, 0, 1, 0],\n",
       "       [0, 0, 1, 0, 1],\n",
       "       [0, 0, 0, 1, 0]])"
      ]
     },
     "execution_count": 17,
     "metadata": {},
     "output_type": "execute_result"
    }
   ],
   "source": [
    "# example\n",
    "adjacency_1D_lattice(5, pbc=False)"
   ]
  },
  {
   "cell_type": "code",
   "execution_count": 18,
   "metadata": {},
   "outputs": [],
   "source": [
    "# Note: this is a solution of Exercise 9.2 (b)\n",
    "def construct_ising_hamiltonian_sparse(J, g, adj):\n",
    "    \"\"\"\n",
    "    Construct Ising Hamiltonian as sparse matrix,\n",
    "    for interaction parameter `J` and external field parameter `g`.\n",
    "    `adj` is the adjacency matrix of the underlying lattice.\n",
    "    \"\"\"\n",
    "    # Pauli-X and Z matrices\n",
    "    X = sparse.csr_matrix([[0., 1.], [1.,  0.]])\n",
    "    Z = sparse.csr_matrix([[1., 0.], [0., -1.]])\n",
    "    # overall number of lattice sites\n",
    "    L = adj.shape[0]\n",
    "    H = sparse.csr_matrix((2**L, 2**L), dtype=float)\n",
    "    for j in range(L):\n",
    "        for k in range(j+1, L):\n",
    "            if adj[j, k] > 0:\n",
    "                H -= J * sparse.kron(sparse.eye(2**j),\n",
    "                         sparse.kron(Z,\n",
    "                         sparse.kron(sparse.eye(2**(k-j-1)),\n",
    "                         sparse.kron(Z,\n",
    "                                     sparse.eye(2**(L-k-1))))))\n",
    "    # external field\n",
    "    for j in range(L):\n",
    "        H -= g * sparse.kron(sparse.eye(2**j), sparse.kron(X, sparse.eye(2**(L-j-1))))\n",
    "    return H"
   ]
  },
  {
   "cell_type": "code",
   "execution_count": 19,
   "metadata": {},
   "outputs": [
    {
     "data": {
      "text/plain": [
       "<32x32 sparse matrix of type '<class 'numpy.float64'>'\n",
       "\twith 180 stored elements in Compressed Sparse Row format>"
      ]
     },
     "execution_count": 19,
     "metadata": {},
     "output_type": "execute_result"
    }
   ],
   "source": [
    "adj = adjacency_1D_lattice(5, pbc=False)\n",
    "Hising = construct_ising_hamiltonian_sparse(1.1, 0.7, adj)\n",
    "Hising"
   ]
  },
  {
   "cell_type": "code",
   "execution_count": 20,
   "metadata": {},
   "outputs": [
    {
     "data": {
      "text/plain": [
       "array([[-4.4, -0.7, -0.7, ...,  0. ,  0. ,  0. ],\n",
       "       [-0.7, -2.2,  0. , ...,  0. ,  0. ,  0. ],\n",
       "       [-0.7,  0. ,  0. , ...,  0. ,  0. ,  0. ],\n",
       "       ...,\n",
       "       [ 0. ,  0. ,  0. , ...,  0. ,  0. , -0.7],\n",
       "       [ 0. ,  0. ,  0. , ...,  0. , -2.2, -0.7],\n",
       "       [ 0. ,  0. ,  0. , ..., -0.7, -0.7, -4.4]])"
      ]
     },
     "execution_count": 20,
     "metadata": {},
     "output_type": "execute_result"
    }
   ],
   "source": [
    "# convert to NumPy array to show entries\n",
    "Hising.toarray()"
   ]
  },
  {
   "cell_type": "code",
   "execution_count": 21,
   "metadata": {},
   "outputs": [
    {
     "data": {
      "text/plain": [
       "0.0"
      ]
     },
     "execution_count": 21,
     "metadata": {},
     "output_type": "execute_result"
    }
   ],
   "source": [
    "# compare (difference should be zero)\n",
    "np.linalg.norm(Hising.toarray() - np.reshape(mpo_to_full_tensor(Alist_ising), (32, 32)))"
   ]
  },
  {
   "cell_type": "code",
   "execution_count": 22,
   "metadata": {},
   "outputs": [
    {
     "data": {
      "text/plain": [
       "<32x32 sparse matrix of type '<class 'numpy.float64'>'\n",
       "\twith 192 stored elements in Compressed Sparse Row format>"
      ]
     },
     "execution_count": 22,
     "metadata": {},
     "output_type": "execute_result"
    }
   ],
   "source": [
    "# periodic boundary conditions\n",
    "adj = adjacency_1D_lattice(5, pbc=True)\n",
    "Hising_per = construct_ising_hamiltonian_sparse(1.1, 0.7, adj)\n",
    "Hising_per"
   ]
  },
  {
   "cell_type": "code",
   "execution_count": 23,
   "metadata": {},
   "outputs": [
    {
     "data": {
      "text/plain": [
       "0.0"
      ]
     },
     "execution_count": 23,
     "metadata": {},
     "output_type": "execute_result"
    }
   ],
   "source": [
    "# compare (difference should be zero)\n",
    "np.linalg.norm(Hising_per.toarray() - np.reshape(mpo_to_full_tensor(construct_ising_hamiltonian_mpo(1.1, 0.7, 5, pbc=True)), (32, 32)))"
   ]
  },
  {
   "cell_type": "markdown",
   "metadata": {},
   "source": [
    "### Cluster state Hamiltonian"
   ]
  },
  {
   "cell_type": "code",
   "execution_count": 24,
   "metadata": {},
   "outputs": [],
   "source": [
    "def construct_cluster_hamiltonian_sparse(J, L):\n",
    "    \"\"\"\n",
    "    Construct the cluster state Hamiltonian as sparse matrix\n",
    "    on a one-dimensional lattice with open boundary conditions.\n",
    "    \"\"\"\n",
    "    # Pauli-X and Z matrices\n",
    "    X = sparse.csr_matrix([[0., 1.], [1.,  0.]])\n",
    "    Z = sparse.csr_matrix([[1., 0.], [0., -1.]])\n",
    "    H = sparse.csr_matrix((2**L, 2**L), dtype=float)\n",
    "    h = sparse.kron(sparse.kron(Z, X), Z)\n",
    "    for j in range(L-2):\n",
    "        H -= sparse.kron(sparse.eye(2**j),\n",
    "             sparse.kron(h,\n",
    "                         sparse.eye(2**(L-j-3))))\n",
    "    return J*H"
   ]
  },
  {
   "cell_type": "code",
   "execution_count": 25,
   "metadata": {},
   "outputs": [],
   "source": [
    "Hcluster = construct_cluster_hamiltonian_sparse(0.9, 5)"
   ]
  },
  {
   "cell_type": "code",
   "execution_count": 26,
   "metadata": {},
   "outputs": [
    {
     "data": {
      "text/plain": [
       "0.0"
      ]
     },
     "execution_count": 26,
     "metadata": {},
     "output_type": "execute_result"
    }
   ],
   "source": [
    "# compare (difference should be zero)\n",
    "np.linalg.norm(Hcluster.toarray() - np.reshape(mpo_to_full_tensor(Alist_cluster), (32, 32)))"
   ]
  }
 ],
 "metadata": {
  "kernelspec": {
   "display_name": "Python 3 (ipykernel)",
   "language": "python",
   "name": "python3"
  },
  "language_info": {
   "codemirror_mode": {
    "name": "ipython",
    "version": 3
   },
   "file_extension": ".py",
   "mimetype": "text/x-python",
   "name": "python",
   "nbconvert_exporter": "python",
   "pygments_lexer": "ipython3",
   "version": "3.9.7"
  }
 },
 "nbformat": 4,
 "nbformat_minor": 4
}
