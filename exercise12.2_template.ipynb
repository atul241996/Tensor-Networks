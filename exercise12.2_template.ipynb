{
 "cells": [
  {
   "cell_type": "markdown",
   "metadata": {},
   "source": [
    "# Shallow quantum circuits"
   ]
  },
  {
   "cell_type": "code",
   "execution_count": null,
   "metadata": {},
   "outputs": [],
   "source": [
    "import numpy as np"
   ]
  },
  {
   "cell_type": "markdown",
   "metadata": {},
   "source": [
    "## Utility functions"
   ]
  },
  {
   "cell_type": "code",
   "execution_count": null,
   "metadata": {},
   "outputs": [],
   "source": [
    "def crandn(size):\n",
    "    \"\"\"\n",
    "    Draw random samples from the standard complex normal (Gaussian) distribution.\n",
    "    \"\"\"\n",
    "    # 1/sqrt(2) is a normalization factor\n",
    "    return (np.random.normal(size=size) + 1j*np.random.normal(size=size)) / np.sqrt(2)"
   ]
  },
  {
   "cell_type": "code",
   "execution_count": null,
   "metadata": {},
   "outputs": [],
   "source": [
    "def retained_bond_indices(s, tol):\n",
    "    \"\"\"\n",
    "    Indices of retained singular values based on given tolerance.\n",
    "    \"\"\"\n",
    "    w = np.linalg.norm(s)\n",
    "    if w == 0:\n",
    "        return np.array([], dtype=int)\n",
    "    # normalized squares\n",
    "    s = (s / w)**2\n",
    "    # accumulate values from smallest to largest\n",
    "    sort_idx = np.argsort(s)\n",
    "    s[sort_idx] = np.cumsum(s[sort_idx])\n",
    "    return np.where(s > tol)[0]"
   ]
  },
  {
   "cell_type": "code",
   "execution_count": null,
   "metadata": {},
   "outputs": [],
   "source": [
    "def split_matrix_svd(A, tol):\n",
    "    \"\"\"\n",
    "    Split a matrix by singular value decomposition,\n",
    "    and truncate small singular values based on tolerance.\n",
    "    \"\"\"\n",
    "    assert A.ndim == 2\n",
    "    u, s, v = np.linalg.svd(A, full_matrices=False)\n",
    "    # truncate small singular values\n",
    "    idx = retained_bond_indices(s, tol)\n",
    "    u = u[:, idx]\n",
    "    v = v[idx, :]\n",
    "    s = s[idx]\n",
    "    return u, s, v"
   ]
  },
  {
   "cell_type": "markdown",
   "metadata": {},
   "source": [
    "## MPS class and related utility functions"
   ]
  },
  {
   "cell_type": "code",
   "execution_count": null,
   "metadata": {},
   "outputs": [],
   "source": [
    "def local_orthonormalize_left_qr(A, Anext):\n",
    "    \"\"\"\n",
    "    Left-orthonormalize a MPS tensor `A` by a QR decomposition,\n",
    "    and update tensor at next site.\n",
    "    \"\"\"\n",
    "    # perform QR decomposition and replace A by reshaped Q matrix\n",
    "    s = A.shape\n",
    "    assert len(s) == 3\n",
    "    Q, R = np.linalg.qr(np.reshape(A, (s[0]*s[1], s[2])), mode='reduced')\n",
    "    A = np.reshape(Q, (s[0], s[1], Q.shape[1]))\n",
    "    # update Anext tensor: multiply with R from left\n",
    "    Anext = np.transpose(np.tensordot(R, Anext, (1, 1)), (1, 0, 2))\n",
    "    return A, Anext"
   ]
  },
  {
   "cell_type": "code",
   "execution_count": null,
   "metadata": {},
   "outputs": [],
   "source": [
    "def local_orthonormalize_right_qr(A, Aprev):\n",
    "    \"\"\"\n",
    "    Right-orthonormalize a MPS tensor `A` by a QR decomposition,\n",
    "    and update tensor at previous site.\n",
    "    \"\"\"\n",
    "    # flip left and right virtual bond dimensions\n",
    "    A = np.transpose(A, (0, 2, 1))\n",
    "    # perform QR decomposition and replace A by reshaped Q matrix\n",
    "    s = A.shape\n",
    "    assert len(s) == 3\n",
    "    Q, R = np.linalg.qr(np.reshape(A, (s[0]*s[1], s[2])), mode='reduced')\n",
    "    A = np.transpose(np.reshape(Q, (s[0], s[1], Q.shape[1])), (0, 2, 1))\n",
    "    # update Aprev tensor: multiply with R from right\n",
    "    Aprev = np.tensordot(Aprev, R, (2, 1))\n",
    "    return A, Aprev"
   ]
  },
  {
   "cell_type": "code",
   "execution_count": null,
   "metadata": {},
   "outputs": [],
   "source": [
    "def merge_mps_tensor_pair(A0, A1):\n",
    "    \"\"\"\n",
    "    Merge two neighboring MPS tensors.\n",
    "    \"\"\"\n",
    "    A = np.tensordot(A0, A1, (2, 1))\n",
    "    # pair original physical dimensions of A0 and A1\n",
    "    A = A.transpose((0, 2, 1, 3))\n",
    "    # combine original physical dimensions\n",
    "    A = A.reshape((A.shape[0]*A.shape[1], A.shape[2], A.shape[3]))\n",
    "    return A"
   ]
  },
  {
   "cell_type": "code",
   "execution_count": null,
   "metadata": {},
   "outputs": [],
   "source": [
    "class MPS(object):\n",
    "    \"\"\"\n",
    "    Matrix product state (MPS) class.\n",
    "\n",
    "    The i-th MPS tensor has dimension `[d, D[i], D[i+1]]` with `d` the physical\n",
    "    dimension at each site and `D` the list of virtual bond dimensions.\n",
    "    \"\"\"\n",
    "\n",
    "    def __init__(self, d, D, fill='zero'):\n",
    "        \"\"\"\n",
    "        Create a matrix product state.\n",
    "        \"\"\"\n",
    "        self.d = d\n",
    "        # leading and trailing bond dimensions must agree (typically 1)\n",
    "        assert D[0] == D[-1]\n",
    "        if fill == 'zero':\n",
    "            self.A = [np.zeros((d, D[i], D[i+1])) for i in range(len(D)-1)]\n",
    "        elif fill == 'random real':\n",
    "            # random real entries\n",
    "            self.A = [np.random.normal(size=(d, D[i], D[i+1])) / np.sqrt(d*D[i]*D[i+1]) for i in range(len(D)-1)]\n",
    "        elif fill == 'random complex':\n",
    "            # random complex entries\n",
    "            self.A = [crandn(size=(d, D[i], D[i+1])) / np.sqrt(d*D[i]*D[i+1]) for i in range(len(D)-1)]\n",
    "        else:\n",
    "            raise ValueError('fill = {} invalid.'.format(fill))\n",
    "\n",
    "    @classmethod\n",
    "    def from_tensors(cls, Alist):\n",
    "        \"\"\"\n",
    "        Construct a MPS from a list of tensors.\n",
    "        \"\"\"\n",
    "        # create a MPS with dummy tensors\n",
    "        s = cls(2, (len(Alist) + 1) * [1])\n",
    "        # assign the actual tensors from `Alist`\n",
    "        s.A = [np.array(A) for A in Alist]\n",
    "        s.d = s.A[0].shape[0]\n",
    "        # consistency checks\n",
    "        for j in range(len(s.A)):\n",
    "            assert s.A[j].ndim == 3, \"Each MPS tensor must be of degree 3.\"\n",
    "            assert s.d == s.A[j].shape[0], \"Physical dimension not consistent across MPS tensors.\"\n",
    "            assert s.A[j].shape[2] == s.A[(j+1) % len(s.A)].shape[1], \"Incompatible virtual bond dimensions.\"\n",
    "        return s\n",
    "\n",
    "    @property\n",
    "    def local_dim(self):\n",
    "        \"\"\"Local (physical) dimension at each lattice site.\"\"\"\n",
    "        return self.d\n",
    "\n",
    "    @property\n",
    "    def nsites(self):\n",
    "        \"\"\"Number of lattice sites.\"\"\"\n",
    "        return len(self.A)\n",
    "\n",
    "    @property\n",
    "    def bond_dims(self):\n",
    "        \"\"\"Virtual bond dimensions.\"\"\"\n",
    "        if len(self.A) == 0:\n",
    "            return []\n",
    "        else:\n",
    "            D = [self.A[i].shape[1] for i in range(len(self.A))]\n",
    "            D.append(self.A[-1].shape[2])\n",
    "            return D\n",
    "\n",
    "    @property\n",
    "    def dtype(self):\n",
    "        \"\"\"Data type of tensor entries.\"\"\"\n",
    "        return self.A[0].dtype\n",
    "\n",
    "    def orthonormalize(self, mode='left'):\n",
    "        \"\"\"Left- or right-orthonormalize the MPS using QR decompositions.\"\"\"\n",
    "        if len(self.A) == 0:\n",
    "            return\n",
    "\n",
    "        if mode == 'left':\n",
    "            for i in range(len(self.A) - 1):\n",
    "                self.A[i], self.A[i+1] = local_orthonormalize_left_qr(self.A[i], self.A[i+1])\n",
    "            # last tensor\n",
    "            self.A[-1], T = local_orthonormalize_left_qr(self.A[-1], np.array([[[1.0]]]))\n",
    "            # normalization factor (real-valued since diagonal of R matrix is real)\n",
    "            assert T.shape == (1, 1, 1)\n",
    "            nrm = T[0, 0, 0].real\n",
    "            if nrm < 0:\n",
    "                # flip sign such that normalization factor is always non-negative\n",
    "                self.A[-1] = -self.A[-1]\n",
    "                nrm = -nrm\n",
    "            return nrm\n",
    "        elif mode == 'right':\n",
    "            for i in reversed(range(1, len(self.A))):\n",
    "                self.A[i], self.A[i-1] = local_orthonormalize_right_qr(self.A[i], self.A[i-1])\n",
    "            # first tensor\n",
    "            self.A[0], T = local_orthonormalize_right_qr(self.A[0], np.array([[[1.0]]]))\n",
    "            # normalization factor (real-valued since diagonal of R matrix is real)\n",
    "            assert T.shape == (1, 1, 1)\n",
    "            nrm = T[0, 0, 0].real\n",
    "            if nrm < 0:\n",
    "                # flip sign such that normalization factor is always non-negative\n",
    "                self.A[0] = -self.A[0]\n",
    "                nrm = -nrm\n",
    "            return nrm\n",
    "        else:\n",
    "            raise ValueError('mode = {} invalid; must be \"left\" or \"right\".'.format(mode))\n",
    "\n",
    "    def as_vector(self):\n",
    "        \"\"\"Merge all tensors to obtain the vector representation on the full Hilbert space.\"\"\"\n",
    "        psi = self.A[0]\n",
    "        for i in range(1, len(self.A)):\n",
    "            psi = merge_mps_tensor_pair(psi, self.A[i])\n",
    "        assert psi.ndim == 3\n",
    "        # contract leftmost and rightmost virtual bond (has no influence if these virtual bond dimensions are 1)\n",
    "        psi = np.trace(psi, axis1=1, axis2=2)\n",
    "        return psi"
   ]
  },
  {
   "cell_type": "code",
   "execution_count": null,
   "metadata": {},
   "outputs": [],
   "source": [
    "def split_mps_tensor(A, d0, d1, svd_distr, tol=0):\n",
    "    \"\"\"\n",
    "    Split a MPS tensor with dimension `d0*d1 x D0 x D2` into two MPS tensors\n",
    "    with dimensions `d0 x D0 x D1` and `d1 x D1 x D2`, respectively.\n",
    "    \"\"\"\n",
    "    assert A.ndim == 3\n",
    "    assert d0 * d1 == A.shape[0], 'physical dimension of MPS tensor must be equal to d0 * d1'\n",
    "    # reshape as matrix and split by SVD\n",
    "    A = np.transpose(np.reshape(A, (d0, d1, A.shape[1], A.shape[2])), (0, 2, 1, 3))\n",
    "    s = A.shape\n",
    "    A0, sigma, A1 = split_matrix_svd(A.reshape((s[0]*s[1], s[2]*s[3])), tol)\n",
    "    A0.shape = (s[0], s[1], len(sigma))\n",
    "    A1.shape = (len(sigma), s[2], s[3])\n",
    "    # use broadcasting to distribute singular values\n",
    "    if svd_distr == 'left':\n",
    "        A0 = A0 * sigma\n",
    "    elif svd_distr == 'right':\n",
    "        A1 = A1 * sigma[:, None, None]\n",
    "    elif svd_distr == 'sqrt':\n",
    "        s = np.sqrt(sigma)\n",
    "        A0 = A0 * s\n",
    "        A1 = A1 * s[:, None, None]\n",
    "    else:\n",
    "        raise ValueError('svd_distr parameter must be \"left\", \"right\" or \"sqrt\".')\n",
    "    # move physical dimension to the front\n",
    "    A1 = A1.transpose((1, 0, 2))\n",
    "    return A0, A1"
   ]
  },
  {
   "cell_type": "code",
   "execution_count": null,
   "metadata": {},
   "outputs": [],
   "source": [
    "def is_left_orthonormal(A):\n",
    "    \"\"\"\n",
    "    Test whether a MPS tensor `A` is left-orthonormal.\n",
    "    \"\"\"\n",
    "    s = A.shape\n",
    "    assert len(s) == 3\n",
    "    A = np.reshape(A, (s[0]*s[1], s[2]))\n",
    "    return np.allclose(A.conj().T @ A, np.identity(s[2]))"
   ]
  },
  {
   "cell_type": "code",
   "execution_count": null,
   "metadata": {},
   "outputs": [],
   "source": [
    "def is_right_orthonormal(A):\n",
    "    \"\"\"\n",
    "    Test whether a MPS tensor `A` is right-orthonormal.\n",
    "    \"\"\"\n",
    "    # call `is_left_orthonormal` with flipped left and right virtual bond dimensions\n",
    "    return is_left_orthonormal(np.transpose(A, (0, 2, 1)))"
   ]
  },
  {
   "cell_type": "markdown",
   "metadata": {},
   "source": [
    "## Shifted sequence of two-qubit gates"
   ]
  },
  {
   "cell_type": "code",
   "execution_count": null,
   "metadata": {},
   "outputs": [],
   "source": [
    "def shifted_gate_sequence_to_mps(Ulist):\n",
    "    \"\"\"\n",
    "    Represent the output of a quantum circuit consisting of\n",
    "    a shifted sequence of two-qubit gates as MPS.\n",
    "\n",
    "             ____\n",
    "     |0> ---|    |------------------------------\n",
    "            | U1 |    ____\n",
    "     |0> ---|____|---|    |---------------------\n",
    "                     | U2 |                   .\n",
    "     |0> ------------|____|---                .\n",
    "                               ...      ____  .\n",
    "                                    ---|    |---\n",
    "                                       | U* |\n",
    "     |0> ------------------------------|____|---\n",
    "\n",
    "    \"\"\"\n",
    "    # TODO: implement this function"
   ]
  },
  {
   "cell_type": "markdown",
   "metadata": {},
   "source": [
    "### Example: sequence of CNOT gates"
   ]
  },
  {
   "cell_type": "code",
   "execution_count": null,
   "metadata": {},
   "outputs": [],
   "source": [
    "# Hadamard gate\n",
    "H = np.array([[1., 1.], [1., -1.]]) / np.sqrt(2)\n",
    "H"
   ]
  },
  {
   "cell_type": "code",
   "execution_count": null,
   "metadata": {},
   "outputs": [],
   "source": [
    "# CNOT gate\n",
    "Ucnot = np.identity(4)[[0, 1, 3, 2]]\n",
    "Ucnot"
   ]
  },
  {
   "cell_type": "code",
   "execution_count": null,
   "metadata": {},
   "outputs": [],
   "source": [
    "d = 5\n",
    "Ulist = [Ucnot @ np.kron(H, np.identity(2)) if j == 0 else Ucnot for j in range(d-1)]"
   ]
  },
  {
   "cell_type": "code",
   "execution_count": null,
   "metadata": {},
   "outputs": [],
   "source": [
    "ψ = shifted_gate_sequence_to_mps(Ulist)"
   ]
  },
  {
   "cell_type": "code",
   "execution_count": null,
   "metadata": {},
   "outputs": [],
   "source": [
    "# TODO: compare this output with analytical prediction\n",
    "ψ.as_vector()"
   ]
  },
  {
   "cell_type": "markdown",
   "metadata": {},
   "source": [
    "### Example: sequence of random gates (for additional testing)"
   ]
  },
  {
   "cell_type": "code",
   "execution_count": null,
   "metadata": {},
   "outputs": [],
   "source": [
    "# for reference calculation\n",
    "def apply_two_qubit_gate(psi, d, U, i, j):\n",
    "    \"\"\"\n",
    "    Apply the two-qubit gate `U` (acting on qubits i, j) to state vector `psi`.\n",
    "    `d` is the overall number of qubits.\n",
    "    \"\"\"\n",
    "    assert 0 <= i < j < d\n",
    "    assert len(psi) == 2**d\n",
    "    # isolate dimensions corresponding to the qubits the gate acts on\n",
    "    psi = np.reshape(psi, (2**i, 2, 2**(j-i-1), 2, 2**(d-j-1)))\n",
    "    # reshape gate into a tensor of degree 4\n",
    "    U = np.reshape(U, (2, 2, 2, 2))\n",
    "    # actually apply gate (last argument determines dimension ordering of output)\n",
    "    psi = np.einsum(U, (1, 5, 2, 4), psi, (0, 2, 3, 4, 6), (0, 1, 3, 5, 6))\n",
    "    # flatten back to a vector\n",
    "    psi = np.reshape(psi, -1)\n",
    "    return psi"
   ]
  },
  {
   "cell_type": "code",
   "execution_count": null,
   "metadata": {},
   "outputs": [],
   "source": [
    "d = 5\n",
    "# random unitary gates\n",
    "Ulist = [np.linalg.qr(crandn((4, 4)))[0] for j in range(d-1)]"
   ]
  },
  {
   "cell_type": "code",
   "execution_count": null,
   "metadata": {},
   "outputs": [],
   "source": [
    "# reference calculation\n",
    "# start with unit vector corresponding to |00...0>\n",
    "χ = np.zeros(2**d)\n",
    "χ[0] = 1\n",
    "# apply gates\n",
    "for j in range(d-1):\n",
    "    χ = apply_two_qubit_gate(χ, d, Ulist[j], j, j+1)"
   ]
  },
  {
   "cell_type": "code",
   "execution_count": null,
   "metadata": {},
   "outputs": [],
   "source": [
    "# should still be normalized\n",
    "np.linalg.norm(χ)"
   ]
  },
  {
   "cell_type": "code",
   "execution_count": null,
   "metadata": {},
   "outputs": [],
   "source": [
    "# show entries\n",
    "χ"
   ]
  },
  {
   "cell_type": "code",
   "execution_count": null,
   "metadata": {},
   "outputs": [],
   "source": [
    "ψ = shifted_gate_sequence_to_mps(Ulist)"
   ]
  },
  {
   "cell_type": "code",
   "execution_count": null,
   "metadata": {},
   "outputs": [],
   "source": [
    "# compare\n",
    "np.allclose(ψ.as_vector(), χ)"
   ]
  },
  {
   "cell_type": "markdown",
   "metadata": {},
   "source": [
    "## Shifted double sequence of two-qubit gates"
   ]
  },
  {
   "cell_type": "code",
   "execution_count": null,
   "metadata": {},
   "outputs": [],
   "source": [
    "def shifted_double_gate_sequence_to_mps(Ulist, Vlist):\n",
    "    \"\"\"\n",
    "    Represent the output of a quantum circuit consisting of\n",
    "    two shifted sequences of two-qubit gates as MPS.\n",
    "\n",
    "             ____              ____\n",
    "     |0> ---|    |------------|    |------------------------------------------------\n",
    "            | U1 |    ____    | V1 |    ____\n",
    "     |0> ---|____|---|    |---|____|---|    |---------------------------------------\n",
    "                     | U2 |    ____    | V2 |\n",
    "     |0> ------------|____|---|    |---|____|---                                  .\n",
    "                              | U3 |                                              .\n",
    "     |0> ---------------------|____|---        .                                  .\n",
    "                                                   .               ____\n",
    "                                                       .       ---|    |------------\n",
    "                                                          ____    | V* |    ____\n",
    "                                                      ---|    |---|____|---|    |---\n",
    "                                                         | U* |            | V* |   \n",
    "     |0> ------------------------------------------------|____|------------|____|---\n",
    "\n",
    "    \"\"\"\n",
    "    # TODO (voluntary): implement this function for part (c)"
   ]
  },
  {
   "cell_type": "markdown",
   "metadata": {},
   "source": [
    "### Example: sequence of random gates (for testing)"
   ]
  },
  {
   "cell_type": "code",
   "execution_count": null,
   "metadata": {},
   "outputs": [],
   "source": [
    "d = 5\n",
    "# random unitary gates\n",
    "Ulist = [np.linalg.qr(crandn((4, 4)))[0] for j in range(d-1)]\n",
    "Vlist = [np.linalg.qr(crandn((4, 4)))[0] for j in range(d-1)]"
   ]
  },
  {
   "cell_type": "code",
   "execution_count": null,
   "metadata": {},
   "outputs": [],
   "source": [
    "# reference calculation\n",
    "# start with unit vector corresponding to |00...0>\n",
    "χ = np.zeros(2**d)\n",
    "χ[0] = 1\n",
    "# apply gates\n",
    "for j in range(d-1):\n",
    "    χ = apply_two_qubit_gate(χ, d, Ulist[j], j, j+1)\n",
    "for j in range(d-1):\n",
    "    χ = apply_two_qubit_gate(χ, d, Vlist[j], j, j+1)"
   ]
  },
  {
   "cell_type": "code",
   "execution_count": null,
   "metadata": {},
   "outputs": [],
   "source": [
    "# should still be normalized\n",
    "np.linalg.norm(χ)"
   ]
  },
  {
   "cell_type": "code",
   "execution_count": null,
   "metadata": {},
   "outputs": [],
   "source": [
    "ψ = shifted_double_gate_sequence_to_mps(Ulist, Vlist)"
   ]
  },
  {
   "cell_type": "code",
   "execution_count": null,
   "metadata": {},
   "outputs": [],
   "source": [
    "# compare\n",
    "np.allclose(ψ.as_vector(), χ)"
   ]
  }
 ],
 "metadata": {
  "kernelspec": {
   "display_name": "Python 3 (ipykernel)",
   "language": "python",
   "name": "python3"
  },
  "language_info": {
   "codemirror_mode": {
    "name": "ipython",
    "version": 3
   },
   "file_extension": ".py",
   "mimetype": "text/x-python",
   "name": "python",
   "nbconvert_exporter": "python",
   "pygments_lexer": "ipython3",
   "version": "3.9.7"
  }
 },
 "nbformat": 4,
 "nbformat_minor": 4
}
