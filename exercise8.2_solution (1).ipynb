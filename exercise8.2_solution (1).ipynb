{
 "cells": [
  {
   "cell_type": "markdown",
   "metadata": {},
   "source": [
    "# Canonical MPS forms"
   ]
  },
  {
   "cell_type": "code",
   "execution_count": 1,
   "metadata": {},
   "outputs": [],
   "source": [
    "import numpy as np\n",
    "import matplotlib.pyplot as plt"
   ]
  },
  {
   "cell_type": "markdown",
   "metadata": {},
   "source": [
    "## Functions for conversion to canonical forms"
   ]
  },
  {
   "cell_type": "code",
   "execution_count": 2,
   "metadata": {},
   "outputs": [],
   "source": [
    "def local_orthonormalize_left(A, Anext):\n",
    "    \"\"\"\n",
    "    Left-orthonormalize a MPS tensor `A` by a QR decomposition,\n",
    "    and update tensor at next site.\n",
    "    \"\"\"\n",
    "    # perform QR decomposition and replace A by reshaped Q matrix\n",
    "    s = A.shape\n",
    "    assert len(s) == 3\n",
    "    Q, R = np.linalg.qr(np.reshape(A, (s[0]*s[1], s[2])), mode='reduced')\n",
    "    A = np.reshape(Q, (s[0], s[1], Q.shape[1]))\n",
    "    # update Anext tensor: multiply with R from left\n",
    "    Anext = np.transpose(np.tensordot(R, Anext, (1, 1)), (1, 0, 2))\n",
    "    return A, Anext"
   ]
  },
  {
   "cell_type": "code",
   "execution_count": 3,
   "metadata": {},
   "outputs": [],
   "source": [
    "def mps_orthonormalize_left(Alist):\n",
    "    \"\"\"\n",
    "    Left-orthonormalize a MPS using QR decompositions.\n",
    "    The list of tensors in `Alist` are updated in-place.\n",
    "\n",
    "    Returns the overall norm of the original MPS. (The updated MPS has norm 1.)\n",
    "    \"\"\"\n",
    "    for i in range(len(Alist) - 1):\n",
    "        Alist[i], Alist[i+1] = local_orthonormalize_left(Alist[i], Alist[i+1])\n",
    "    # last tensor\n",
    "    Alist[-1], T = local_orthonormalize_left(Alist[-1], np.array([[[1.0]]]))\n",
    "    # normalization factor (real-valued since diagonal of R matrix is real)\n",
    "    assert T.shape == (1, 1, 1)\n",
    "    nrm = T[0, 0, 0].real\n",
    "    if nrm < 0:\n",
    "        # flip sign such that normalization factor is always non-negative\n",
    "        Alist[-1] = -Alist[-1]\n",
    "        nrm = -nrm\n",
    "    return nrm"
   ]
  },
  {
   "cell_type": "code",
   "execution_count": 4,
   "metadata": {},
   "outputs": [],
   "source": [
    "def local_orthonormalize_right(A, Aprev):\n",
    "    \"\"\"\n",
    "    Right-orthonormalize a MPS tensor `A` by a QR decomposition,\n",
    "    and update tensor at previous site.\n",
    "    \"\"\"\n",
    "    # flip left and right virtual bond dimensions\n",
    "    A = np.transpose(A, (0, 2, 1))\n",
    "    # perform QR decomposition and replace A by reshaped Q matrix\n",
    "    s = A.shape\n",
    "    assert len(s) == 3\n",
    "    Q, R = np.linalg.qr(np.reshape(A, (s[0]*s[1], s[2])))\n",
    "    A = np.transpose(np.reshape(Q, (s[0], s[1], Q.shape[1])), (0, 2, 1))\n",
    "    # update Aprev tensor: multiply with R from right\n",
    "    Aprev = np.tensordot(Aprev, R, (2, 1))\n",
    "    return A, Aprev"
   ]
  },
  {
   "cell_type": "code",
   "execution_count": 5,
   "metadata": {},
   "outputs": [],
   "source": [
    "def mps_orthonormalize_right(Alist):\n",
    "    \"\"\"\n",
    "    Right-orthonormalize a MPS using QR decompositions.\n",
    "    The list of tensors in `Alist` are updated in-place.\n",
    "\n",
    "    Returns the overall norm of the original MPS. (The updated MPS has norm 1.)\n",
    "    \"\"\"\n",
    "    for i in reversed(range(1, len(Alist))):\n",
    "        Alist[i], Alist[i-1] = local_orthonormalize_right(Alist[i], Alist[i-1])\n",
    "    # first tensor\n",
    "    Alist[0], T = local_orthonormalize_right(Alist[0], np.array([[[1.0]]]))\n",
    "    # normalization factor (real-valued since diagonal of R matrix is real)\n",
    "    assert T.shape == (1, 1, 1)\n",
    "    nrm = T[0, 0, 0].real\n",
    "    if nrm < 0:\n",
    "        # flip sign such that normalization factor is always non-negative\n",
    "        Alist[0] = -Alist[0]\n",
    "        nrm = -nrm\n",
    "    return nrm"
   ]
  },
  {
   "cell_type": "code",
   "execution_count": 6,
   "metadata": {},
   "outputs": [],
   "source": [
    "def mps_orthonormalize_center(Alist, j):\n",
    "    \"\"\"\n",
    "    Convert a MPS to site-canonical form with center at site `j`, such that\n",
    "    all tensors to the left are left-orthonormal, and\n",
    "    all tensors to the right are right-orthonormal.\n",
    "    The list of tensors in `Alist` are updated in-place.\n",
    "    \"\"\"\n",
    "    assert 0 <= j < len(Alist)\n",
    "    for i in range(j):\n",
    "        Alist[i], Alist[i+1] = local_orthonormalize_left(Alist[i], Alist[i+1])\n",
    "    for i in reversed(range(j+1, len(Alist))):\n",
    "        Alist[i], Alist[i-1] = local_orthonormalize_right(Alist[i], Alist[i-1])"
   ]
  },
  {
   "cell_type": "code",
   "execution_count": 7,
   "metadata": {},
   "outputs": [],
   "source": [
    "def mps_orthonormalize_bond(Alist, j):\n",
    "    \"\"\"\n",
    "    Convert a MPS to bond-canonical form, with a list of \"singular values\"\n",
    "    between the `j`-th and `j+1`-th tensor.\n",
    "    The list of tensors in `Alist` are updated in-place.\n",
    "\n",
    "    Returns the singular value list.\n",
    "    \"\"\"\n",
    "    mps_orthonormalize_center(Alist, j)\n",
    "    # now we only need to update the j-th and (j+1)-th tensor\n",
    "    s = Alist[j].shape\n",
    "    U, S, Vh = np.linalg.svd(np.reshape(Alist[j], (s[0]*s[1], s[2])), full_matrices=False)\n",
    "    Alist[j] = np.reshape(U, (s[0], s[1], U.shape[1]))\n",
    "    if j < len(Alist)-1:\n",
    "        # update Alist[j+1] tensor: multiply with Vh from left\n",
    "        Alist[j+1] = np.transpose(np.tensordot(Vh, Alist[j+1], (1, 1)), (1, 0, 2))\n",
    "    return S"
   ]
  },
  {
   "cell_type": "markdown",
   "metadata": {},
   "source": [
    "## Utility functions"
   ]
  },
  {
   "cell_type": "code",
   "execution_count": 8,
   "metadata": {},
   "outputs": [],
   "source": [
    "def is_left_orthonormal(A):\n",
    "    \"\"\"\n",
    "    Test whether a MPS tensor `A` is left-orthonormal.\n",
    "    \"\"\"\n",
    "    s = A.shape\n",
    "    assert len(s) == 3\n",
    "    A = np.reshape(A, (s[0]*s[1], s[2]))\n",
    "    return np.allclose(A.conj().T @ A, np.identity(s[2]))"
   ]
  },
  {
   "cell_type": "code",
   "execution_count": 9,
   "metadata": {},
   "outputs": [],
   "source": [
    "def is_right_orthonormal(A):\n",
    "    \"\"\"\n",
    "    Test whether a MPS tensor `A` is right-orthonormal.\n",
    "    \"\"\"\n",
    "    # call `is_left_orthonormal` with flipped left and right virtual bond dimensions\n",
    "    return is_left_orthonormal(np.transpose(A, (0, 2, 1)))"
   ]
  },
  {
   "cell_type": "code",
   "execution_count": 10,
   "metadata": {},
   "outputs": [],
   "source": [
    "def mps_to_full_tensor(Alist):\n",
    "    \"\"\"\n",
    "    Construct the full tensor corresponding to the MPS tensors `Alist`.\n",
    "\n",
    "    The i-th MPS tensor Alist[i] is expected to have dimensions (n[i], D[i], D[i+1]),\n",
    "    with `n` the list of logical dimensions and `D` the list of virtual bond dimensions.\n",
    "\n",
    "    Note: Should only be used for debugging and testing.\n",
    "    \"\"\"\n",
    "    # consistency check: dummy singleton dimension\n",
    "    assert Alist[0].ndim == 3 and Alist[0].shape[1] == 1\n",
    "    # formally remove dummy singleton dimension\n",
    "    T = np.reshape(Alist[0], (Alist[0].shape[0], Alist[0].shape[2]))\n",
    "    # contract virtual bonds\n",
    "    for i in range(1, len(Alist)):\n",
    "        T = np.tensordot(T, Alist[i], axes=(-1, 1))\n",
    "    # consistency check: trailing dummy singleton dimension\n",
    "    assert T.shape[-1] == 1\n",
    "    # formally remove trailing singleton dimension\n",
    "    T = np.reshape(T, T.shape[:-1])\n",
    "    return T"
   ]
  },
  {
   "cell_type": "code",
   "execution_count": 11,
   "metadata": {},
   "outputs": [],
   "source": [
    "def mps_bond_to_full_tensor(Alist, S, j):\n",
    "    \"\"\"\n",
    "    Construct the full tensor corresponding to the bond-canonical MPS\n",
    "    with tensors `Alist` and \"bond\" singular values `S` between\n",
    "    the `j`-th and `j+1`-th tensor.\n",
    "    \"\"\"\n",
    "    # absorb bond singular values into j-th tensor\n",
    "    Blist = [np.tensordot(Alist[i], np.diag(S), (2, 1)) if i==j else Alist[i] for i in range(len(Alist))]\n",
    "    return mps_to_full_tensor(Blist)"
   ]
  },
  {
   "cell_type": "code",
   "execution_count": 12,
   "metadata": {},
   "outputs": [],
   "source": [
    "def partial_trace(rho, dimA, dimB):\n",
    "    \"\"\"\n",
    "    Compute the partial traces of a density matrix 'rho' of a composite quantum system AB.\n",
    "\n",
    "    Args:\n",
    "        rho:  density matrix of dimension dimA*dimB x dimA*dimB\n",
    "        dimA: dimension of subsystem A\n",
    "        dimB: dimension of subsystem B\n",
    "    Returns:\n",
    "        tuple: reduced density matrices for subsystems A and B\n",
    "    \"\"\"\n",
    "    # explicit subsystem dimensions\n",
    "    rho = np.reshape(rho, (dimA, dimB, dimA, dimB))\n",
    "    # trace out subsystem B\n",
    "    rhoA = np.trace(rho, axis1=1, axis2=3)\n",
    "    # trace out subsystem A\n",
    "    rhoB = np.trace(rho, axis1=0, axis2=2)\n",
    "    return rhoA, rhoB"
   ]
  },
  {
   "cell_type": "code",
   "execution_count": 13,
   "metadata": {},
   "outputs": [],
   "source": [
    "def crandn(size):\n",
    "    \"\"\"\n",
    "    Draw random samples from the standard complex normal (Gaussian) distribution.\n",
    "    \"\"\"\n",
    "    # 1/sqrt(2) is a normalization factor\n",
    "    return (np.random.normal(size=size) + 1j*np.random.normal(size=size)) / np.sqrt(2)"
   ]
  },
  {
   "cell_type": "code",
   "execution_count": 14,
   "metadata": {},
   "outputs": [],
   "source": [
    "def xlogx(x):\n",
    "    \"\"\"\n",
    "    Compute `x * log(x)` (pointwise), such that the result is zero for `x = 0`.\n",
    "    \"\"\"\n",
    "    y = np.zeros_like(x)\n",
    "    idx = x > 0\n",
    "    y[idx] = x[idx] * np.log(x[idx])\n",
    "    return y"
   ]
  },
  {
   "cell_type": "markdown",
   "metadata": {},
   "source": [
    "## Examples and tests"
   ]
  },
  {
   "cell_type": "code",
   "execution_count": 15,
   "metadata": {},
   "outputs": [],
   "source": [
    "# logical and virtual bond dimensions (rather arbitrarily chosen)\n",
    "n = [2, 5, 3, 4, 6, 3]\n",
    "D = [1, 3, 4, 7, 6, 5, 1]"
   ]
  },
  {
   "cell_type": "code",
   "execution_count": 16,
   "metadata": {},
   "outputs": [
    {
     "name": "stdout",
     "output_type": "stream",
     "text": [
      "[False, False, False, False, False, False]\n",
      "[False, False, False, False, False, False]\n",
      "Tref.shape: (2, 5, 3, 4, 6, 3)\n"
     ]
    }
   ],
   "source": [
    "# random MPS tensors (the scaling factor keeps the norm of the full tensor in a reasonable range)\n",
    "np.random.seed(142)\n",
    "Aref = [0.3 * crandn((n[i], D[i], D[i+1])) for i in range(len(n))]\n",
    "\n",
    "# the tensors are randomly chosen, and in particular not of any normal form\n",
    "print([is_left_orthonormal(A) for A in Aref])\n",
    "print([is_right_orthonormal(A) for A in Aref])\n",
    "\n",
    "# construct the full (dense) tensor which this MPS represents, as reference (should only be constructed for testing and debugging)\n",
    "Tref = mps_to_full_tensor(Aref)\n",
    "# its shape must be equal to `n` from above:\n",
    "print(\"Tref.shape:\", Tref.shape)"
   ]
  },
  {
   "cell_type": "markdown",
   "metadata": {},
   "source": [
    "### Left-orthonormalization"
   ]
  },
  {
   "cell_type": "code",
   "execution_count": 17,
   "metadata": {},
   "outputs": [],
   "source": [
    "# first make a copy of the input tensors\n",
    "AL = [A.copy() for A in Aref]\n",
    "\n",
    "# function returns norm of input MPS\n",
    "nrmL = mps_orthonormalize_left(AL)"
   ]
  },
  {
   "cell_type": "code",
   "execution_count": 18,
   "metadata": {},
   "outputs": [
    {
     "data": {
      "text/plain": [
       "[True, True, True, True, True, True]"
      ]
     },
     "execution_count": 18,
     "metadata": {},
     "output_type": "execute_result"
    }
   ],
   "source": [
    "# these should all be True\n",
    "[is_left_orthonormal(A) for A in AL]"
   ]
  },
  {
   "cell_type": "code",
   "execution_count": 19,
   "metadata": {},
   "outputs": [
    {
     "data": {
      "text/plain": [
       "1.2965535991355328"
      ]
     },
     "execution_count": 19,
     "metadata": {},
     "output_type": "execute_result"
    }
   ],
   "source": [
    "nrmL"
   ]
  },
  {
   "cell_type": "code",
   "execution_count": 20,
   "metadata": {},
   "outputs": [
    {
     "data": {
      "text/plain": [
       "0.0"
      ]
     },
     "execution_count": 20,
     "metadata": {},
     "output_type": "execute_result"
    }
   ],
   "source": [
    "# compare norm with reference\n",
    "abs(nrmL - np.linalg.norm(np.reshape(Tref, -1))) / abs(nrmL)"
   ]
  },
  {
   "cell_type": "code",
   "execution_count": 21,
   "metadata": {},
   "outputs": [
    {
     "data": {
      "text/plain": [
       "8.644849870488704e-16"
      ]
     },
     "execution_count": 21,
     "metadata": {},
     "output_type": "execute_result"
    }
   ],
   "source": [
    "# compare full tensor with reference: difference should be zero (up to numerical rounding errors)\n",
    "np.linalg.norm(nrmL*mps_to_full_tensor(AL) - Tref)"
   ]
  },
  {
   "cell_type": "markdown",
   "metadata": {},
   "source": [
    "### Right-orthonormalization"
   ]
  },
  {
   "cell_type": "code",
   "execution_count": 22,
   "metadata": {},
   "outputs": [],
   "source": [
    "# first make a copy of the input tensors\n",
    "AR = [A.copy() for A in Aref]\n",
    "\n",
    "# function returns norm of input MPS\n",
    "nrmR = mps_orthonormalize_right(AR)"
   ]
  },
  {
   "cell_type": "code",
   "execution_count": 23,
   "metadata": {},
   "outputs": [
    {
     "data": {
      "text/plain": [
       "[True, True, True, True, True, True]"
      ]
     },
     "execution_count": 23,
     "metadata": {},
     "output_type": "execute_result"
    }
   ],
   "source": [
    "# these should all be True\n",
    "[is_right_orthonormal(A) for A in AR]"
   ]
  },
  {
   "cell_type": "code",
   "execution_count": 24,
   "metadata": {},
   "outputs": [
    {
     "data": {
      "text/plain": [
       "1.2965535991355326"
      ]
     },
     "execution_count": 24,
     "metadata": {},
     "output_type": "execute_result"
    }
   ],
   "source": [
    "nrmR"
   ]
  },
  {
   "cell_type": "code",
   "execution_count": 25,
   "metadata": {},
   "outputs": [
    {
     "data": {
      "text/plain": [
       "1.7125755932734126e-16"
      ]
     },
     "execution_count": 25,
     "metadata": {},
     "output_type": "execute_result"
    }
   ],
   "source": [
    "# compare norm with reference\n",
    "abs(nrmR - np.linalg.norm(np.reshape(Tref, -1))) / abs(nrmR)"
   ]
  },
  {
   "cell_type": "code",
   "execution_count": 26,
   "metadata": {},
   "outputs": [
    {
     "data": {
      "text/plain": [
       "1.0218155152157865e-15"
      ]
     },
     "execution_count": 26,
     "metadata": {},
     "output_type": "execute_result"
    }
   ],
   "source": [
    "# compare full tensor with reference: difference should be zero (up to numerical rounding errors)\n",
    "np.linalg.norm(nrmR*mps_to_full_tensor(AR) - Tref)"
   ]
  },
  {
   "cell_type": "markdown",
   "metadata": {},
   "source": [
    "### Site-canonical form"
   ]
  },
  {
   "cell_type": "code",
   "execution_count": 27,
   "metadata": {},
   "outputs": [],
   "source": [
    "# again make a copy first\n",
    "AC = [A.copy() for A in Aref]\n",
    "\n",
    "# tensors are updated in-place, and overall norm is preserved (function has no formal return value)\n",
    "jcenter = 2\n",
    "mps_orthonormalize_center(AC, jcenter)"
   ]
  },
  {
   "cell_type": "code",
   "execution_count": 28,
   "metadata": {},
   "outputs": [
    {
     "data": {
      "text/plain": [
       "[True, True]"
      ]
     },
     "execution_count": 28,
     "metadata": {},
     "output_type": "execute_result"
    }
   ],
   "source": [
    "# these should all be True\n",
    "[is_left_orthonormal(A) for A in AC[:jcenter]]"
   ]
  },
  {
   "cell_type": "code",
   "execution_count": 29,
   "metadata": {},
   "outputs": [
    {
     "data": {
      "text/plain": [
       "[True, True, True]"
      ]
     },
     "execution_count": 29,
     "metadata": {},
     "output_type": "execute_result"
    }
   ],
   "source": [
    "# these should all be True\n",
    "[is_right_orthonormal(A) for A in AC[jcenter+1:]]"
   ]
  },
  {
   "cell_type": "code",
   "execution_count": 30,
   "metadata": {},
   "outputs": [
    {
     "data": {
      "text/plain": [
       "False"
      ]
     },
     "execution_count": 30,
     "metadata": {},
     "output_type": "execute_result"
    }
   ],
   "source": [
    "# \"center\" tensor is not orthonormal in general\n",
    "is_left_orthonormal(AC[jcenter]) or is_right_orthonormal(AC[jcenter])"
   ]
  },
  {
   "cell_type": "code",
   "execution_count": 31,
   "metadata": {},
   "outputs": [
    {
     "data": {
      "text/plain": [
       "9.779738873997546e-16"
      ]
     },
     "execution_count": 31,
     "metadata": {},
     "output_type": "execute_result"
    }
   ],
   "source": [
    "# compare full tensor with reference: difference should be zero (up to numerical rounding errors)\n",
    "np.linalg.norm(mps_to_full_tensor(AC) - Tref)"
   ]
  },
  {
   "cell_type": "markdown",
   "metadata": {},
   "source": [
    "### Bond-canonical form"
   ]
  },
  {
   "cell_type": "code",
   "execution_count": 32,
   "metadata": {},
   "outputs": [],
   "source": [
    "# again make a copy first\n",
    "AB = [A.copy() for A in Aref]\n",
    "\n",
    "jbond = 3\n",
    "S = mps_orthonormalize_bond(AB, jbond)"
   ]
  },
  {
   "cell_type": "code",
   "execution_count": 33,
   "metadata": {},
   "outputs": [
    {
     "data": {
      "text/plain": [
       "array([0.85731111, 0.65318151, 0.47655434, 0.39473114, 0.27652958,\n",
       "       0.24502551])"
      ]
     },
     "execution_count": 33,
     "metadata": {},
     "output_type": "execute_result"
    }
   ],
   "source": [
    "# list of singular values for \"cut\" at `jbond`\n",
    "S"
   ]
  },
  {
   "cell_type": "code",
   "execution_count": 34,
   "metadata": {},
   "outputs": [
    {
     "data": {
      "text/plain": [
       "[True, True, True, True, True, True]"
      ]
     },
     "execution_count": 34,
     "metadata": {},
     "output_type": "execute_result"
    }
   ],
   "source": [
    "# these should all be True\n",
    "[is_left_orthonormal(AB[j]) if j <= jbond else is_right_orthonormal(AB[j]) for j in range(len(AB))]"
   ]
  },
  {
   "cell_type": "code",
   "execution_count": 35,
   "metadata": {},
   "outputs": [
    {
     "data": {
      "text/plain": [
       "2.1736105253689997e-15"
      ]
     },
     "execution_count": 35,
     "metadata": {},
     "output_type": "execute_result"
    }
   ],
   "source": [
    "# compare full tensor with reference: difference should be zero (up to numerical rounding errors)\n",
    "np.linalg.norm(mps_bond_to_full_tensor(AB, S, jbond) - Tref)"
   ]
  },
  {
   "cell_type": "markdown",
   "metadata": {},
   "source": [
    "### Bond-singular values and entanglement entropy"
   ]
  },
  {
   "cell_type": "code",
   "execution_count": 36,
   "metadata": {},
   "outputs": [
    {
     "name": "stdout",
     "output_type": "stream",
     "text": [
      "ρA.shape: (120, 120)\n",
      "ρB.shape: (18, 18)\n"
     ]
    }
   ],
   "source": [
    "# compute (reduced) density matrices, as reference\n",
    "ρref = np.outer(Tref, Tref.conj())\n",
    "ρA, ρB = partial_trace(ρref, np.prod(n[:jbond+1]), np.prod(n[jbond+1:]))\n",
    "print(\"ρA.shape:\", ρA.shape)\n",
    "print(\"ρB.shape:\", ρB.shape)"
   ]
  },
  {
   "cell_type": "code",
   "execution_count": 37,
   "metadata": {},
   "outputs": [
    {
     "data": {
      "text/plain": [
       "0.0"
      ]
     },
     "execution_count": 37,
     "metadata": {},
     "output_type": "execute_result"
    }
   ],
   "source": [
    "# must be Hermitian\n",
    "np.linalg.norm(ρA - ρA.conj().T)"
   ]
  },
  {
   "cell_type": "code",
   "execution_count": 38,
   "metadata": {},
   "outputs": [
    {
     "data": {
      "text/plain": [
       "0.0"
      ]
     },
     "execution_count": 38,
     "metadata": {},
     "output_type": "execute_result"
    }
   ],
   "source": [
    "# must be Hermitian\n",
    "np.linalg.norm(ρB - ρB.conj().T)"
   ]
  },
  {
   "cell_type": "code",
   "execution_count": 39,
   "metadata": {},
   "outputs": [],
   "source": [
    "λA = np.linalg.eigvalsh(ρA)\n",
    "λB = np.linalg.eigvalsh(ρB)"
   ]
  },
  {
   "cell_type": "code",
   "execution_count": 40,
   "metadata": {},
   "outputs": [
    {
     "data": {
      "text/plain": [
       "array([-1.54182361e-16, -1.30730518e-16, -9.83541762e-17, -4.64791110e-17,\n",
       "       -3.88797472e-17, -3.04037437e-17, -2.82138796e-17, -2.50696642e-17,\n",
       "       -2.38757875e-17, -2.30254038e-17, -2.00888655e-17, -1.88031413e-17,\n",
       "       -1.75596766e-17, -1.65973383e-17, -1.59106542e-17, -1.49152889e-17,\n",
       "       -1.38888153e-17, -1.27755832e-17, -1.21294079e-17, -1.18671423e-17,\n",
       "       -1.14319814e-17, -1.10698936e-17, -1.03759605e-17, -1.00599632e-17,\n",
       "       -9.59198363e-18, -8.97965856e-18, -8.84764308e-18, -8.04376706e-18,\n",
       "       -7.67470863e-18, -7.06007447e-18, -6.92889582e-18, -6.44172905e-18,\n",
       "       -6.02444840e-18, -5.87725788e-18, -5.51037840e-18, -5.10092616e-18,\n",
       "       -4.96695783e-18, -4.69319368e-18, -4.48153842e-18, -4.10138385e-18,\n",
       "       -3.76912983e-18, -3.33861790e-18, -3.09683876e-18, -2.99047651e-18,\n",
       "       -2.64129052e-18, -2.51032500e-18, -2.18550132e-18, -1.95568645e-18,\n",
       "       -1.78537791e-18, -1.57843143e-18, -1.31866528e-18, -1.27989976e-18,\n",
       "       -1.14203019e-18, -9.98935900e-19, -7.20918565e-19, -5.15170540e-19,\n",
       "       -4.04281236e-19, -2.15579347e-19,  5.33385959e-20,  1.94203432e-19,\n",
       "        3.60591887e-19,  4.12247500e-19,  7.19128204e-19,  9.40118574e-19,\n",
       "        1.04708468e-18,  1.18446530e-18,  1.43316992e-18,  1.56792364e-18,\n",
       "        1.74757811e-18,  1.97906401e-18,  2.13989261e-18,  2.45585788e-18,\n",
       "        2.64410881e-18,  2.94413547e-18,  3.04696176e-18,  3.43905833e-18,\n",
       "        3.55181004e-18,  3.81914693e-18,  4.04307570e-18,  4.30605562e-18,\n",
       "        4.73789130e-18,  5.13053581e-18,  5.40321023e-18,  5.72376015e-18,\n",
       "        6.10584612e-18,  6.70909588e-18,  6.94657887e-18,  7.33865832e-18,\n",
       "        7.89521571e-18,  8.10807407e-18,  8.53584343e-18,  9.03345468e-18,\n",
       "        9.42585781e-18,  1.01999816e-17,  1.12109146e-17,  1.14281566e-17,\n",
       "        1.22710988e-17,  1.27591128e-17,  1.30644090e-17,  1.42387456e-17,\n",
       "        1.49086040e-17,  1.58082692e-17,  1.62347651e-17,  1.82694884e-17,\n",
       "        2.02411114e-17,  2.10562952e-17,  2.41554016e-17,  2.64104197e-17,\n",
       "        3.00803049e-17,  3.41141990e-17,  5.69658958e-17,  9.09229479e-17,\n",
       "        1.36044406e-16,  2.52810908e-16,  6.00375012e-02,  7.64686066e-02,\n",
       "        1.55812673e-01,  2.27104043e-01,  4.26646080e-01,  7.34982332e-01])"
      ]
     },
     "execution_count": 40,
     "metadata": {},
     "output_type": "execute_result"
    }
   ],
   "source": [
    "# most of them are actually zero\n",
    "λA"
   ]
  },
  {
   "cell_type": "code",
   "execution_count": 41,
   "metadata": {},
   "outputs": [],
   "source": [
    "# filter out zero eigenvalues\n",
    "λA = λA[np.logical_not(np.isclose(λA, 0, atol=1e-13))]\n",
    "λB = λB[np.logical_not(np.isclose(λB, 0, atol=1e-13))]\n",
    "\n",
    "# sort in descending order\n",
    "λA = np.sort(λA)[::-1]\n",
    "λB = np.sort(λB)[::-1]"
   ]
  },
  {
   "cell_type": "code",
   "execution_count": 42,
   "metadata": {},
   "outputs": [
    {
     "data": {
      "text/plain": [
       "array([0.73498233, 0.42664608, 0.22710404, 0.15581267, 0.07646861,\n",
       "       0.0600375 ])"
      ]
     },
     "execution_count": 42,
     "metadata": {},
     "output_type": "execute_result"
    }
   ],
   "source": [
    "λA"
   ]
  },
  {
   "cell_type": "code",
   "execution_count": 43,
   "metadata": {},
   "outputs": [
    {
     "data": {
      "text/plain": [
       "3.835896867111847e-16"
      ]
     },
     "execution_count": 43,
     "metadata": {},
     "output_type": "execute_result"
    }
   ],
   "source": [
    "# compare: should agree\n",
    "np.linalg.norm(λA - λB)"
   ]
  },
  {
   "cell_type": "code",
   "execution_count": 44,
   "metadata": {},
   "outputs": [
    {
     "data": {
      "text/plain": [
       "6.828731857268665e-16"
      ]
     },
     "execution_count": 44,
     "metadata": {},
     "output_type": "execute_result"
    }
   ],
   "source": [
    "# compare: should agree with bond-singular values from above\n",
    "np.linalg.norm(λA - S**2)"
   ]
  },
  {
   "cell_type": "code",
   "execution_count": 45,
   "metadata": {},
   "outputs": [
    {
     "data": {
      "text/plain": [
       "array([0.66122303, 0.50378288, 0.36755468, 0.30444645, 0.21328048,\n",
       "       0.18898217])"
      ]
     },
     "execution_count": 45,
     "metadata": {},
     "output_type": "execute_result"
    }
   ],
   "source": [
    "# normalize singular values\n",
    "Snrm = S / np.linalg.norm(S)\n",
    "Snrm"
   ]
  },
  {
   "cell_type": "code",
   "execution_count": 46,
   "metadata": {},
   "outputs": [
    {
     "data": {
      "image/png": "[encoded data removed]",
      "text/plain": [
       "<Figure size 432x288 with 1 Axes>"
      ]
     },
     "metadata": {
      "needs_background": "light"
     },
     "output_type": "display_data"
    }
   ],
   "source": [
    "plt.semilogy(range(1, len(Snrm) + 1), Snrm**2, '.')\n",
    "plt.ylabel(\"$\\\\sigma_j^2$\")\n",
    "plt.xlabel(\"$j$\")\n",
    "plt.title(\"normalized singular values for cut at bond {}\".format(jbond))\n",
    "plt.show()"
   ]
  },
  {
   "cell_type": "code",
   "execution_count": 47,
   "metadata": {},
   "outputs": [
    {
     "data": {
      "text/plain": [
       "1.460203986361991"
      ]
     },
     "execution_count": 47,
     "metadata": {},
     "output_type": "execute_result"
    }
   ],
   "source": [
    "# finally compute entanglement entropy\n",
    "np.sum(-xlogx(Snrm**2))"
   ]
  }
 ],
 "metadata": {
  "kernelspec": {
   "display_name": "Python 3 (ipykernel)",
   "language": "python",
   "name": "python3"
  },
  "language_info": {
   "codemirror_mode": {
    "name": "ipython",
    "version": 3
   },
   "file_extension": ".py",
   "mimetype": "text/x-python",
   "name": "python",
   "nbconvert_exporter": "python",
   "pygments_lexer": "ipython3",
   "version": "3.9.7"
  }
 },
 "nbformat": 4,
 "nbformat_minor": 4
}
